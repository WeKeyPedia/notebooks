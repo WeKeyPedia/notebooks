{
 "cells": [
  {
   "cell_type": "code",
   "execution_count": 107,
   "metadata": {
    "collapsed": false
   },
   "outputs": [
    {
     "name": "stdout",
     "output_type": "stream",
     "text": [
      "common libraries loaded\n"
     ]
    }
   ],
   "source": [
    "%run \"libraries.ipynb\""
   ]
  },
  {
   "cell_type": "markdown",
   "metadata": {},
   "source": [
    "# page selection"
   ]
  },
  {
   "cell_type": "code",
   "execution_count": 4,
   "metadata": {
    "collapsed": true
   },
   "outputs": [],
   "source": [
    "pages = codecs.open(\"data/pagenames.txt\",\"r\", \"utf-8-sig\").readlines()\n",
    "pages = map(lambda x: x.strip(), pages)"
   ]
  },
  {
   "cell_type": "code",
   "execution_count": 149,
   "metadata": {
    "collapsed": true
   },
   "outputs": [],
   "source": [
    "page = \"Triangle\""
   ]
  },
  {
   "cell_type": "markdown",
   "metadata": {},
   "source": [
    "## clickstream"
   ]
  },
  {
   "cell_type": "code",
   "execution_count": 150,
   "metadata": {
    "collapsed": false
   },
   "outputs": [],
   "source": [
    "with codecs.open(\"data/clickstream/{0}.json\".format(page), \"r\", \"utf-8-sig\") as f:\n",
    "  clickstreams = json.load(f)"
   ]
  },
  {
   "cell_type": "code",
   "execution_count": 151,
   "metadata": {
    "collapsed": false
   },
   "outputs": [
    {
     "data": {
      "text/html": [
       "<div style=\"max-height:1000px;max-width:1500px;overflow:auto;\">\n",
       "<table border=\"1\" class=\"dataframe\">\n",
       "  <thead>\n",
       "    <tr style=\"text-align: right;\">\n",
       "      <th></th>\n",
       "      <th>out</th>\n",
       "      <th>in</th>\n",
       "    </tr>\n",
       "    <tr>\n",
       "      <th>page</th>\n",
       "      <th></th>\n",
       "      <th></th>\n",
       "    </tr>\n",
       "  </thead>\n",
       "  <tbody>\n",
       "    <tr>\n",
       "      <th>Acute</th>\n",
       "      <td>0</td>\n",
       "      <td>39</td>\n",
       "    </tr>\n",
       "    <tr>\n",
       "      <th>Acute and obtuse triangles</th>\n",
       "      <td>109</td>\n",
       "      <td>33</td>\n",
       "    </tr>\n",
       "    <tr>\n",
       "      <th>Adjacent</th>\n",
       "      <td>0</td>\n",
       "      <td>23</td>\n",
       "    </tr>\n",
       "    <tr>\n",
       "      <th>Altitude (triangle)</th>\n",
       "      <td>90</td>\n",
       "      <td>18</td>\n",
       "    </tr>\n",
       "    <tr>\n",
       "      <th>Angle</th>\n",
       "      <td>42</td>\n",
       "      <td>25</td>\n",
       "    </tr>\n",
       "  </tbody>\n",
       "</table>\n",
       "</div>"
      ],
      "text/plain": [
       "                            out  in\n",
       "page                               \n",
       "Acute                         0  39\n",
       "Acute and obtuse triangles  109  33\n",
       "Adjacent                      0  23\n",
       "Altitude (triangle)          90  18\n",
       "Angle                        42  25"
      ]
     },
     "execution_count": 151,
     "metadata": {},
     "output_type": "execute_result"
    }
   ],
   "source": [
    "# print(clickstreams)\n",
    "\n",
    "df_clickstreams = pd.DataFrame(clickstreams[\"out\"].items(), columns=[\"page\", \"out\"]).set_index(\"page\")\n",
    "\n",
    "df_clickstreams = df_clickstreams.join(pd.DataFrame(clickstreams[\"in\"].items(), columns=[\"page\", \"in\"]).set_index(\"page\"), how=\"outer\", rsuffix=\"in\")\n",
    "\n",
    "df_clickstreams = df_clickstreams.fillna(0)\n",
    "\n",
    "df_clickstreams = df_clickstreams.convert_objects(convert_numeric=True) \n",
    "\n",
    "df_clickstreams.head()"
   ]
  },
  {
   "cell_type": "code",
   "execution_count": 152,
   "metadata": {
    "collapsed": false
   },
   "outputs": [
    {
     "data": {
      "text/html": [
       "<div style=\"max-height:1000px;max-width:1500px;overflow:auto;\">\n",
       "<table border=\"1\" class=\"dataframe\">\n",
       "  <thead>\n",
       "    <tr style=\"text-align: right;\">\n",
       "      <th></th>\n",
       "      <th>out</th>\n",
       "      <th>in</th>\n",
       "      <th>m</th>\n",
       "    </tr>\n",
       "    <tr>\n",
       "      <th>page</th>\n",
       "      <th></th>\n",
       "      <th></th>\n",
       "      <th></th>\n",
       "    </tr>\n",
       "  </thead>\n",
       "  <tbody>\n",
       "    <tr>\n",
       "      <th>Acute</th>\n",
       "      <td>0</td>\n",
       "      <td>39</td>\n",
       "      <td>19.5</td>\n",
       "    </tr>\n",
       "    <tr>\n",
       "      <th>Acute and obtuse triangles</th>\n",
       "      <td>109</td>\n",
       "      <td>33</td>\n",
       "      <td>71.0</td>\n",
       "    </tr>\n",
       "    <tr>\n",
       "      <th>Adjacent</th>\n",
       "      <td>0</td>\n",
       "      <td>23</td>\n",
       "      <td>11.5</td>\n",
       "    </tr>\n",
       "    <tr>\n",
       "      <th>Altitude (triangle)</th>\n",
       "      <td>90</td>\n",
       "      <td>18</td>\n",
       "      <td>54.0</td>\n",
       "    </tr>\n",
       "    <tr>\n",
       "      <th>Angle</th>\n",
       "      <td>42</td>\n",
       "      <td>25</td>\n",
       "      <td>33.5</td>\n",
       "    </tr>\n",
       "  </tbody>\n",
       "</table>\n",
       "</div>"
      ],
      "text/plain": [
       "                            out  in     m\n",
       "page                                     \n",
       "Acute                         0  39  19.5\n",
       "Acute and obtuse triangles  109  33  71.0\n",
       "Adjacent                      0  23  11.5\n",
       "Altitude (triangle)          90  18  54.0\n",
       "Angle                        42  25  33.5"
      ]
     },
     "execution_count": 152,
     "metadata": {},
     "output_type": "execute_result"
    }
   ],
   "source": [
    "df_clickstreams[\"m\"] = df_clickstreams.apply(lambda r: (float(r[\"out\"]) + float(r[\"in\"])) * 0.5, axis=1 )\n",
    "\n",
    "df_clickstreams.head()"
   ]
  },
  {
   "cell_type": "code",
   "execution_count": 153,
   "metadata": {
    "collapsed": false
   },
   "outputs": [
    {
     "data": {
      "image/png": "[encoded data removed]",
      "text/plain": [
       "<matplotlib.figure.Figure at 0x113e961d0>"
      ]
     },
     "metadata": {},
     "output_type": "display_data"
    }
   ],
   "source": [
    "df = df_clickstreams.loc[[ i for i in df_clickstreams.index if \"other-\" not in i and i != \"Main_Page\"],:]\n",
    "\n",
    "sns.jointplot(x=\"in\", y=\"out\", data=df);"
   ]
  },
  {
   "cell_type": "markdown",
   "metadata": {},
   "source": [
    "## position"
   ]
  },
  {
   "cell_type": "code",
   "execution_count": 154,
   "metadata": {
    "collapsed": false
   },
   "outputs": [],
   "source": [
    "with codecs.open(\"data/pages/{0}.json\".format(page), \"r\", \"utf-8-sig\") as f:\n",
    "  q = json.load(f)\n",
    "\n",
    "  content = q[\"query\"][\"pages\"][q[\"query\"][\"pages\"].keys()[0]][\"revisions\"][0][\"*\"]"
   ]
  },
  {
   "cell_type": "code",
   "execution_count": 155,
   "metadata": {
    "collapsed": false,
    "scrolled": false
   },
   "outputs": [
    {
     "name": "stdout",
     "output_type": "stream",
     "text": [
      "573\n",
      "\n",
      "64\n",
      "[u'Schl\\xe4fli symbol', u'Polygon', u'Shape', u'Geometry', u'Euclidean geometry', u'Equilateral triangle', u'Isosceles triangle', u'Isosceles triangle', u'Right triangle', u'Angle', u'Pythagorean theorem', u'Pythagorean triple', u'Right triangle', u'Polytope', u'Parallel postulate', u'Similarity (geometry)', u'Congruence (geometry)', u'Angle', u'Trigonometry', u'Pythagorean theorem', u'Right triangle', u'Triangle inequality', u'Triangle', u'Concurrent lines', u'Circle', u\"Thales' theorem\", u'Altitude (triangle)', u'Orthocentric system', u'Nine-point circle', u'Nine-point circle', u'Nine-point circle', u'Symmedian', u'Right triangle', u'Right triangle', u'Trigonometry', u'Trigonometry', u'Sphere', u'Astronomy', u'Trigonometry', u\"Heron's formula\", u'Polygon', u\"Pick's theorem\", u'Incircle and excircles of a triangle', u'Cyclic quadrilateral', u'Ellipse', u'Polygon', u'Pedal triangle', u'Spherical geometry', u'Hyperbolic geometry', u'Sphere', u'Rectangle', u'Tessellation', u'Congruence (geometry)', u\"Desargues' theorem\", u'Heronian triangle', u'Integer triangle', u'List of triangle inequalities', u'List of triangle topics', u'Pedal triangle', u\"Pedoe's inequality\", u'Pythagorean theorem', u'Equilateral triangle', u'Square', u'Star polygon']\n",
      "\n",
      "98\n",
      "[u'Schl\\xe4fli symbol', u'Internal and external angle', u'Polygon', u'Shape', u'Geometry', u'Euclidean geometry', u'Equilateral triangle', u'Isosceles triangle', u'Pons asinorum', u'Equilateral triangle', u'Isosceles triangle', u'Triangle', u'Internal and external angle', u'Right triangle', u'Angle', u'Pythagorean theorem', u'Pythagorean triple', u'Acute and obtuse triangles', u'Acute and obtuse triangles', u'Acute and obtuse triangles', u'Right triangle', u'Acute and obtuse triangles', u'Acute and obtuse triangles', u'Geometric shape', u'Polytope', u'Parallel postulate', u'Internal and external angle', u'Angle', u'Similarity (geometry)', u'Congruence (geometry)', u'Angle', u'Trigonometry', u'Pythagorean theorem', u'Right triangle', u'Angle', u'Triangle inequality', u'Triangle', u'Concurrent lines', u'Circumscribed circle', u'Circumscribed circle', u'Circumscribed circle', u'Circle', u\"Thales' theorem\", u'Altitude (triangle)', u'Altitude (triangle)', u'Altitude (triangle)', u'Incircle and excircles of a triangle', u'Incircle and excircles of a triangle', u'Incircle and excircles of a triangle', u'Orthocentric system', u'Nine-point circle', u'Nine-point circle', u'Altitude (triangle)', u'Nine-point circle', u'Incircle and excircles of a triangle', u'Euler line', u'Euler line', u'Symmedian', u'Symmedian', u'Right triangle', u'Right triangle', u'Similarity (geometry)', u'Trigonometry', u'Trigonometry', u'Sphere', u'Astronomy', u'Trigonometry', u\"Heron's formula\", u'Polygon', u\"Pick's theorem\", u'Incircle and excircles of a triangle', u'Incircle and excircles of a triangle', u'Cyclic quadrilateral', u'Angle trisection', u'Ellipse', u'Symmedian', u'Polygon', u'Pedal triangle', u'Incircle and excircles of a triangle', u'Conic section', u'Spherical trigonometry', u'Spherical geometry', u'Hyperbolic geometry', u'Sphere', u'Rectangle', u'Tessellation', u'Congruence (geometry)', u\"Desargues' theorem\", u'Heronian triangle', u'Integer triangle', u'List of triangle inequalities', u'List of triangle topics', u'Pedal triangle', u\"Pedoe's inequality\", u'Pythagorean theorem', u'Equilateral triangle', u'Square', u'Star polygon']\n",
      "\n"
     ]
    }
   ],
   "source": [
    "links = BeautifulSoup(content, 'html.parser').find_all('a')\n",
    "\n",
    "print len(links)\n",
    "# print [ l.get(\"title\") for l in links ]\n",
    "print \"\"\n",
    "\n",
    "links1 = [ l.get(\"title\") for l in links if l.get(\"title\") in pages ]\n",
    "print len(links1)\n",
    "print links1\n",
    "print \"\"\n",
    "\n",
    "def get_redirects(pagename):\n",
    "    if os.path.isfile(u\"data/redirects/{0}.json\".format(pagename)):\n",
    "        with codecs.open(u\"data/redirects/{0}.json\".format(pagename), \"r\", \"utf-8-sig\") as f:\n",
    "            redirects = json.load(f)\n",
    "        \n",
    "        return [ r[\"title\"] for r in redirects ]\n",
    "    \n",
    "    else:\n",
    "        return []\n",
    "    \n",
    "redirects = { pagename: get_redirects(pagename) for pagename in pages }\n",
    "\n",
    "links2 = []\n",
    "\n",
    "for l in [ l.get(\"title\") for l in links ]:\n",
    "    if l in pages:\n",
    "        links2.append(l)\n",
    "    \n",
    "    for pagename, r in redirects.iteritems() :\n",
    "        if l in r:\n",
    "            links2.append(pagename)\n",
    "    \n",
    "\n",
    "print len(links2)\n",
    "print links2\n",
    "print \"\""
   ]
  },
  {
   "cell_type": "code",
   "execution_count": 156,
   "metadata": {
    "collapsed": false
   },
   "outputs": [
    {
     "name": "stdout",
     "output_type": "stream",
     "text": [
      "set([u'Heptagon', u'Triacontagon', u'Edit section: Specifying the location of a point in a triangle', u'If and only if', u'Megagon', u'MathWorld', u'Angle bisector', u'Spherical triangle', u'Centroid', u'Theorem', u'Flatiron Building', u'Hectogon', u'Edit section: Sine, cosine and tangent', u'Broadway (Manhattan)', u'Solution of triangles', u'Indian astronomy', u'Pythagorean sum', u'Edit section: Using trigonometry', u'Encyclopedia of Mathematics', u'Apeirogon', u\"Edit section: Formulas resembling Heron's formula\", u'Midpoint', u'Triangular prism', u'Myriagon', u'Digital object identifier', u'Triangulation (topology)', u'Earthquake', u'Inverse trigonometric functions', u'Absolute value', u'Law of sines', u'Space frame', u'Triangular number', u'Conic', u'257-gon', u'wikt:collinear', u'Edit section: External links', u\"Marden's theorem\", u'Hyperbolic triangle', u'Finite subdivision rule', u'Pentagram', u'Similar triangles', u'Incenter', u'wiktionary:Special:Search/triangle', u'Steiner ellipse', u'Edit section: Other area formulas', u'Law of cosines', u'Enneacontagon', u'Trilinear coordinates', u'Edit section: References', u\"Edit section: Using Heron's formula\", u'Edit section: Figures inscribed in a triangle', u'Barycentric coordinates (mathematics)', u'Edit section: Convex polygon', u'Pentagon', u\"Menelaus' theorem\", u'Dodecagon', u'Regular polygon', u'Area', u'Edit section: Trigonometric ratios in right triangles', u'Degree (angle)', u\"Morley's trisector theorem\", u'Shoelace formula', u'Center of mass', u'Degeneracy (mathematics)', u'Symmedian point', u'Edit section: Computing the area of a triangle', u'Orthocenter', u'Lattice graph', u'Edit section: Hexagon', u'Scalene triangle', u'Norway', u'Euler diagram', u'Circumcircle', u'Extouch triangle', u'Cantilever', u'New York City', u'wikt:convex', u'Exterior angle theorem', u'Edit section: Right triangles', u'Construction', u'Simplex', u'Plane figure', u'Triangulated category', u'Octacontagon', u'Dodecagram', u'Improper regular polygon', u'Hexacontagon', u'Tangent line', u'Edit section: Using vectors', u'Encyclopedia of Triangle Centers', u'Determinant', u'Pentadecagon', u'Sum of angles of a triangle', u'Mathematics Magazine', u'65537-gon', u'Dimension', u'Aryabhata', u'Inverse function', u\"Ono's inequality\", u'Vector (geometric)', u'Nature', u\"Euler's line\", u'Steiner inellipse', u'Median (geometry)', u'Acute triangle', u'American Mathematical Monthly', u'Edit section: By internal angles', u'Tetracontagon', u'Edit section: Further formulas for general Euclidean triangles', u'Heptacontagon', u'Hadwiger\\u2013Finsler inequality', u'wikt:cathetus', u'Hendecagram', u'Edit section: Upper bound on the area', u'Gergonne triangle', u'wikt:Isosceles triangle', u'Law of tangents', u'Equilateral Triangle', u'Decagon', u'Edit section: Inverse functions', u'Edit section: Non-planar triangles', u'Necessary and sufficient condition', u'Heptadecagon', u'Supplementary angle', u'Obtuse triangle', u'Plane (mathematics)', u'International Standard Book Number', u'Internal angle', u\"Ceva's theorem\", u'Triangle (disambiguation)', u\"Edit section: Morley's trisector theorem\", u'Angle trisector', u'Circumcenter', u'Incircle', u'Indian mathematics', u'Icosagon', u'Cartesian coordinates', u'Edit section: Basic facts', u'Trigonometric functions', u'Euclidean vector', u'Special:BookSources/978-0-19-850763-5', u'Tangential polygon', u\"Dragon's Eye (symbol)\", u'Semiperimeter', u'Edit section: By relative lengths of sides', u'Chiliagon', u'Edit section: Existence of a triangle', u'Mathematician', u'Parallelogram', u'Cartesian plane', u'Excircle', u'Complementary angles', u'Enlarge', u'Cross product', u'BAMBI (geometry) (page does not exist)', u'Vertex (geometry)', u'Edit section: Computing the sides and angles', u'Euclidean space', u\"Apollonius' theorem\", u'Enneagram (geometry)', u'Aryabhatiya', u'Tetrakis square tiling', u'Navigation', u'Tangential triangle', u'Saddle surface', u'Hexadecagon', u'Edit section: Notes', u'Oxford University Press', u'Edit section: Triangles in construction', u'Icositetragon', u\"Euler's theorem in geometry\", u'Bricks', u'Fermat point', u'Edit section: Using coordinates', u'Edit section: Squares', u'Lie algebra', u'Great circle', u'Lemoine hexagon', u'Octagram', u'Tally marks', u'Inertia tensor of triangle', u\"Lester's theorem\", None, u'Hendecagon', u'Edit section: Trigonometric conditions', u'Midpoint triangle', u'Hatch mark', u'Template:Polygons', u'Pentacontagon', u'Enneadecagon', u'Edit section: Similarity and congruence', u'Hexagram', u'Nonagon', u'Polar coordinates', u'Heptagram', u'Geodesy', u'Edit section: Figures circumscribed about a triangle', u'Bisection', u'Edit section: Types of triangle', u'Tridecagon', u\"Edit section: Using Pick's theorem\", u'Springer Science+Business Media', u'Inradius', u'Isosceles triangle theorem', u'commons:Category:Triangles', u'Octagon', u'Mandart inellipse', u'Edit section: Using line integrals', u'Edit section: Solution of triangles', u'Edge (geometry)', u'Exterior angle', u\"Carnot's Theorem\", u'Eric W. Weisstein', u'Edit section: Triangles', u\"Euclid's Elements\", u'Kiepert hyperbola', u'Oblique triangle', u'Triangle center', u'Edit section: Conics', u'Special:BookSources/978-1-55608-010-4', u'Edit section: Points, lines, and circles associated with a triangle', u'Edit section: Bisecting the area', u'Multiplicative inverse', u'Hexagon', u'Euclid', u'Trigonometric function', u'Dot product', u'Mnemonic', u'Special right triangles', u'Line integral', u'Plane (geometry)', u'Edit section: Sine, cosine and tangent rules', u'Tetradecagon', u'Hypotenuse', u'Mathematical Gazette', u'Astronomer', u'Cartesian coordinate system', u'Decagram (geometry)', u'Edit section: See also', u'Architect', u'This article is semi-protected due to vandalism', u'Truss', u'Template talk:Polygons', u'Octadecagon'])\n"
     ]
    }
   ],
   "source": [
    "print set([ l.get(\"title\") for l in links ]) - set(links2)"
   ]
  },
  {
   "cell_type": "markdown",
   "metadata": {},
   "source": [
    "## position rank x clickstream out rank"
   ]
  },
  {
   "cell_type": "code",
   "execution_count": 157,
   "metadata": {
    "collapsed": false
   },
   "outputs": [
    {
     "name": "stdout",
     "output_type": "stream",
     "text": [
      "119\n"
     ]
    }
   ],
   "source": [
    "print len(set(df_clickstreams.index) - set(links2))"
   ]
  },
  {
   "cell_type": "code",
   "execution_count": 158,
   "metadata": {
    "collapsed": false
   },
   "outputs": [
    {
     "data": {
      "text/plain": [
       "<matplotlib.collections.PathCollection at 0x112965410>"
      ]
     },
     "execution_count": 158,
     "metadata": {},
     "output_type": "execute_result"
    },
    {
     "data": {
      "image/png": "[encoded data removed]",
      "text/plain": [
       "<matplotlib.figure.Figure at 0x112fe51d0>"
      ]
     },
     "metadata": {},
     "output_type": "display_data"
    }
   ],
   "source": [
    "# sns.jointplot([ i for i, x in enumerate(links2) ], map(lambda x: df_clickstreams.loc[x,\"out\"] if x in df_clickstreams.index else 0, links2));\n",
    "# sns.kdeplot(map(lambda x: df_clickstreams.loc[x,\"out\"] if x in df_clickstreams.index else 0, links2));\n",
    "\n",
    "x = [ i for i, x in enumerate(links2) ]\n",
    "y = map(lambda x: df_clickstreams.loc[x,\"out\"] if x in df_clickstreams.index else 0, links2)\n",
    "area = map(lambda x: df_clickstreams.loc[x,\"in\"] if x in df_clickstreams.index else 0, links2)\n",
    "\n",
    "plt.scatter(x, y, s=area)"
   ]
  },
  {
   "cell_type": "code",
   "execution_count": 159,
   "metadata": {
    "collapsed": false
   },
   "outputs": [
    {
     "data": {
      "image/png": "[encoded data removed]",
      "text/plain": [
       "<matplotlib.figure.Figure at 0x1132dbed0>"
      ]
     },
     "metadata": {},
     "output_type": "display_data"
    }
   ],
   "source": [
    "df_sorted = df_clickstreams.sort_index(by=\"out\", ascending=False)\n",
    "df_sorted = df_sorted.loc[ list([ i for i in df_sorted.index if \"other-\" not in i ]), : ]\n",
    "\n",
    "for l in links2:\n",
    "    df_sorted.set_value(l, \"position\", links2.index(l))\n",
    "\n",
    "def get_color(value):\n",
    "    c = \"#ededed\"\n",
    "    \n",
    "    green = \"#2fe203\"\n",
    "    blue = \"#5489fa\"\n",
    "    red  = \"#dc357a\"\n",
    "    grey = \"#383838\"\n",
    "    \n",
    "    if 0 < value <= 0.25:\n",
    "        c = green\n",
    "    elif 0.25 < value <= 0.5:\n",
    "        c = blue\n",
    "    elif 0.5 < value <= 0.75:\n",
    "        c = red\n",
    "    elif 0.75 < value <= 1:\n",
    "        c = grey\n",
    "\n",
    "    return c\n",
    "\n",
    "x = [ i for i, x in enumerate(df_sorted.index) ]\n",
    "y = map(lambda x: links2.index(x) if x in links2 else 0, df_sorted.index)\n",
    "area = [ max(10, i) for i in df_sorted[\"in\"] ]\n",
    "colors = map(get_color, df_sorted.rank(pct=True)[\"position\"].values)\n",
    "\n",
    "plt.scatter(x, y, s=area, c=colors);"
   ]
  }
 ],
 "metadata": {
  "kernelspec": {
   "display_name": "Python 2",
   "language": "python",
   "name": "python2"
  },
  "language_info": {
   "codemirror_mode": {
    "name": "ipython",
    "version": 2
   },
   "file_extension": ".py",
   "mimetype": "text/x-python",
   "name": "python",
   "nbconvert_exporter": "python",
   "pygments_lexer": "ipython2",
   "version": "2.7.6"
  }
 },
 "nbformat": 4,
 "nbformat_minor": 0
}
