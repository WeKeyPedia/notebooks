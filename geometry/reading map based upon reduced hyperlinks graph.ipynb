{
 "cells": [
  {
   "cell_type": "code",
   "execution_count": 1,
   "metadata": {
    "collapsed": true
   },
   "outputs": [],
   "source": [
    "%run \"libraries.ipynb\""
   ]
  },
  {
   "cell_type": "code",
   "execution_count": 2,
   "metadata": {
    "collapsed": true
   },
   "outputs": [],
   "source": [
    "hyperlinks_graph = nx.read_gexf(\"data/hyperlinks.gexf\")"
   ]
  },
  {
   "cell_type": "code",
   "execution_count": 3,
   "metadata": {
    "collapsed": false
   },
   "outputs": [],
   "source": [
    "g = nx.DiGraph()\n",
    "\n",
    "nb_out = 3\n",
    "\n",
    "for u in hyperlinks_graph:\n",
    "    nb = sorted(hyperlinks_graph[u].items(), key=lambda x: -x[1][\"term occurence\"])\n",
    "    \n",
    "    # filtering self loops\n",
    "    nb = [ n for n in nb if n[0] != u ]\n",
    "\n",
    "    for v in nb[0:nb_out]:\n",
    "        #print v\n",
    "        g.add_edge(u, v[0], attr_dict=v[1])"
   ]
  },
  {
   "cell_type": "code",
   "execution_count": 4,
   "metadata": {
    "collapsed": false
   },
   "outputs": [
    {
     "name": "stdout",
     "output_type": "stream",
     "text": [
      "reduced graph\n",
      "=============\n",
      "nodes: 299\n",
      "edges: 865\n",
      "reduction: 865/3781 (0.228775456229)\n"
     ]
    }
   ],
   "source": [
    "print \"reduced graph\"\n",
    "print \"=============\"\n",
    "print \"nodes: %s\" % (len(g.nodes()))\n",
    "print \"edges: %s\" % (len(g.edges()))\n",
    "print \"reduction: %s/%s (%s)\" % (len(g.edges()),\n",
    "                                 len(hyperlinks_graph.edges()),\n",
    "                                 float(len(g.edges()))/float(len(hyperlinks_graph.edges())))"
   ]
  },
  {
   "cell_type": "code",
   "execution_count": 5,
   "metadata": {
    "collapsed": false
   },
   "outputs": [],
   "source": [
    "nx.write_gexf(g, \"data/reading_maps/pages-hyperlinks-reduced-3.gexf\")"
   ]
  }
 ],
 "metadata": {
  "kernelspec": {
   "display_name": "Python 2",
   "language": "python",
   "name": "python2"
  },
  "language_info": {
   "codemirror_mode": {
    "name": "ipython",
    "version": 2
   },
   "file_extension": ".py",
   "mimetype": "text/x-python",
   "name": "python",
   "nbconvert_exporter": "python",
   "pygments_lexer": "ipython2",
   "version": "2.7.8"
  }
 },
 "nbformat": 4,
 "nbformat_minor": 0
}
