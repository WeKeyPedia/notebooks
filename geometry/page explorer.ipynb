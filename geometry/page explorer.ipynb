{
 "cells": [
  {
   "cell_type": "code",
   "execution_count": 4,
   "metadata": {
    "collapsed": false
   },
   "outputs": [],
   "source": [
    "%run \"libraries.ipynb\"\n",
    "import networkx as nx\n",
    "from IPython.html import widgets\n",
    "from IPython.display import display, HTML"
   ]
  },
  {
   "cell_type": "markdown",
   "metadata": {},
   "source": [
    "# importing datasets"
   ]
  },
  {
   "cell_type": "code",
   "execution_count": 5,
   "metadata": {
    "collapsed": false
   },
   "outputs": [],
   "source": [
    "# list of page names\n",
    "pages = codecs.open(\"data/pagenames.txt\",\"r\", \"utf-8-sig\").readlines()\n",
    "pages = map(lambda x: x.strip(), pages)\n",
    "\n",
    "# page graph obtained by projecting page-editor bi-partite graph\n",
    "pages_graph = nx.read_gexf(\"data/pages-linked-by-coeditors.gexf\")"
   ]
  },
  {
   "cell_type": "code",
   "execution_count": 6,
   "metadata": {
    "collapsed": false
   },
   "outputs": [],
   "source": [
    "def table_to_html(data, cols=[]):\n",
    "    html = \"<table>\"\n",
    "    html += \"<tr>\"\n",
    "    for column_content in cols:\n",
    "        html += \"<th>%s</th>\" % (column_content)\n",
    "    html += \"</tr>\"\n",
    "    \n",
    "    for d in data:\n",
    "        html += \"<tr>\"\n",
    "        for column_content in d:\n",
    "            html += \"<td>%s</td>\" % (column_content)\n",
    "        html += \"</tr>\"\n",
    "    html += \"</table>\"\n",
    "        \n",
    "    return HTML(html) \n",
    "\n",
    "def show_info(page):\n",
    "    display(HTML(\"<h2>%s</h2>\" % (page)))\n",
    "    \n",
    "    #display(HTML(\"<div style=\\\"float:left\\\">\"))    \n",
    "    display(HTML(\"<h3>co-edited pages</h3>\"))\n",
    "\n",
    "    nb = sorted(pages_graph[\"p:%s\" % (page)].items(),\n",
    "            key=lambda (k,x): -int(x[\"coeditors\"]))\n",
    "\n",
    "    data = []\n",
    "\n",
    "    # calculate rank in neighbor top co-edited ranking\n",
    "    for name, info in nb:\n",
    "        nb_mirror = sorted(pages_graph[name].items(),\n",
    "                key=lambda (k,x): -int(x[\"coeditors\"]))\n",
    "        nb_mirror = [ x[0] for x in nb_mirror ]\n",
    "\n",
    "        info[\"ranking\"] = nb_mirror.index(\"p:%s\" % (page)) + 1\n",
    "\n",
    "    #print nb\n",
    "\n",
    "    for name, info in nb[0:10]:\n",
    "        data.append([ name.split(\":\")[1],  info[\"coeditors\"], info[\"ranking\"]])\n",
    "        \n",
    "    display(table_to_html(data, [\"page name\", \"co-editors\", \"ranking\"]))\n",
    "    #display(HTML(\"</div>\"))    \n",
    "\n",
    "    #display(HTML(\"<div style=\\\"float:left\\\">\"))    \n",
    "    display(HTML(\"<h3>ranked first in</h3>\"))\n",
    "\n",
    "    nb_list = [ x[0] for x in nb ]\n",
    "    data = []\n",
    "\n",
    "    nb2 = sorted(nb, key=lambda (x): x[1][\"ranking\"])\n",
    "    for name, info in nb2[0:10]:\n",
    "        data.append([ name.split(\":\")[1],  info[\"coeditors\"], info[\"ranking\"]])    \n",
    "    display(table_to_html(data, [\"page name\", \"co-editors\", \"ranking\"]))\n",
    "#     display(HTML(\"</div>\"))    \n",
    "#     display(HTML(\"<div style=\\\"clear:both\\\"></div>\"))\n",
    "    \n",
    "    display(HTML(\"<h3>pageviews and revisions</h3>\"))\n",
    "    display(HTML(\"<h3>top editors</h3>\"))\n",
    "    \n",
    "# show_info(\"Pi\")"
   ]
  },
  {
   "cell_type": "markdown",
   "metadata": {},
   "source": [
    "# explorer"
   ]
  },
  {
   "cell_type": "code",
   "execution_count": 7,
   "metadata": {
    "collapsed": false,
    "scrolled": false
   },
   "outputs": [
    {
     "data": {
      "text/html": [
       "<h2>Heronian triangle</h2>"
      ],
      "text/plain": [
       "<IPython.core.display.HTML object>"
      ]
     },
     "metadata": {},
     "output_type": "display_data"
    },
    {
     "data": {
      "text/html": [
       "<h3>co-edited pages</h3>"
      ],
      "text/plain": [
       "<IPython.core.display.HTML object>"
      ]
     },
     "metadata": {},
     "output_type": "display_data"
    },
    {
     "data": {
      "text/html": [
       "<table><tr><th>page name</th><th>co-editors</th><th>ranking</th></tr><tr><td>Pi</td><td>24</td><td>168</td></tr><tr><td>Pythagorean theorem</td><td>24</td><td>143</td></tr><tr><td>Pythagorean triple</td><td>21</td><td>83</td></tr><tr><td>Triangle</td><td>20</td><td>152</td></tr><tr><td>Polygon</td><td>20</td><td>140</td></tr><tr><td>Circle</td><td>19</td><td>157</td></tr><tr><td>Tetrahedron</td><td>19</td><td>145</td></tr><tr><td>Equilateral triangle</td><td>18</td><td>72</td></tr><tr><td>Polyhedron</td><td>18</td><td>152</td></tr><tr><td>Mathematics</td><td>17</td><td>191</td></tr></table>"
      ],
      "text/plain": [
       "<IPython.core.display.HTML object>"
      ]
     },
     "metadata": {},
     "output_type": "display_data"
    },
    {
     "data": {
      "text/html": [
       "<h3>ranked first in</h3>"
      ],
      "text/plain": [
       "<IPython.core.display.HTML object>"
      ]
     },
     "metadata": {},
     "output_type": "display_data"
    },
    {
     "data": {
      "text/html": [
       "<table><tr><th>page name</th><th>co-editors</th><th>ranking</th></tr><tr><td>Integer triangle</td><td>10</td><td>2</td></tr><tr><td>Heronian tetrahedron</td><td>7</td><td>2</td></tr><tr><td>Dissection problem</td><td>6</td><td>14</td></tr><tr><td>List of triangle topics</td><td>10</td><td>29</td></tr><tr><td>Orthocentric system</td><td>11</td><td>33</td></tr><tr><td>Holditch's theorem</td><td>8</td><td>38</td></tr><tr><td>Pedal triangle</td><td>7</td><td>40</td></tr><tr><td>Symmedian</td><td>13</td><td>42</td></tr><tr><td>Equidiagonal quadrilateral</td><td>3</td><td>44</td></tr><tr><td>Hadwiger's theorem</td><td>6</td><td>47</td></tr></table>"
      ],
      "text/plain": [
       "<IPython.core.display.HTML object>"
      ]
     },
     "metadata": {},
     "output_type": "display_data"
    },
    {
     "data": {
      "text/html": [
       "<h3>pageviews and revisions</h3>"
      ],
      "text/plain": [
       "<IPython.core.display.HTML object>"
      ]
     },
     "metadata": {},
     "output_type": "display_data"
    },
    {
     "data": {
      "text/html": [
       "<h3>top editors</h3>"
      ],
      "text/plain": [
       "<IPython.core.display.HTML object>"
      ]
     },
     "metadata": {},
     "output_type": "display_data"
    }
   ],
   "source": [
    "w = widgets.SelectWidget(description=\"page\", options=pages)\n",
    "widgets.interact(show_info, page=w);"
   ]
  }
 ],
 "metadata": {
  "kernelspec": {
   "display_name": "Python 2",
   "language": "python",
   "name": "python2"
  },
  "language_info": {
   "codemirror_mode": {
    "name": "ipython",
    "version": 2
   },
   "file_extension": ".py",
   "mimetype": "text/x-python",
   "name": "python",
   "nbconvert_exporter": "python",
   "pygments_lexer": "ipython2",
   "version": "2.7.8"
  }
 },
 "nbformat": 4,
 "nbformat_minor": 0
}
