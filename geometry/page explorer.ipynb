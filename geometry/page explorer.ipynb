{
 "cells": [
  {
   "cell_type": "code",
   "execution_count": 42,
   "metadata": {
    "collapsed": false
   },
   "outputs": [],
   "source": [
    "%matplotlib inline\n",
    "\n",
    "import json, codecs\n",
    "import pandas as pd, numpy as np, matplotlib.pyplot as plt, networkx as nx, seaborn as sns\n",
    "\n",
    "from IPython.html import widgets\n",
    "from IPython.display import display, HTML\n",
    "\n",
    "sns.set(style=\"whitegrid\")"
   ]
  },
  {
   "cell_type": "markdown",
   "metadata": {},
   "source": [
    "# importing datasets"
   ]
  },
  {
   "cell_type": "code",
   "execution_count": 64,
   "metadata": {
    "collapsed": false
   },
   "outputs": [],
   "source": [
    "# list of page names\n",
    "pages = codecs.open(\"data/pagenames.txt\",\"r\", \"utf-8-sig\").readlines()\n",
    "pages = map(lambda x: x.strip(), pages)\n",
    "\n",
    "# page graph obtained by projecting page-editor bi-partite graph\n",
    "pages_graph = nx.read_gexf(\"data/pages-linked-by-coeditors.gexf\")"
   ]
  },
  {
   "cell_type": "code",
   "execution_count": 147,
   "metadata": {
    "collapsed": false
   },
   "outputs": [],
   "source": [
    "def table_to_html(data, cols=[]):\n",
    "    html = \"<table>\"\n",
    "    html += \"<tr>\"\n",
    "    for column_content in cols:\n",
    "        html += \"<th>%s</th>\" % (column_content)\n",
    "    html += \"</tr>\"\n",
    "    \n",
    "    for d in data:\n",
    "        html += \"<tr>\"\n",
    "        for column_content in d:\n",
    "            html += \"<td>%s</td>\" % (column_content)\n",
    "        html += \"</tr>\"\n",
    "    html += \"</table>\"\n",
    "        \n",
    "    return HTML(html) \n",
    "\n",
    "def show_info(page):\n",
    "    display(HTML(\"<h2>%s</h2>\" % (page)))\n",
    "    \n",
    "    display(HTML(\"<div style=\\\"float:left\\\">\"))    \n",
    "    display(HTML(\"<h3>co-edited pages</h3>\"))\n",
    "\n",
    "    nb = sorted(pages_graph[\"p:%s\" % (page)].items(),\n",
    "            key=lambda (k,x): -int(x[\"coeditors\"]))\n",
    "\n",
    "    data = []\n",
    "\n",
    "    # calculate rank in neighbor top co-edited ranking\n",
    "    for name, info in nb:\n",
    "        nb_mirror = sorted(pages_graph[name].items(),\n",
    "                key=lambda (k,x): -int(x[\"coeditors\"]))\n",
    "        nb_mirror = [ x[0] for x in nb_mirror ]\n",
    "\n",
    "        info[\"ranking\"] = nb_mirror.index(\"p:%s\" % (page)) + 1\n",
    "\n",
    "    #print nb\n",
    "\n",
    "    for name, info in nb[0:10]:\n",
    "        data.append([ name.split(\":\")[1],  info[\"coeditors\"], info[\"ranking\"]])\n",
    "        \n",
    "    display(table_to_html(data, [\"page name\", \"co-editors\", \"ranking\"]))\n",
    "    display(HTML(\"</div>\"))    \n",
    "\n",
    "    display(HTML(\"<div style=\\\"float:left\\\">\"))    \n",
    "    display(HTML(\"<h3>ranked first in</h3>\"))\n",
    "\n",
    "    nb_list = [ x[0] for x in nb ]\n",
    "    data = []\n",
    "\n",
    "    nb2 = sorted(nb, key=lambda (x): x[1][\"ranking\"])\n",
    "    for name, info in nb2[0:10]:\n",
    "        data.append([ name.split(\":\")[1],  info[\"coeditors\"], info[\"ranking\"]])    \n",
    "    display(table_to_html(data, [\"page name\", \"co-editors\", \"ranking\"]))\n",
    "    display(HTML(\"</div>\"))    \n",
    "    display(HTML(\"<div style=\\\"clear:both\\\"></div>\"))\n",
    "    \n",
    "    display(HTML(\"<h3>pageviews and revisions</h3>\"))\n",
    "    display(HTML(\"<h3>top editors</h3>\"))\n",
    "    \n",
    "# show_info(\"Pi\")"
   ]
  },
  {
   "cell_type": "markdown",
   "metadata": {},
   "source": [
    "# explorer"
   ]
  },
  {
   "cell_type": "code",
   "execution_count": 148,
   "metadata": {
    "collapsed": false,
    "scrolled": false
   },
   "outputs": [
    {
     "data": {
      "text/html": [
       "<h2>Oval (projective plane)</h2>"
      ],
      "text/plain": [
       "<IPython.core.display.HTML object>"
      ]
     },
     "metadata": {},
     "output_type": "display_data"
    },
    {
     "data": {
      "text/html": [
       "<div style=\"float:left\">"
      ],
      "text/plain": [
       "<IPython.core.display.HTML object>"
      ]
     },
     "metadata": {},
     "output_type": "display_data"
    },
    {
     "data": {
      "text/html": [
       "<h3>co-edited pages</h3>"
      ],
      "text/plain": [
       "<IPython.core.display.HTML object>"
      ]
     },
     "metadata": {},
     "output_type": "display_data"
    },
    {
     "data": {
      "text/html": [
       "<table><tr><th>page name</th><th>co-editors</th><th>ranking</th></tr><tr><td>Pi</td><td>18</td><td>209</td></tr><tr><td>Mathematics</td><td>12</td><td>235</td></tr><tr><td>Ellipse</td><td>11</td><td>238</td></tr><tr><td>Pythagorean theorem</td><td>11</td><td>247</td></tr><tr><td>Projective geometry</td><td>11</td><td>202</td></tr><tr><td>Wallpaper group</td><td>10</td><td>165</td></tr><tr><td>Squaring the circle</td><td>10</td><td>209</td></tr><tr><td>Hyperbolic geometry</td><td>10</td><td>215</td></tr><tr><td>Triangle</td><td>10</td><td>244</td></tr><tr><td>Algebraic geometry</td><td>9</td><td>221</td></tr></table>"
      ],
      "text/plain": [
       "<IPython.core.display.HTML object>"
      ]
     },
     "metadata": {},
     "output_type": "display_data"
    },
    {
     "data": {
      "text/html": [
       "</div>"
      ],
      "text/plain": [
       "<IPython.core.display.HTML object>"
      ]
     },
     "metadata": {},
     "output_type": "display_data"
    },
    {
     "data": {
      "text/html": [
       "<div style=\"float:left\">"
      ],
      "text/plain": [
       "<IPython.core.display.HTML object>"
      ]
     },
     "metadata": {},
     "output_type": "display_data"
    },
    {
     "data": {
      "text/html": [
       "<h3>ranked first in</h3>"
      ],
      "text/plain": [
       "<IPython.core.display.HTML object>"
      ]
     },
     "metadata": {},
     "output_type": "display_data"
    },
    {
     "data": {
      "text/html": [
       "<table><tr><th>page name</th><th>co-editors</th><th>ranking</th></tr><tr><td>Arc (projective geometry)</td><td>5</td><td>5</td></tr><tr><td>Euclidean shortest path</td><td>4</td><td>28</td></tr><tr><td>Equidiagonal quadrilateral</td><td>3</td><td>37</td></tr><tr><td>Integer triangle</td><td>4</td><td>68</td></tr><tr><td>Homothetic center</td><td>5</td><td>81</td></tr><tr><td>Burmester's theory</td><td>2</td><td>84</td></tr><tr><td>Hermite spline</td><td>1</td><td>92</td></tr><tr><td>Napkin ring problem</td><td>3</td><td>102</td></tr><tr><td>Quantum geometry</td><td>6</td><td>111</td></tr><tr><td>Bicentric quadrilateral</td><td>3</td><td>111</td></tr></table>"
      ],
      "text/plain": [
       "<IPython.core.display.HTML object>"
      ]
     },
     "metadata": {},
     "output_type": "display_data"
    },
    {
     "data": {
      "text/html": [
       "</div>"
      ],
      "text/plain": [
       "<IPython.core.display.HTML object>"
      ]
     },
     "metadata": {},
     "output_type": "display_data"
    },
    {
     "data": {
      "text/html": [
       "<div style=\"clear:both\"></div>"
      ],
      "text/plain": [
       "<IPython.core.display.HTML object>"
      ]
     },
     "metadata": {},
     "output_type": "display_data"
    },
    {
     "data": {
      "text/html": [
       "<h3>pageviews and revisions</h3>"
      ],
      "text/plain": [
       "<IPython.core.display.HTML object>"
      ]
     },
     "metadata": {},
     "output_type": "display_data"
    },
    {
     "data": {
      "text/html": [
       "<h3>top editors</h3>"
      ],
      "text/plain": [
       "<IPython.core.display.HTML object>"
      ]
     },
     "metadata": {},
     "output_type": "display_data"
    }
   ],
   "source": [
    "w = widgets.SelectWidget(description=\"page\", options=pages)\n",
    "widgets.interact(show_info, page=w);"
   ]
  }
 ],
 "metadata": {
  "kernelspec": {
   "display_name": "Python 2",
   "language": "python",
   "name": "python2"
  },
  "language_info": {
   "codemirror_mode": {
    "name": "ipython",
    "version": 2
   },
   "file_extension": ".py",
   "mimetype": "text/x-python",
   "name": "python",
   "nbconvert_exporter": "python",
   "pygments_lexer": "ipython2",
   "version": "2.7.8"
  }
 },
 "nbformat": 4,
 "nbformat_minor": 0
}
