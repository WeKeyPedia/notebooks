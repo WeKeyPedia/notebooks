{
 "cells": [
  {
   "cell_type": "code",
   "execution_count": 4,
   "metadata": {
    "collapsed": false
   },
   "outputs": [],
   "source": [
    "%run \"libraries.ipynb\"\n",
    "import networkx as nx\n",
    "from IPython.html import widgets\n",
    "from IPython.display import display, HTML"
   ]
  },
  {
   "cell_type": "markdown",
   "metadata": {},
   "source": [
    "# importing datasets"
   ]
  },
  {
   "cell_type": "code",
   "execution_count": 17,
   "metadata": {
    "collapsed": false
   },
   "outputs": [],
   "source": [
    "# list of page names\n",
    "pages = codecs.open(\"data/pagenames.txt\",\"r\", \"utf-8-sig\").readlines()\n",
    "pages = map(lambda x: x.strip(), pages)\n",
    "\n",
    "# page graph obtained by projecting page-editor bi-partite graph\n",
    "pages_graph = nx.read_gexf(\"data/pages-linked-by-coeditors.gexf\")\n",
    "\n",
    "# page graph obtained by projecting page-editor bi-partite graph\n",
    "pages_editors_graph = nx.read_gexf(\"data/pages-editors.gexf\")"
   ]
  },
  {
   "cell_type": "code",
   "execution_count": 29,
   "metadata": {
    "collapsed": false,
    "scrolled": false
   },
   "outputs": [],
   "source": [
    "def table_to_html(data, cols=[]):\n",
    "    html = \"<table>\"\n",
    "    html += \"<tr>\"\n",
    "    for column_content in cols:\n",
    "        html += \"<th>%s</th>\" % (column_content)\n",
    "    html += \"</tr>\"\n",
    "    \n",
    "    for d in data:\n",
    "        html += \"<tr>\"\n",
    "        for column_content in d:\n",
    "            html += \"<td>%s</td>\" % (column_content)\n",
    "        html += \"</tr>\"\n",
    "    html += \"</table>\"\n",
    "        \n",
    "    return HTML(html) \n",
    "\n",
    "def show_info(page):\n",
    "    display(HTML(\"<h2>%s</h2>\" % (page)))\n",
    "    \n",
    "    #display(HTML(\"<div style=\\\"float:left\\\">\"))    \n",
    "    display(HTML(\"<h3>co-edited pages</h3>\"))\n",
    "\n",
    "    nb = sorted(pages_graph[\"p:%s\" % (page)].items(),\n",
    "            key=lambda (k,x): -int(x[\"coeditors\"]))\n",
    "\n",
    "    data = []\n",
    "\n",
    "    # calculate rank in neighbor top co-edited ranking\n",
    "    for name, info in nb:\n",
    "        nb_mirror = sorted(pages_graph[name].items(),\n",
    "                key=lambda (k,x): -int(x[\"coeditors\"]))\n",
    "        nb_mirror = [ x[0] for x in nb_mirror ]\n",
    "        \n",
    "        editors = pages_editors_graph[name]        \n",
    "        info[\"editors\"] = len(editors)\n",
    "        info[\"exclusive editors\"] = len([n for n in editors if len(pages_editors_graph[n]) == 1 ])\n",
    "\n",
    "        info[\"ranking\"] = nb_mirror.index(\"p:%s\" % (page)) + 1\n",
    "\n",
    "    #print nb\n",
    "\n",
    "    for name, info in nb[0:10]:\n",
    "        data.append([ \"<a href=\\\"http://en.wikipedia.org/wiki/{0}\\\" target=\\\"_blank\\\">{0}</a>\".format(name.split(\":\")[1]),\n",
    "                     info[\"editors\"],\n",
    "                     info[\"coeditors\"],\n",
    "                     float(info[\"coeditors\"]) / float(info[\"editors\"]),\n",
    "                     info[\"exclusive editors\"],\n",
    "                     info[\"ranking\"]])\n",
    "\n",
    "    display(table_to_html(data, [\"page name\", \"editors\", \"co-editors\", \"co-editors/editors\", \"exclusive editors\" ,\"ranking\"]))\n",
    "    #display(HTML(\"</div>\"))    \n",
    "\n",
    "    #display(HTML(\"<div style=\\\"float:left\\\">\"))    \n",
    "    display(HTML(\"<h3>ranked first in</h3>\"))\n",
    "\n",
    "    nb_list = [ x[0] for x in nb ]\n",
    "    data = []\n",
    "\n",
    "    nb2 = sorted(nb, key=lambda (x): x[1][\"ranking\"])\n",
    "    for name, info in nb2[0:10]:\n",
    "        editors = pages_editors_graph[name]        \n",
    "        info[\"editors\"] = len(editors)\n",
    "        info[\"exclusive editors\"] = len([n for n in editors if len(pages_editors_graph[n]) == 1 ])\n",
    "\n",
    "        data.append([ \"<a href=\\\"http://en.wikipedia.org/wiki/{0}\\\" target=\\\"_blank\\\">{0}</a>\".format(name.split(\":\")[1]),\n",
    "                     info[\"editors\"],\n",
    "                     info[\"coeditors\"],\n",
    "                     float(info[\"coeditors\"]) / float(info[\"editors\"]),\n",
    "                     info[\"exclusive editors\"],\n",
    "                     info[\"ranking\"]])  \n",
    "\n",
    "    display(table_to_html(data, [\"page name\", \"editors\", \"co-editors\", \"co-editors/editors\", \"exclusive editors\" ,\"ranking\"]))\n",
    "#     display(HTML(\"</div>\"))    \n",
    "#     display(HTML(\"<div style=\\\"clear:both\\\"></div>\"))\n",
    "    \n",
    "    display(HTML(\"<h3>pageviews and revisions</h3>\"))\n",
    "    display(HTML(\"<h3>top editors</h3>\"))   \n",
    "#show_info(\"Pi\")"
   ]
  },
  {
   "cell_type": "markdown",
   "metadata": {},
   "source": [
    "# explorer"
   ]
  },
  {
   "cell_type": "code",
   "execution_count": 30,
   "metadata": {
    "collapsed": false,
    "scrolled": false
   },
   "outputs": [
    {
     "data": {
      "text/html": [
       "<h2>Crystal</h2>"
      ],
      "text/plain": [
       "<IPython.core.display.HTML object>"
      ]
     },
     "metadata": {},
     "output_type": "display_data"
    },
    {
     "data": {
      "text/html": [
       "<h3>co-edited pages</h3>"
      ],
      "text/plain": [
       "<IPython.core.display.HTML object>"
      ]
     },
     "metadata": {},
     "output_type": "display_data"
    },
    {
     "data": {
      "text/html": [
       "<table><tr><th>page name</th><th>editors</th><th>co-editors</th><th>co-editors/editors</th><th>exclusive editors</th><th>ranking</th></tr><tr><td><a href=\"http://en.wikipedia.org/wiki/Triangle\" target=\"_blank\">Triangle</a></td><td>916</td><td>144</td><td>0.157205240175</td><td>295</td><td>8</td></tr><tr><td><a href=\"http://en.wikipedia.org/wiki/Astronomy\" target=\"_blank\">Astronomy</a></td><td>1239</td><td>137</td><td>0.110573042776</td><td>583</td><td>8</td></tr><tr><td><a href=\"http://en.wikipedia.org/wiki/Pi\" target=\"_blank\">Pi</a></td><td>1799</td><td>120</td><td>0.0667037242913</td><td>886</td><td>11</td></tr><tr><td><a href=\"http://en.wikipedia.org/wiki/Mathematics\" target=\"_blank\">Mathematics</a></td><td>1509</td><td>117</td><td>0.0775347912525</td><td>676</td><td>10</td></tr><tr><td><a href=\"http://en.wikipedia.org/wiki/Trigonometry\" target=\"_blank\">Trigonometry</a></td><td>854</td><td>108</td><td>0.126463700234</td><td>323</td><td>10</td></tr><tr><td><a href=\"http://en.wikipedia.org/wiki/Geometry\" target=\"_blank\">Geometry</a></td><td>599</td><td>107</td><td>0.178631051753</td><td>180</td><td>9</td></tr><tr><td><a href=\"http://en.wikipedia.org/wiki/Pythagorean theorem\" target=\"_blank\">Pythagorean theorem</a></td><td>947</td><td>104</td><td>0.109820485744</td><td>330</td><td>12</td></tr><tr><td><a href=\"http://en.wikipedia.org/wiki/Circle\" target=\"_blank\">Circle</a></td><td>807</td><td>98</td><td>0.121437422553</td><td>253</td><td>14</td></tr><tr><td><a href=\"http://en.wikipedia.org/wiki/Fractal\" target=\"_blank\">Fractal</a></td><td>760</td><td>92</td><td>0.121052631579</td><td>321</td><td>9</td></tr><tr><td><a href=\"http://en.wikipedia.org/wiki/Angle\" target=\"_blank\">Angle</a></td><td>469</td><td>80</td><td>0.170575692964</td><td>132</td><td>13</td></tr></table>"
      ],
      "text/plain": [
       "<IPython.core.display.HTML object>"
      ]
     },
     "metadata": {},
     "output_type": "display_data"
    },
    {
     "data": {
      "text/html": [
       "<h3>ranked first in</h3>"
      ],
      "text/plain": [
       "<IPython.core.display.HTML object>"
      ]
     },
     "metadata": {},
     "output_type": "display_data"
    },
    {
     "data": {
      "text/html": [
       "<table><tr><th>page name</th><th>editors</th><th>co-editors</th><th>co-editors/editors</th><th>exclusive editors</th><th>ranking</th></tr><tr><td><a href=\"http://en.wikipedia.org/wiki/Crystal system\" target=\"_blank\">Crystal system</a></td><td>101</td><td>26</td><td>0.257425742574</td><td>27</td><td>5</td></tr><tr><td><a href=\"http://en.wikipedia.org/wiki/2D computer graphics\" target=\"_blank\">2D computer graphics</a></td><td>139</td><td>27</td><td>0.194244604317</td><td>36</td><td>6</td></tr><tr><td><a href=\"http://en.wikipedia.org/wiki/Straightedge\" target=\"_blank\">Straightedge</a></td><td>59</td><td>13</td><td>0.220338983051</td><td>15</td><td>6</td></tr><tr><td><a href=\"http://en.wikipedia.org/wiki/Quasicrystal\" target=\"_blank\">Quasicrystal</a></td><td>200</td><td>34</td><td>0.17</td><td>74</td><td>7</td></tr><tr><td><a href=\"http://en.wikipedia.org/wiki/Triangle\" target=\"_blank\">Triangle</a></td><td>916</td><td>144</td><td>0.157205240175</td><td>295</td><td>8</td></tr><tr><td><a href=\"http://en.wikipedia.org/wiki/Astronomy\" target=\"_blank\">Astronomy</a></td><td>1239</td><td>137</td><td>0.110573042776</td><td>583</td><td>8</td></tr><tr><td><a href=\"http://en.wikipedia.org/wiki/Geometry\" target=\"_blank\">Geometry</a></td><td>599</td><td>107</td><td>0.178631051753</td><td>180</td><td>9</td></tr><tr><td><a href=\"http://en.wikipedia.org/wiki/Fractal\" target=\"_blank\">Fractal</a></td><td>760</td><td>92</td><td>0.121052631579</td><td>321</td><td>9</td></tr><tr><td><a href=\"http://en.wikipedia.org/wiki/Tessellation\" target=\"_blank\">Tessellation</a></td><td>416</td><td>73</td><td>0.175480769231</td><td>111</td><td>9</td></tr><tr><td><a href=\"http://en.wikipedia.org/wiki/Pattern\" target=\"_blank\">Pattern</a></td><td>252</td><td>47</td><td>0.186507936508</td><td>92</td><td>9</td></tr></table>"
      ],
      "text/plain": [
       "<IPython.core.display.HTML object>"
      ]
     },
     "metadata": {},
     "output_type": "display_data"
    },
    {
     "data": {
      "text/html": [
       "<h3>pageviews and revisions</h3>"
      ],
      "text/plain": [
       "<IPython.core.display.HTML object>"
      ]
     },
     "metadata": {},
     "output_type": "display_data"
    },
    {
     "data": {
      "text/html": [
       "<h3>top editors</h3>"
      ],
      "text/plain": [
       "<IPython.core.display.HTML object>"
      ]
     },
     "metadata": {},
     "output_type": "display_data"
    }
   ],
   "source": [
    "w = widgets.SelectWidget(description=\"page\", options=pages)\n",
    "widgets.interact(show_info, page=w);"
   ]
  }
 ],
 "metadata": {
  "kernelspec": {
   "display_name": "Python 2",
   "language": "python",
   "name": "python2"
  },
  "language_info": {
   "codemirror_mode": {
    "name": "ipython",
    "version": 2
   },
   "file_extension": ".py",
   "mimetype": "text/x-python",
   "name": "python",
   "nbconvert_exporter": "python",
   "pygments_lexer": "ipython2",
   "version": "2.7.8"
  }
 },
 "nbformat": 4,
 "nbformat_minor": 0
}
