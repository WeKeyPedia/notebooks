{
 "cells": [
  {
   "cell_type": "markdown",
   "metadata": {},
   "source": [
    "## extracting domain"
   ]
  },
  {
   "cell_type": "code",
   "execution_count": 18,
   "metadata": {
    "collapsed": false
   },
   "outputs": [
    {
     "name": "stdout",
     "output_type": "stream",
     "text": [
      " common libraries loaded\n"
     ]
    }
   ],
   "source": [
    "# -*- coding: utf-8 -*-\n",
    "\n",
    "%run \"libraries.ipynb\""
   ]
  },
  {
   "cell_type": "code",
   "execution_count": 7,
   "metadata": {
    "collapsed": true
   },
   "outputs": [],
   "source": [
    "pages = codecs.open(\"data/pagenames.txt\",\"r\", \"utf-8-sig\").readlines()\n",
    "pages = map(lambda x: x.strip(), pages)\n",
    "\n",
    "clickstream_file = \"../../data/clickstream-022015.tsv\""
   ]
  },
  {
   "cell_type": "code",
   "execution_count": 28,
   "metadata": {
    "collapsed": false
   },
   "outputs": [
    {
     "name": "stdout",
     "output_type": "stream",
     "text": [
      "22509897/22509897\n"
     ]
    }
   ],
   "source": [
    "def filter_clickstream(domain):\n",
    "  clickstream = defaultdict(lambda: defaultdict(dict))\n",
    "  \n",
    "  with codecs.open(clickstream_file, \"r\", \"utf-8\") as f:\n",
    "    tsv = f.readlines()\n",
    "\n",
    "  for i, line in enumerate(tsv[1:], start=1):\n",
    "    print \"\\r{0}/{1}\".format(i, len(tsv)-1),\n",
    "\n",
    "    previous_id, current_id, n, previous, current, t = line.split(\"\\t\")\n",
    "\n",
    "    current = current.replace(\"_\", \" \")\n",
    "    previous = previous.replace(\"_\", \" \")\n",
    "\n",
    "    if current in domain:\n",
    "      clickstream[current][\"in\"][previous] = n\n",
    "\n",
    "    if previous in domain:\n",
    "      clickstream[previous][\"out\"][current] = n\n",
    "    \n",
    "  return clickstream\n",
    "\n",
    "c = filter_clickstream(pages)"
   ]
  },
  {
   "cell_type": "code",
   "execution_count": 31,
   "metadata": {
    "collapsed": false
   },
   "outputs": [
    {
     "name": "stdout",
     "output_type": "stream",
     "text": [
      "Non-uniform rational B-spline\n"
     ]
    }
   ],
   "source": [
    "def save_clickstream(clickstream):\n",
    "  for p in clickstream.iteritems():\n",
    "    print u\"\\r{0}\".format(p[0]),\n",
    "\n",
    "    filename = u\"data/clickstream/{0}.json\".format(p[0])\n",
    "    \n",
    "    with codecs.open(filename, \"w\", \"utf-8-sig\") as f:\n",
    "      json.dump(p[1], f, ensure_ascii=False, indent=2, separators=(',', ': '))\n",
    "\n",
    "save_clickstream(c)"
   ]
  }
 ],
 "metadata": {
  "kernelspec": {
   "display_name": "Python 2",
   "language": "python",
   "name": "python2"
  },
  "language_info": {
   "codemirror_mode": {
    "name": "ipython",
    "version": 2
   },
   "file_extension": ".py",
   "mimetype": "text/x-python",
   "name": "python",
   "nbconvert_exporter": "python",
   "pygments_lexer": "ipython2",
   "version": "2.7.9"
  }
 },
 "nbformat": 4,
 "nbformat_minor": 0
}
