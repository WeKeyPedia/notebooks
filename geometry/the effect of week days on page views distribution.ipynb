{
 "cells": [
  {
   "cell_type": "code",
   "execution_count": null,
   "metadata": {
    "collapsed": true
   },
   "outputs": [],
   "source": [
    "df = pd.DataFrame()\n",
    "    \n",
    "    df[\"pageviews\"] = ts[title]\n",
    "    idx = week.index.tolist()\n",
    "    df[\"week\"] = map(lambda x: x.strftime(\"%Y-%W\"), idx)\n",
    "    df[\"week_day\"] = map(lambda x: x.weekday(), idx)\n",
    "    \n",
    "    print df.head()\n",
    "    \n",
    "    #sns.jointplot(df[\"week_day\"], df[\"pageviews\"])\n",
    "    sns.tsplot(df, time=\"week_day\", unit=\"week\", value=\"pageviews\", err_style=\"unit_traces\")\n",
    "    plt.show()"
   ]
  }
 ],
 "metadata": {
  "kernelspec": {
   "display_name": "Python 2",
   "language": "python",
   "name": "python2"
  },
  "language_info": {
   "codemirror_mode": {
    "name": "ipython",
    "version": 2
   },
   "file_extension": ".py",
   "mimetype": "text/x-python",
   "name": "python",
   "nbconvert_exporter": "python",
   "pygments_lexer": "ipython2",
   "version": "2.7.8"
  }
 },
 "nbformat": 4,
 "nbformat_minor": 0
}
