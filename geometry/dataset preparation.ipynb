{
 "cells": [
  {
   "cell_type": "markdown",
   "metadata": {},
   "source": [
    "# dataset preparation"
   ]
  },
  {
   "cell_type": "code",
   "execution_count": 2,
   "metadata": {
    "collapsed": false
   },
   "outputs": [],
   "source": [
    "# -*- coding: utf-8 -*-\n",
    "\n",
    "import json\n",
    "import codecs\n",
    "from bs4 import BeautifulSoup\n",
    "\n",
    "import pandas as pd\n",
    "\n",
    "pages = codecs.open(\"data/pagenames.txt\",\"r\", \"utf-8-sig\").readlines()\n",
    "pages = map(lambda x: x.strip(), pages)"
   ]
  },
  {
   "cell_type": "markdown",
   "metadata": {},
   "source": [
    "## basic processing\n",
    "### word analysis"
   ]
  },
  {
   "cell_type": "code",
   "execution_count": 8,
   "metadata": {
    "collapsed": true
   },
   "outputs": [],
   "source": [
    "def basic_word_analysis(text):\n",
    "    length = len(text)\n",
    "    words = len(content.split(\" \"))\n",
    "    average_word_length = float(length - words)/float(words)\n",
    "    \n",
    "    return length, words, average_word_length"
   ]
  },
  {
   "cell_type": "markdown",
   "metadata": {},
   "source": [
    "This function performs a basic word analysis using raw python functions. Word counting will be more precise using a NLP framework such as `nltk`. Further development will certainly be done in more developed phases of the project and documented in an according notebook."
   ]
  },
  {
   "cell_type": "markdown",
   "metadata": {},
   "source": [
    "### users"
   ]
  },
  {
   "cell_type": "code",
   "execution_count": 5,
   "metadata": {
    "collapsed": false
   },
   "outputs": [
    {
     "name": "stdout",
     "output_type": "stream",
     "text": [
      "(2880, 1799, 1081, 0, u'2002-02-01T12:26:39Z')\n"
     ]
    }
   ],
   "source": [
    "def basic_user_stats(page):\n",
    "    revs = json.load(codecs.open(\"data/revisions/%s.json\" % (page), \"r\", \"utf-8-sig\"))\n",
    "    \n",
    "    unique_users = 0\n",
    "    unique_registered_users = 0\n",
    "    unique_ip_users = 0\n",
    "    hidden_users = 0\n",
    "    \n",
    "    #users = set()\n",
    "    registered_users = set()\n",
    "    ip_users = set()\n",
    "    \n",
    "    for r in revs:\n",
    "        if \"user\" in r:\n",
    "            if r[\"userid\"] != 0:\n",
    "                registered_users.add(r[\"user\"])\n",
    "            else:\n",
    "                ip_users.add(r[\"user\"])\n",
    "        else:\n",
    "            hidden_users += 1\n",
    "\n",
    "    first_revision = revs[-1][\"timestamp\"]\n",
    "            \n",
    "    unique_registered_users = len(registered_users)\n",
    "    unique_ip_users = len(ip_users)\n",
    "    unique_users = unique_registered_users + unique_ip_users\n",
    "    \n",
    "    return unique_users, unique_registered_users, unique_ip_users, hidden_users, first_revision\n",
    "\n",
    "print basic_user_stats(\"Pi\")"
   ]
  },
  {
   "cell_type": "markdown",
   "metadata": {},
   "source": [
    "### page views"
   ]
  },
  {
   "cell_type": "code",
   "execution_count": 4,
   "metadata": {
    "collapsed": false
   },
   "outputs": [
    {
     "name": "stdout",
     "output_type": "stream",
     "text": [
      "23309406\n"
     ]
    }
   ],
   "source": [
    "def pageviews(page):\n",
    "    pageviews = json.load(codecs.open(\"data/pageviews/%s.json\" % (page), \"r\", \"utf-8-sig\"))\n",
    "    \n",
    "    total = 0\n",
    "    \n",
    "    for m in pageviews:\n",
    "        for d, v in m.iteritems():\n",
    "            total += v\n",
    "    \n",
    "    return total\n",
    "\n",
    "print pageviews(\"Pi\")"
   ]
  },
  {
   "cell_type": "markdown",
   "metadata": {},
   "source": [
    "### pagerank"
   ]
  },
  {
   "cell_type": "code",
   "execution_count": 24,
   "metadata": {
    "collapsed": false
   },
   "outputs": [],
   "source": [
    "pageranks = pd.DataFrame.from_csv(\"data/pagerank.csv\", sep=\";\", encoding=\"utf-8\")"
   ]
  },
  {
   "cell_type": "markdown",
   "metadata": {},
   "source": [
    "### specialization"
   ]
  },
  {
   "cell_type": "code",
   "execution_count": 37,
   "metadata": {
    "collapsed": false
   },
   "outputs": [],
   "source": [
    "specialization = pd.read_json(\"data/specialization.json\")\n",
    "specialization = specialization.set_index(\"title\")\n",
    "#specialization.head()"
   ]
  },
  {
   "cell_type": "markdown",
   "metadata": {},
   "source": [
    "### co-editors graph"
   ]
  },
  {
   "cell_type": "code",
   "execution_count": 38,
   "metadata": {
    "collapsed": true
   },
   "outputs": [],
   "source": [
    "coeditors = pd.DataFrame.from_csv(\"data/pages-linked-by-coeditors.stats.csv\", encoding=\"utf-8\")"
   ]
  },
  {
   "cell_type": "markdown",
   "metadata": {},
   "source": [
    "## finalization"
   ]
  },
  {
   "cell_type": "code",
   "execution_count": 25,
   "metadata": {
    "collapsed": false
   },
   "outputs": [],
   "source": [
    "# for p in specialization[0:25]:\n",
    "data = []\n",
    "\n",
    "for page in pages:\n",
    "    p = {}\n",
    "    \n",
    "    p[\"pagename\"] = page\n",
    "    \n",
    "    content_file = codecs.open(\"data/pages/%s.json\" % (page), \"r\", \"utf-8-sig\")\n",
    "    j = json.load(content_file)\n",
    "    r = j[\"query\"][\"pages\"][j[\"query\"][\"pages\"].keys()[0]]\n",
    "\n",
    "    if \"revisions\" in r.keys():\n",
    "        content = r[\"revisions\"][0][\"*\"]       \n",
    "        content = BeautifulSoup(content).text\n",
    "        \n",
    "        p[\"length\"], p[\"words\"], p[\"average word length\"] = basic_word_analysis(content)\n",
    "        p[\"unique users\"], p[\"unique registered users\"], p[\"unique ip users\"], p[\"hidden users\"],p[\"first revision\"] = basic_user_stats(page)\n",
    "        p[\"page views\"] = pageviews(page)\n",
    "        \n",
    "    data.append(p)"
   ]
  },
  {
   "cell_type": "code",
   "execution_count": 47,
   "metadata": {
    "collapsed": false
   },
   "outputs": [],
   "source": [
    "table = pd.DataFrame(data)\n",
    "table = table.set_index(\"pagename\")\n",
    "table = table.join(pageranks)\n",
    "table = table.join(specialization)\n",
    "table = table.join(coeditors , rsuffix=\" (co-editors)\")"
   ]
  },
  {
   "cell_type": "markdown",
   "metadata": {},
   "source": [
    "## preview"
   ]
  },
  {
   "cell_type": "code",
   "execution_count": 48,
   "metadata": {
    "collapsed": false
   },
   "outputs": [
    {
     "data": {
      "text/html": [
       "<div style=\"max-height:1000px;max-width:1500px;overflow:auto;\">\n",
       "<table border=\"1\" class=\"dataframe\">\n",
       "  <thead>\n",
       "    <tr style=\"text-align: right;\">\n",
       "      <th></th>\n",
       "      <th>average word length</th>\n",
       "      <th>first revision</th>\n",
       "      <th>hidden users</th>\n",
       "      <th>length</th>\n",
       "      <th>page views</th>\n",
       "      <th>unique ip users</th>\n",
       "      <th>unique registered users</th>\n",
       "      <th>unique users</th>\n",
       "      <th>words</th>\n",
       "      <th>Pagerank pro 0.8</th>\n",
       "      <th>...</th>\n",
       "      <th>nbcontributorsBot</th>\n",
       "      <th>nbcontributorsIP</th>\n",
       "      <th>nbcontributorsMembers</th>\n",
       "      <th>nbrevisions</th>\n",
       "      <th>nbrevisionsBot</th>\n",
       "      <th>nbrevisionsIP</th>\n",
       "      <th>nbrevisionsMembers</th>\n",
       "      <th>ns</th>\n",
       "      <th>pageid</th>\n",
       "      <th>quality</th>\n",
       "    </tr>\n",
       "    <tr>\n",
       "      <th>pagename</th>\n",
       "      <th></th>\n",
       "      <th></th>\n",
       "      <th></th>\n",
       "      <th></th>\n",
       "      <th></th>\n",
       "      <th></th>\n",
       "      <th></th>\n",
       "      <th></th>\n",
       "      <th></th>\n",
       "      <th></th>\n",
       "      <th></th>\n",
       "      <th></th>\n",
       "      <th></th>\n",
       "      <th></th>\n",
       "      <th></th>\n",
       "      <th></th>\n",
       "      <th></th>\n",
       "      <th></th>\n",
       "      <th></th>\n",
       "      <th></th>\n",
       "      <th></th>\n",
       "    </tr>\n",
       "  </thead>\n",
       "  <tbody>\n",
       "    <tr>\n",
       "      <th>2D computer graphics</th>\n",
       "      <td>5.912321</td>\n",
       "      <td>2001-10-13T06:23:27Z</td>\n",
       "      <td>0</td>\n",
       "      <td>24124</td>\n",
       "      <td>930542</td>\n",
       "      <td>83</td>\n",
       "      <td>139</td>\n",
       "      <td>222</td>\n",
       "      <td>3490</td>\n",
       "      <td>2.540488</td>\n",
       "      <td>...</td>\n",
       "      <td>18</td>\n",
       "      <td>78</td>\n",
       "      <td>119</td>\n",
       "      <td>370</td>\n",
       "      <td>23</td>\n",
       "      <td>124</td>\n",
       "      <td>223</td>\n",
       "      <td>0</td>\n",
       "      <td>35248</td>\n",
       "      <td>4</td>\n",
       "    </tr>\n",
       "    <tr>\n",
       "      <th>2D geometric model</th>\n",
       "      <td>5.786585</td>\n",
       "      <td>2004-03-08T00:49:59Z</td>\n",
       "      <td>0</td>\n",
       "      <td>1113</td>\n",
       "      <td>155960</td>\n",
       "      <td>13</td>\n",
       "      <td>28</td>\n",
       "      <td>41</td>\n",
       "      <td>164</td>\n",
       "      <td>1.846966</td>\n",
       "      <td>...</td>\n",
       "      <td>3</td>\n",
       "      <td>13</td>\n",
       "      <td>24</td>\n",
       "      <td>54</td>\n",
       "      <td>3</td>\n",
       "      <td>20</td>\n",
       "      <td>31</td>\n",
       "      <td>0</td>\n",
       "      <td>511647</td>\n",
       "      <td>1</td>\n",
       "    </tr>\n",
       "    <tr>\n",
       "      <th>3D computer graphics</th>\n",
       "      <td>6.360368</td>\n",
       "      <td>2007-03-21T05:56:20Z</td>\n",
       "      <td>0</td>\n",
       "      <td>8803</td>\n",
       "      <td>3174611</td>\n",
       "      <td>258</td>\n",
       "      <td>240</td>\n",
       "      <td>498</td>\n",
       "      <td>1196</td>\n",
       "      <td>3.665079</td>\n",
       "      <td>...</td>\n",
       "      <td>28</td>\n",
       "      <td>250</td>\n",
       "      <td>211</td>\n",
       "      <td>893</td>\n",
       "      <td>65</td>\n",
       "      <td>368</td>\n",
       "      <td>460</td>\n",
       "      <td>0</td>\n",
       "      <td>10175073</td>\n",
       "      <td>4</td>\n",
       "    </tr>\n",
       "    <tr>\n",
       "      <th>3D projection</th>\n",
       "      <td>5.907763</td>\n",
       "      <td>2003-09-07T18:48:57Z</td>\n",
       "      <td>0</td>\n",
       "      <td>8987</td>\n",
       "      <td>1141382</td>\n",
       "      <td>98</td>\n",
       "      <td>113</td>\n",
       "      <td>211</td>\n",
       "      <td>1301</td>\n",
       "      <td>3.430536</td>\n",
       "      <td>...</td>\n",
       "      <td>16</td>\n",
       "      <td>95</td>\n",
       "      <td>96</td>\n",
       "      <td>351</td>\n",
       "      <td>25</td>\n",
       "      <td>117</td>\n",
       "      <td>209</td>\n",
       "      <td>0</td>\n",
       "      <td>313741</td>\n",
       "      <td>2</td>\n",
       "    </tr>\n",
       "    <tr>\n",
       "      <th>3-sphere</th>\n",
       "      <td>5.071429</td>\n",
       "      <td>2002-02-19T11:12:25Z</td>\n",
       "      <td>0</td>\n",
       "      <td>17595</td>\n",
       "      <td>488222</td>\n",
       "      <td>44</td>\n",
       "      <td>117</td>\n",
       "      <td>161</td>\n",
       "      <td>2898</td>\n",
       "      <td>3.693437</td>\n",
       "      <td>...</td>\n",
       "      <td>12</td>\n",
       "      <td>44</td>\n",
       "      <td>103</td>\n",
       "      <td>277</td>\n",
       "      <td>13</td>\n",
       "      <td>59</td>\n",
       "      <td>205</td>\n",
       "      <td>0</td>\n",
       "      <td>39792</td>\n",
       "      <td>4</td>\n",
       "    </tr>\n",
       "    <tr>\n",
       "      <th>Absolute geometry</th>\n",
       "      <td>5.561167</td>\n",
       "      <td>2004-06-02T19:31:39Z</td>\n",
       "      <td>0</td>\n",
       "      <td>5846</td>\n",
       "      <td>77451</td>\n",
       "      <td>22</td>\n",
       "      <td>59</td>\n",
       "      <td>81</td>\n",
       "      <td>891</td>\n",
       "      <td>2.870685</td>\n",
       "      <td>...</td>\n",
       "      <td>14</td>\n",
       "      <td>20</td>\n",
       "      <td>44</td>\n",
       "      <td>104</td>\n",
       "      <td>15</td>\n",
       "      <td>27</td>\n",
       "      <td>62</td>\n",
       "      <td>0</td>\n",
       "      <td>699294</td>\n",
       "      <td>2</td>\n",
       "    </tr>\n",
       "    <tr>\n",
       "      <th>Acute and obtuse triangles</th>\n",
       "      <td>5.818387</td>\n",
       "      <td>2014-10-10T19:11:27Z</td>\n",
       "      <td>0</td>\n",
       "      <td>9048</td>\n",
       "      <td>5549</td>\n",
       "      <td>1</td>\n",
       "      <td>2</td>\n",
       "      <td>3</td>\n",
       "      <td>1327</td>\n",
       "      <td>0.829064</td>\n",
       "      <td>...</td>\n",
       "      <td>NaN</td>\n",
       "      <td>NaN</td>\n",
       "      <td>NaN</td>\n",
       "      <td>NaN</td>\n",
       "      <td>NaN</td>\n",
       "      <td>NaN</td>\n",
       "      <td>NaN</td>\n",
       "      <td>0</td>\n",
       "      <td>44076423</td>\n",
       "      <td>NaN</td>\n",
       "    </tr>\n",
       "    <tr>\n",
       "      <th>Affine geometry</th>\n",
       "      <td>5.424357</td>\n",
       "      <td>2003-06-11T09:28:43Z</td>\n",
       "      <td>0</td>\n",
       "      <td>15245</td>\n",
       "      <td>277910</td>\n",
       "      <td>30</td>\n",
       "      <td>82</td>\n",
       "      <td>112</td>\n",
       "      <td>2373</td>\n",
       "      <td>3.495030</td>\n",
       "      <td>...</td>\n",
       "      <td>15</td>\n",
       "      <td>30</td>\n",
       "      <td>64</td>\n",
       "      <td>205</td>\n",
       "      <td>22</td>\n",
       "      <td>40</td>\n",
       "      <td>143</td>\n",
       "      <td>0</td>\n",
       "      <td>243890</td>\n",
       "      <td>3</td>\n",
       "    </tr>\n",
       "    <tr>\n",
       "      <th>Affine space</th>\n",
       "      <td>5.325827</td>\n",
       "      <td>2003-08-18T04:32:19Z</td>\n",
       "      <td>0</td>\n",
       "      <td>13202</td>\n",
       "      <td>401482</td>\n",
       "      <td>64</td>\n",
       "      <td>105</td>\n",
       "      <td>169</td>\n",
       "      <td>2087</td>\n",
       "      <td>4.010550</td>\n",
       "      <td>...</td>\n",
       "      <td>18</td>\n",
       "      <td>61</td>\n",
       "      <td>84</td>\n",
       "      <td>384</td>\n",
       "      <td>30</td>\n",
       "      <td>91</td>\n",
       "      <td>263</td>\n",
       "      <td>0</td>\n",
       "      <td>298834</td>\n",
       "      <td>2</td>\n",
       "    </tr>\n",
       "    <tr>\n",
       "      <th>Affine transformation</th>\n",
       "      <td>5.599894</td>\n",
       "      <td>2002-02-25T15:51:15Z</td>\n",
       "      <td>0</td>\n",
       "      <td>12454</td>\n",
       "      <td>1333126</td>\n",
       "      <td>78</td>\n",
       "      <td>139</td>\n",
       "      <td>217</td>\n",
       "      <td>1887</td>\n",
       "      <td>4.072621</td>\n",
       "      <td>...</td>\n",
       "      <td>21</td>\n",
       "      <td>76</td>\n",
       "      <td>111</td>\n",
       "      <td>371</td>\n",
       "      <td>26</td>\n",
       "      <td>107</td>\n",
       "      <td>238</td>\n",
       "      <td>0</td>\n",
       "      <td>38449</td>\n",
       "      <td>2</td>\n",
       "    </tr>\n",
       "  </tbody>\n",
       "</table>\n",
       "<p>10 rows × 32 columns</p>\n",
       "</div>"
      ],
      "text/plain": [
       "                            average word length        first revision  \\\n",
       "pagename                                                                \n",
       "2D computer graphics                   5.912321  2001-10-13T06:23:27Z   \n",
       "2D geometric model                     5.786585  2004-03-08T00:49:59Z   \n",
       "3D computer graphics                   6.360368  2007-03-21T05:56:20Z   \n",
       "3D projection                          5.907763  2003-09-07T18:48:57Z   \n",
       "3-sphere                               5.071429  2002-02-19T11:12:25Z   \n",
       "Absolute geometry                      5.561167  2004-06-02T19:31:39Z   \n",
       "Acute and obtuse triangles             5.818387  2014-10-10T19:11:27Z   \n",
       "Affine geometry                        5.424357  2003-06-11T09:28:43Z   \n",
       "Affine space                           5.325827  2003-08-18T04:32:19Z   \n",
       "Affine transformation                  5.599894  2002-02-25T15:51:15Z   \n",
       "\n",
       "                            hidden users  length  page views  unique ip users  \\\n",
       "pagename                                                                        \n",
       "2D computer graphics                   0   24124      930542               83   \n",
       "2D geometric model                     0    1113      155960               13   \n",
       "3D computer graphics                   0    8803     3174611              258   \n",
       "3D projection                          0    8987     1141382               98   \n",
       "3-sphere                               0   17595      488222               44   \n",
       "Absolute geometry                      0    5846       77451               22   \n",
       "Acute and obtuse triangles             0    9048        5549                1   \n",
       "Affine geometry                        0   15245      277910               30   \n",
       "Affine space                           0   13202      401482               64   \n",
       "Affine transformation                  0   12454     1333126               78   \n",
       "\n",
       "                            unique registered users  unique users  words  \\\n",
       "pagename                                                                   \n",
       "2D computer graphics                            139           222   3490   \n",
       "2D geometric model                               28            41    164   \n",
       "3D computer graphics                            240           498   1196   \n",
       "3D projection                                   113           211   1301   \n",
       "3-sphere                                        117           161   2898   \n",
       "Absolute geometry                                59            81    891   \n",
       "Acute and obtuse triangles                        2             3   1327   \n",
       "Affine geometry                                  82           112   2373   \n",
       "Affine space                                    105           169   2087   \n",
       "Affine transformation                           139           217   1887   \n",
       "\n",
       "                            Pagerank pro 0.8   ...     nbcontributorsBot  \\\n",
       "pagename                                       ...                         \n",
       "2D computer graphics                2.540488   ...                    18   \n",
       "2D geometric model                  1.846966   ...                     3   \n",
       "3D computer graphics                3.665079   ...                    28   \n",
       "3D projection                       3.430536   ...                    16   \n",
       "3-sphere                            3.693437   ...                    12   \n",
       "Absolute geometry                   2.870685   ...                    14   \n",
       "Acute and obtuse triangles          0.829064   ...                   NaN   \n",
       "Affine geometry                     3.495030   ...                    15   \n",
       "Affine space                        4.010550   ...                    18   \n",
       "Affine transformation               4.072621   ...                    21   \n",
       "\n",
       "                            nbcontributorsIP  nbcontributorsMembers  \\\n",
       "pagename                                                              \n",
       "2D computer graphics                      78                    119   \n",
       "2D geometric model                        13                     24   \n",
       "3D computer graphics                     250                    211   \n",
       "3D projection                             95                     96   \n",
       "3-sphere                                  44                    103   \n",
       "Absolute geometry                         20                     44   \n",
       "Acute and obtuse triangles               NaN                    NaN   \n",
       "Affine geometry                           30                     64   \n",
       "Affine space                              61                     84   \n",
       "Affine transformation                     76                    111   \n",
       "\n",
       "                            nbrevisions  nbrevisionsBot nbrevisionsIP  \\\n",
       "pagename                                                                \n",
       "2D computer graphics                370              23           124   \n",
       "2D geometric model                   54               3            20   \n",
       "3D computer graphics                893              65           368   \n",
       "3D projection                       351              25           117   \n",
       "3-sphere                            277              13            59   \n",
       "Absolute geometry                   104              15            27   \n",
       "Acute and obtuse triangles          NaN             NaN           NaN   \n",
       "Affine geometry                     205              22            40   \n",
       "Affine space                        384              30            91   \n",
       "Affine transformation               371              26           107   \n",
       "\n",
       "                            nbrevisionsMembers ns    pageid  quality  \n",
       "pagename                                                              \n",
       "2D computer graphics                       223  0     35248        4  \n",
       "2D geometric model                          31  0    511647        1  \n",
       "3D computer graphics                       460  0  10175073        4  \n",
       "3D projection                              209  0    313741        2  \n",
       "3-sphere                                   205  0     39792        4  \n",
       "Absolute geometry                           62  0    699294        2  \n",
       "Acute and obtuse triangles                 NaN  0  44076423      NaN  \n",
       "Affine geometry                            143  0    243890        3  \n",
       "Affine space                               263  0    298834        2  \n",
       "Affine transformation                      238  0     38449        2  \n",
       "\n",
       "[10 rows x 32 columns]"
      ]
     },
     "execution_count": 48,
     "metadata": {},
     "output_type": "execute_result"
    }
   ],
   "source": [
    "table.head(10)"
   ]
  },
  {
   "cell_type": "markdown",
   "metadata": {},
   "source": [
    "## storage\n",
    "\n",
    "We are storing our intermediary data in `csv` instead of `json` for readability purposes. For example, github includes a web table viewer directly into its main interface. It is also more convenient to share and open csv files within the data processing pipeline since we are mainly doing table calculus more than object manipulation."
   ]
  },
  {
   "cell_type": "code",
   "execution_count": 49,
   "metadata": {
    "collapsed": false
   },
   "outputs": [],
   "source": [
    "table.to_csv(\"data/final.csv\", encoding=\"UTF-8\")"
   ]
  }
 ],
 "metadata": {
  "kernelspec": {
   "display_name": "Python 2",
   "language": "python",
   "name": "python2"
  },
  "language_info": {
   "codemirror_mode": {
    "name": "ipython",
    "version": 2
   },
   "file_extension": ".py",
   "mimetype": "text/x-python",
   "name": "python",
   "nbconvert_exporter": "python",
   "pygments_lexer": "ipython2",
   "version": "2.7.9"
  }
 },
 "nbformat": 4,
 "nbformat_minor": 0
}
