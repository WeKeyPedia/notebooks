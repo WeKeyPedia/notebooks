{
 "cells": [
  {
   "cell_type": "code",
   "execution_count": 1,
   "metadata": {
    "collapsed": true
   },
   "outputs": [],
   "source": [
    "%run \"libraries.ipynb\"\n",
    "\n",
    "from IPython.display import display, HTML\n",
    "\n",
    "from bs4 import BeautifulSoup"
   ]
  },
  {
   "cell_type": "markdown",
   "metadata": {},
   "source": [
    "## storing the original namespace"
   ]
  },
  {
   "cell_type": "code",
   "execution_count": 2,
   "metadata": {
    "collapsed": true
   },
   "outputs": [],
   "source": [
    "pages = codecs.open(\"data/pagenames.txt\",\"r\", \"utf-8-sig\").readlines()\n",
    "pages = map(lambda x: x.strip(), pages)"
   ]
  },
  {
   "cell_type": "markdown",
   "metadata": {},
   "source": [
    "## finding wikipedia links in the page content"
   ]
  },
  {
   "cell_type": "code",
   "execution_count": 3,
   "metadata": {
    "collapsed": false
   },
   "outputs": [
    {
     "name": "stdout",
     "output_type": "stream",
     "text": [
      "nodes: 300\n",
      "edges: 3781\n"
     ]
    }
   ],
   "source": [
    "hyperlinks_graph = nx.DiGraph()\n",
    "\n",
    "def find_hyperlinks(page):\n",
    "    hyperlinks = []\n",
    "    \n",
    "    with codecs.open(\"data/pages/%s.json\" % (page), \"r\", \"utf-8-sig\") as f:\n",
    "        j = json.load(f)\n",
    "        content = j[\"query\"][\"pages\"][j[\"query\"][\"pages\"].keys()[0]]\n",
    "        content = content[\"revisions\"][0][\"*\"]\n",
    "\n",
    "    content = BeautifulSoup(content, 'html.parser') \n",
    "    \n",
    "    hyperlinks = content.find_all('a')\n",
    "        \n",
    "    return hyperlinks\n",
    "\n",
    "for p in pages:\n",
    "    hyperlinks = find_hyperlinks(p)\n",
    "    \n",
    "    # keep only title of the link\n",
    "    hyperlinks = map(lambda x: x.get(\"title\"), hyperlinks)\n",
    "    hyperlinks = list(set(hyperlinks))\n",
    "\n",
    "    # keep only linked pages that are inside the initial domain\n",
    "    intradomain_pages = set(hyperlinks) & set(pages)\n",
    "    extradomain_pages = set(hyperlinks) - set(pages)\n",
    "\n",
    "#     print len( hyperlinks )\n",
    "#     print len( intradomain_pages )\n",
    "#     print len( extradomain_pages )\n",
    "    \n",
    "    for target in intradomain_pages:\n",
    "        hyperlinks_graph.add_edge(p, target)\n",
    "\n",
    "print \"nodes: %s\" % len(hyperlinks_graph.nodes())\n",
    "print \"edges: %s\" % len(hyperlinks_graph.edges())"
   ]
  },
  {
   "cell_type": "markdown",
   "metadata": {},
   "source": [
    "## storing the result graph"
   ]
  },
  {
   "cell_type": "code",
   "execution_count": 4,
   "metadata": {
    "collapsed": true
   },
   "outputs": [],
   "source": [
    "nx.write_gexf(hyperlinks_graph, \"data/hyperlinks.gexf\")"
   ]
  },
  {
   "cell_type": "markdown",
   "metadata": {},
   "source": [
    "## community detection (louvain)"
   ]
  },
  {
   "cell_type": "code",
   "execution_count": 5,
   "metadata": {
    "collapsed": true
   },
   "outputs": [],
   "source": [
    "import community\n",
    "partitions = community.best_partition(hyperlinks_graph.to_undirected())"
   ]
  },
  {
   "cell_type": "code",
   "execution_count": 6,
   "metadata": {
    "collapsed": false
   },
   "outputs": [
    {
     "data": {
      "text/html": [
       "<table><tr><td style=\"width: 100px; text-align: center; \"><h3>group 0</h3></td><td><a href=\"http://en.wikipedia.org/wiki/Bézier curve\" target=\"_blank\">Bézier curve</a>, <a href=\"http://en.wikipedia.org/wiki/Integral geometry\" target=\"_blank\">Integral geometry</a>, <a href=\"http://en.wikipedia.org/wiki/Discrete geometry\" target=\"_blank\">Discrete geometry</a>, <a href=\"http://en.wikipedia.org/wiki/Polygon triangulation\" target=\"_blank\">Polygon triangulation</a>, <a href=\"http://en.wikipedia.org/wiki/Ehrhart polynomial\" target=\"_blank\">Ehrhart polynomial</a>, <a href=\"http://en.wikipedia.org/wiki/Point in polygon\" target=\"_blank\">Point in polygon</a>, <a href=\"http://en.wikipedia.org/wiki/3D computer graphics\" target=\"_blank\">3D computer graphics</a>, <a href=\"http://en.wikipedia.org/wiki/Convex hull\" target=\"_blank\">Convex hull</a>, <a href=\"http://en.wikipedia.org/wiki/Digital geometry\" target=\"_blank\">Digital geometry</a>, <a href=\"http://en.wikipedia.org/wiki/Spline (mathematics)\" target=\"_blank\">Spline (mathematics)</a>, <a href=\"http://en.wikipedia.org/wiki/Geometry of numbers\" target=\"_blank\">Geometry of numbers</a>, <a href=\"http://en.wikipedia.org/wiki/Non-uniform rational B-spline\" target=\"_blank\">Non-uniform rational B-spline</a>, <a href=\"http://en.wikipedia.org/wiki/Euclidean shortest path\" target=\"_blank\">Euclidean shortest path</a>, <a href=\"http://en.wikipedia.org/wiki/Minkowski's theorem\" target=\"_blank\">Minkowski's theorem</a>, <a href=\"http://en.wikipedia.org/wiki/Image analysis\" target=\"_blank\">Image analysis</a>, <a href=\"http://en.wikipedia.org/wiki/Delaunay triangulation\" target=\"_blank\">Delaunay triangulation</a>, <a href=\"http://en.wikipedia.org/wiki/Pick's theorem\" target=\"_blank\">Pick's theorem</a>, <a href=\"http://en.wikipedia.org/wiki/Computational geometry\" target=\"_blank\">Computational geometry</a>, <a href=\"http://en.wikipedia.org/wiki/B-spline\" target=\"_blank\">B-spline</a>, <a href=\"http://en.wikipedia.org/wiki/Hidden line removal\" target=\"_blank\">Hidden line removal</a>, <a href=\"http://en.wikipedia.org/wiki/Binary space partitioning\" target=\"_blank\">Binary space partitioning</a>, <a href=\"http://en.wikipedia.org/wiki/Computer graphics\" target=\"_blank\">Computer graphics</a>, <a href=\"http://en.wikipedia.org/wiki/Minkowski addition\" target=\"_blank\">Minkowski addition</a>, <a href=\"http://en.wikipedia.org/wiki/Graham scan\" target=\"_blank\">Graham scan</a>, <a href=\"http://en.wikipedia.org/wiki/Constructive solid geometry\" target=\"_blank\">Constructive solid geometry</a>, <a href=\"http://en.wikipedia.org/wiki/Convex geometry\" target=\"_blank\">Convex geometry</a>, <a href=\"http://en.wikipedia.org/wiki/Ray tracing (graphics)\" target=\"_blank\">Ray tracing (graphics)</a>, <a href=\"http://en.wikipedia.org/wiki/Point location\" target=\"_blank\">Point location</a></td></tr><tr><td style=\"width: 100px; text-align: center; \"><h3>group 1</h3></td><td><a href=\"http://en.wikipedia.org/wiki/Elliptic geometry\" target=\"_blank\">Elliptic geometry</a>, <a href=\"http://en.wikipedia.org/wiki/Geometrization conjecture\" target=\"_blank\">Geometrization conjecture</a>, <a href=\"http://en.wikipedia.org/wiki/Absolute geometry\" target=\"_blank\">Absolute geometry</a>, <a href=\"http://en.wikipedia.org/wiki/Shear mapping\" target=\"_blank\">Shear mapping</a>, <a href=\"http://en.wikipedia.org/wiki/Ordered geometry\" target=\"_blank\">Ordered geometry</a>, <a href=\"http://en.wikipedia.org/wiki/Line (geometry)\" target=\"_blank\">Line (geometry)</a>, <a href=\"http://en.wikipedia.org/wiki/Congruence (geometry)\" target=\"_blank\">Congruence (geometry)</a>, <a href=\"http://en.wikipedia.org/wiki/Annulus (mathematics)\" target=\"_blank\">Annulus (mathematics)</a>, <a href=\"http://en.wikipedia.org/wiki/Klein geometry\" target=\"_blank\">Klein geometry</a>, <a href=\"http://en.wikipedia.org/wiki/Symplectic geometry\" target=\"_blank\">Symplectic geometry</a>, <a href=\"http://en.wikipedia.org/wiki/Root system\" target=\"_blank\">Root system</a>, <a href=\"http://en.wikipedia.org/wiki/Reflection (mathematics)\" target=\"_blank\">Reflection (mathematics)</a>, <a href=\"http://en.wikipedia.org/wiki/Erlangen program\" target=\"_blank\">Erlangen program</a>, <a href=\"http://en.wikipedia.org/wiki/2D computer graphics\" target=\"_blank\">2D computer graphics</a>, <a href=\"http://en.wikipedia.org/wiki/Contact geometry\" target=\"_blank\">Contact geometry</a>, <a href=\"http://en.wikipedia.org/wiki/Parallel (geometry)\" target=\"_blank\">Parallel (geometry)</a>, <a href=\"http://en.wikipedia.org/wiki/Minkowski space\" target=\"_blank\">Minkowski space</a>, <a href=\"http://en.wikipedia.org/wiki/Similarity (geometry)\" target=\"_blank\">Similarity (geometry)</a>, <a href=\"http://en.wikipedia.org/wiki/Riemannian geometry\" target=\"_blank\">Riemannian geometry</a>, <a href=\"http://en.wikipedia.org/wiki/Non-Euclidean geometry\" target=\"_blank\">Non-Euclidean geometry</a>, <a href=\"http://en.wikipedia.org/wiki/Information geometry\" target=\"_blank\">Information geometry</a>, <a href=\"http://en.wikipedia.org/wiki/Homothetic transformation\" target=\"_blank\">Homothetic transformation</a>, <a href=\"http://en.wikipedia.org/wiki/Coordinate rotations and reflections\" target=\"_blank\">Coordinate rotations and reflections</a>, <a href=\"http://en.wikipedia.org/wiki/Systolic geometry\" target=\"_blank\">Systolic geometry</a>, <a href=\"http://en.wikipedia.org/wiki/Invariant (mathematics)\" target=\"_blank\">Invariant (mathematics)</a>, <a href=\"http://en.wikipedia.org/wiki/Pseudosphere\" target=\"_blank\">Pseudosphere</a>, <a href=\"http://en.wikipedia.org/wiki/Ruppeiner geometry\" target=\"_blank\">Ruppeiner geometry</a>, <a href=\"http://en.wikipedia.org/wiki/Euclidean geometry\" target=\"_blank\">Euclidean geometry</a>, <a href=\"http://en.wikipedia.org/wiki/Isometry\" target=\"_blank\">Isometry</a>, <a href=\"http://en.wikipedia.org/wiki/Affine transformation\" target=\"_blank\">Affine transformation</a>, <a href=\"http://en.wikipedia.org/wiki/Rotation (mathematics)\" target=\"_blank\">Rotation (mathematics)</a>, <a href=\"http://en.wikipedia.org/wiki/Point (geometry)\" target=\"_blank\">Point (geometry)</a>, <a href=\"http://en.wikipedia.org/wiki/Hyperbolic geometry\" target=\"_blank\">Hyperbolic geometry</a>, <a href=\"http://en.wikipedia.org/wiki/Euclidean distance\" target=\"_blank\">Euclidean distance</a>, <a href=\"http://en.wikipedia.org/wiki/Affine geometry\" target=\"_blank\">Affine geometry</a>, <a href=\"http://en.wikipedia.org/wiki/Sangaku\" target=\"_blank\">Sangaku</a>, <a href=\"http://en.wikipedia.org/wiki/Translation (geometry)\" target=\"_blank\">Translation (geometry)</a>, <a href=\"http://en.wikipedia.org/wiki/Pythagorean theorem\" target=\"_blank\">Pythagorean theorem</a>, <a href=\"http://en.wikipedia.org/wiki/Four-dimensional space\" target=\"_blank\">Four-dimensional space</a>, <a href=\"http://en.wikipedia.org/wiki/Transformation geometry\" target=\"_blank\">Transformation geometry</a>, <a href=\"http://en.wikipedia.org/wiki/Spherical geometry\" target=\"_blank\">Spherical geometry</a>, <a href=\"http://en.wikipedia.org/wiki/Hadwiger's theorem\" target=\"_blank\">Hadwiger's theorem</a>, <a href=\"http://en.wikipedia.org/wiki/Differential geometry\" target=\"_blank\">Differential geometry</a>, <a href=\"http://en.wikipedia.org/wiki/Strähle construction\" target=\"_blank\">Strähle construction</a>, <a href=\"http://en.wikipedia.org/wiki/Parallel postulate\" target=\"_blank\">Parallel postulate</a>, <a href=\"http://en.wikipedia.org/wiki/Hilbert's axioms\" target=\"_blank\">Hilbert's axioms</a></td></tr><tr><td style=\"width: 100px; text-align: center; \"><h3>group 2</h3></td><td><a href=\"http://en.wikipedia.org/wiki/Triangle inequality\" target=\"_blank\">Triangle inequality</a>, <a href=\"http://en.wikipedia.org/wiki/Spherical trigonometry\" target=\"_blank\">Spherical trigonometry</a>, <a href=\"http://en.wikipedia.org/wiki/Symmedian\" target=\"_blank\">Symmedian</a>, <a href=\"http://en.wikipedia.org/wiki/Squaring the circle\" target=\"_blank\">Squaring the circle</a>, <a href=\"http://en.wikipedia.org/wiki/Isosceles trapezoid\" target=\"_blank\">Isosceles trapezoid</a>, <a href=\"http://en.wikipedia.org/wiki/Equilateral triangle\" target=\"_blank\">Equilateral triangle</a>, <a href=\"http://en.wikipedia.org/wiki/List of circle topics\" target=\"_blank\">List of circle topics</a>, <a href=\"http://en.wikipedia.org/wiki/Polar sine\" target=\"_blank\">Polar sine</a>, <a href=\"http://en.wikipedia.org/wiki/Circle\" target=\"_blank\">Circle</a>, <a href=\"http://en.wikipedia.org/wiki/Pi\" target=\"_blank\">Pi</a>, <a href=\"http://en.wikipedia.org/wiki/Incircle and excircles of a triangle\" target=\"_blank\">Incircle and excircles of a triangle</a>, <a href=\"http://en.wikipedia.org/wiki/Poncelet–Steiner theorem\" target=\"_blank\">Poncelet–Steiner theorem</a>, <a href=\"http://en.wikipedia.org/wiki/Holditch's theorem\" target=\"_blank\">Holditch's theorem</a>, <a href=\"http://en.wikipedia.org/wiki/Golden angle\" target=\"_blank\">Golden angle</a>, <a href=\"http://en.wikipedia.org/wiki/Tangential quadrilateral\" target=\"_blank\">Tangential quadrilateral</a>, <a href=\"http://en.wikipedia.org/wiki/Rectangle\" target=\"_blank\">Rectangle</a>, <a href=\"http://en.wikipedia.org/wiki/Heron's formula\" target=\"_blank\">Heron's formula</a>, <a href=\"http://en.wikipedia.org/wiki/Circumscribed circle\" target=\"_blank\">Circumscribed circle</a>, <a href=\"http://en.wikipedia.org/wiki/Brahmagupta's formula\" target=\"_blank\">Brahmagupta's formula</a>, <a href=\"http://en.wikipedia.org/wiki/List of triangle inequalities\" target=\"_blank\">List of triangle inequalities</a>, <a href=\"http://en.wikipedia.org/wiki/Ptolemy's theorem\" target=\"_blank\">Ptolemy's theorem</a>, <a href=\"http://en.wikipedia.org/wiki/Van Hiele model\" target=\"_blank\">Van Hiele model</a>, <a href=\"http://en.wikipedia.org/wiki/Distance geometry\" target=\"_blank\">Distance geometry</a>, <a href=\"http://en.wikipedia.org/wiki/Power center (geometry)\" target=\"_blank\">Power center (geometry)</a>, <a href=\"http://en.wikipedia.org/wiki/Nine-point circle\" target=\"_blank\">Nine-point circle</a>, <a href=\"http://en.wikipedia.org/wiki/Angle trisection\" target=\"_blank\">Angle trisection</a>, <a href=\"http://en.wikipedia.org/wiki/Inscribed angle\" target=\"_blank\">Inscribed angle</a>, <a href=\"http://en.wikipedia.org/wiki/Altitude (triangle)\" target=\"_blank\">Altitude (triangle)</a>, <a href=\"http://en.wikipedia.org/wiki/Dividing a circle into areas\" target=\"_blank\">Dividing a circle into areas</a>, <a href=\"http://en.wikipedia.org/wiki/List of interactive geometry software\" target=\"_blank\">List of interactive geometry software</a>, <a href=\"http://en.wikipedia.org/wiki/Trigonometry\" target=\"_blank\">Trigonometry</a>, <a href=\"http://en.wikipedia.org/wiki/Quadrilateral\" target=\"_blank\">Quadrilateral</a>, <a href=\"http://en.wikipedia.org/wiki/Curve of constant width\" target=\"_blank\">Curve of constant width</a>, <a href=\"http://en.wikipedia.org/wiki/Kite (geometry)\" target=\"_blank\">Kite (geometry)</a>, <a href=\"http://en.wikipedia.org/wiki/Isoperimetric inequality\" target=\"_blank\">Isoperimetric inequality</a>, <a href=\"http://en.wikipedia.org/wiki/Orthodiagonal quadrilateral\" target=\"_blank\">Orthodiagonal quadrilateral</a>, <a href=\"http://en.wikipedia.org/wiki/Bicentric quadrilateral\" target=\"_blank\">Bicentric quadrilateral</a>, <a href=\"http://en.wikipedia.org/wiki/Central angle\" target=\"_blank\">Central angle</a>, <a href=\"http://en.wikipedia.org/wiki/Equidiagonal quadrilateral\" target=\"_blank\">Equidiagonal quadrilateral</a>, <a href=\"http://en.wikipedia.org/wiki/Trapezoid\" target=\"_blank\">Trapezoid</a>, <a href=\"http://en.wikipedia.org/wiki/Pons asinorum\" target=\"_blank\">Pons asinorum</a>, <a href=\"http://en.wikipedia.org/wiki/Sphericon\" target=\"_blank\">Sphericon</a>, <a href=\"http://en.wikipedia.org/wiki/Orthocentric system\" target=\"_blank\">Orthocentric system</a>, <a href=\"http://en.wikipedia.org/wiki/Euler line\" target=\"_blank\">Euler line</a>, <a href=\"http://en.wikipedia.org/wiki/Right triangle\" target=\"_blank\">Right triangle</a>, <a href=\"http://en.wikipedia.org/wiki/Isosceles triangle\" target=\"_blank\">Isosceles triangle</a>, <a href=\"http://en.wikipedia.org/wiki/Concurrent lines\" target=\"_blank\">Concurrent lines</a>, <a href=\"http://en.wikipedia.org/wiki/Astronomy\" target=\"_blank\">Astronomy</a>, <a href=\"http://en.wikipedia.org/wiki/Taxicab geometry\" target=\"_blank\">Taxicab geometry</a>, <a href=\"http://en.wikipedia.org/wiki/Homothetic center\" target=\"_blank\">Homothetic center</a>, <a href=\"http://en.wikipedia.org/wiki/Integer triangle\" target=\"_blank\">Integer triangle</a>, <a href=\"http://en.wikipedia.org/wiki/Heronian triangle\" target=\"_blank\">Heronian triangle</a>, <a href=\"http://en.wikipedia.org/wiki/Straightedge\" target=\"_blank\">Straightedge</a>, <a href=\"http://en.wikipedia.org/wiki/Mrs. Miniver's problem\" target=\"_blank\">Mrs. Miniver's problem</a>, <a href=\"http://en.wikipedia.org/wiki/Reuleaux triangle\" target=\"_blank\">Reuleaux triangle</a>, <a href=\"http://en.wikipedia.org/wiki/Ball (mathematics)\" target=\"_blank\">Ball (mathematics)</a>, <a href=\"http://en.wikipedia.org/wiki/Bretschneider's formula\" target=\"_blank\">Bretschneider's formula</a>, <a href=\"http://en.wikipedia.org/wiki/Pedal triangle\" target=\"_blank\">Pedal triangle</a>, <a href=\"http://en.wikipedia.org/wiki/Compass-and-straightedge construction\" target=\"_blank\">Compass-and-straightedge construction</a>, <a href=\"http://en.wikipedia.org/wiki/List of triangle topics\" target=\"_blank\">List of triangle topics</a>, <a href=\"http://en.wikipedia.org/wiki/Parallelogram law\" target=\"_blank\">Parallelogram law</a>, <a href=\"http://en.wikipedia.org/wiki/Thales' theorem\" target=\"_blank\">Thales' theorem</a>, <a href=\"http://en.wikipedia.org/wiki/List of trigonometry topics\" target=\"_blank\">List of trigonometry topics</a>, <a href=\"http://en.wikipedia.org/wiki/Pedoe's inequality\" target=\"_blank\">Pedoe's inequality</a>, <a href=\"http://en.wikipedia.org/wiki/Angle\" target=\"_blank\">Angle</a>, <a href=\"http://en.wikipedia.org/wiki/Acute and obtuse triangles\" target=\"_blank\">Acute and obtuse triangles</a>, <a href=\"http://en.wikipedia.org/wiki/Pythagorean triple\" target=\"_blank\">Pythagorean triple</a>, <a href=\"http://en.wikipedia.org/wiki/Triangle\" target=\"_blank\">Triangle</a>, <a href=\"http://en.wikipedia.org/wiki/Concyclic points\" target=\"_blank\">Concyclic points</a>, <a href=\"http://en.wikipedia.org/wiki/Cyclic quadrilateral\" target=\"_blank\">Cyclic quadrilateral</a>, <a href=\"http://en.wikipedia.org/wiki/Rhombus\" target=\"_blank\">Rhombus</a></td></tr><tr><td style=\"width: 100px; text-align: center; \"><h3>group 3</h3></td><td><a href=\"http://en.wikipedia.org/wiki/Prismatoid\" target=\"_blank\">Prismatoid</a>, <a href=\"http://en.wikipedia.org/wiki/Kepler–Poinsot polyhedron\" target=\"_blank\">Kepler–Poinsot polyhedron</a>, <a href=\"http://en.wikipedia.org/wiki/2D geometric model\" target=\"_blank\">2D geometric model</a>, <a href=\"http://en.wikipedia.org/wiki/Point groups in three dimensions\" target=\"_blank\">Point groups in three dimensions</a>, <a href=\"http://en.wikipedia.org/wiki/Tetrahedron\" target=\"_blank\">Tetrahedron</a>, <a href=\"http://en.wikipedia.org/wiki/Regular polytope\" target=\"_blank\">Regular polytope</a>, <a href=\"http://en.wikipedia.org/wiki/Polytope compound\" target=\"_blank\">Polytope compound</a>, <a href=\"http://en.wikipedia.org/wiki/Star polygon\" target=\"_blank\">Star polygon</a>, <a href=\"http://en.wikipedia.org/wiki/Wallpaper group\" target=\"_blank\">Wallpaper group</a>, <a href=\"http://en.wikipedia.org/wiki/Square\" target=\"_blank\">Square</a>, <a href=\"http://en.wikipedia.org/wiki/Penrose tiling\" target=\"_blank\">Penrose tiling</a>, <a href=\"http://en.wikipedia.org/wiki/Space group\" target=\"_blank\">Space group</a>, <a href=\"http://en.wikipedia.org/wiki/Convex uniform honeycomb\" target=\"_blank\">Convex uniform honeycomb</a>, <a href=\"http://en.wikipedia.org/wiki/Polygon\" target=\"_blank\">Polygon</a>, <a href=\"http://en.wikipedia.org/wiki/Relative direction\" target=\"_blank\">Relative direction</a>, <a href=\"http://en.wikipedia.org/wiki/Prototile\" target=\"_blank\">Prototile</a>, <a href=\"http://en.wikipedia.org/wiki/Parallelepiped\" target=\"_blank\">Parallelepiped</a>, <a href=\"http://en.wikipedia.org/wiki/Aperiodic tiling\" target=\"_blank\">Aperiodic tiling</a>, <a href=\"http://en.wikipedia.org/wiki/Honeycomb (geometry)\" target=\"_blank\">Honeycomb (geometry)</a>, <a href=\"http://en.wikipedia.org/wiki/Frieze group\" target=\"_blank\">Frieze group</a>, <a href=\"http://en.wikipedia.org/wiki/Crystal\" target=\"_blank\">Crystal</a>, <a href=\"http://en.wikipedia.org/wiki/Internal and external angle\" target=\"_blank\">Internal and external angle</a>, <a href=\"http://en.wikipedia.org/wiki/Deltahedron\" target=\"_blank\">Deltahedron</a>, <a href=\"http://en.wikipedia.org/wiki/Zonohedron\" target=\"_blank\">Zonohedron</a>, <a href=\"http://en.wikipedia.org/wiki/Regular Polytopes (book)\" target=\"_blank\">Regular Polytopes (book)</a>, <a href=\"http://en.wikipedia.org/wiki/Pyramid (geometry)\" target=\"_blank\">Pyramid (geometry)</a>, <a href=\"http://en.wikipedia.org/wiki/Quasicrystal\" target=\"_blank\">Quasicrystal</a>, <a href=\"http://en.wikipedia.org/wiki/Fractal\" target=\"_blank\">Fractal</a>, <a href=\"http://en.wikipedia.org/wiki/Polyhedron\" target=\"_blank\">Polyhedron</a>, <a href=\"http://en.wikipedia.org/wiki/Polytope\" target=\"_blank\">Polytope</a>, <a href=\"http://en.wikipedia.org/wiki/Lattice (group)\" target=\"_blank\">Lattice (group)</a>, <a href=\"http://en.wikipedia.org/wiki/Symmetry\" target=\"_blank\">Symmetry</a>, <a href=\"http://en.wikipedia.org/wiki/Prism (geometry)\" target=\"_blank\">Prism (geometry)</a>, <a href=\"http://en.wikipedia.org/wiki/Voronoi diagram\" target=\"_blank\">Voronoi diagram</a>, <a href=\"http://en.wikipedia.org/wiki/Wallace–Bolyai–Gerwien theorem\" target=\"_blank\">Wallace–Bolyai–Gerwien theorem</a>, <a href=\"http://en.wikipedia.org/wiki/Glide reflection\" target=\"_blank\">Glide reflection</a>, <a href=\"http://en.wikipedia.org/wiki/Uniform tessellation\" target=\"_blank\">Uniform tessellation</a>, <a href=\"http://en.wikipedia.org/wiki/Pattern\" target=\"_blank\">Pattern</a>, <a href=\"http://en.wikipedia.org/wiki/Wang tile\" target=\"_blank\">Wang tile</a>, <a href=\"http://en.wikipedia.org/wiki/Platonic solid\" target=\"_blank\">Platonic solid</a>, <a href=\"http://en.wikipedia.org/wiki/Roman surface\" target=\"_blank\">Roman surface</a>, <a href=\"http://en.wikipedia.org/wiki/Dissection problem\" target=\"_blank\">Dissection problem</a>, <a href=\"http://en.wikipedia.org/wiki/Dihedral angle\" target=\"_blank\">Dihedral angle</a>, <a href=\"http://en.wikipedia.org/wiki/Coxeter group\" target=\"_blank\">Coxeter group</a>, <a href=\"http://en.wikipedia.org/wiki/Point groups in two dimensions\" target=\"_blank\">Point groups in two dimensions</a>, <a href=\"http://en.wikipedia.org/wiki/Angular defect\" target=\"_blank\">Angular defect</a>, <a href=\"http://en.wikipedia.org/wiki/Tessellation\" target=\"_blank\">Tessellation</a>, <a href=\"http://en.wikipedia.org/wiki/Uniform polyhedron\" target=\"_blank\">Uniform polyhedron</a>, <a href=\"http://en.wikipedia.org/wiki/Hilbert's third problem\" target=\"_blank\">Hilbert's third problem</a>, <a href=\"http://en.wikipedia.org/wiki/Symmetry group\" target=\"_blank\">Symmetry group</a>, <a href=\"http://en.wikipedia.org/wiki/Chirality (mathematics)\" target=\"_blank\">Chirality (mathematics)</a>, <a href=\"http://en.wikipedia.org/wiki/Schläfli symbol\" target=\"_blank\">Schläfli symbol</a>, <a href=\"http://en.wikipedia.org/wiki/Translational symmetry\" target=\"_blank\">Translational symmetry</a>, <a href=\"http://en.wikipedia.org/wiki/Mirror image\" target=\"_blank\">Mirror image</a>, <a href=\"http://en.wikipedia.org/wiki/Handedness\" target=\"_blank\">Handedness</a>, <a href=\"http://en.wikipedia.org/wiki/Johnson solid\" target=\"_blank\">Johnson solid</a>, <a href=\"http://en.wikipedia.org/wiki/Heronian tetrahedron\" target=\"_blank\">Heronian tetrahedron</a>, <a href=\"http://en.wikipedia.org/wiki/Archimedean solid\" target=\"_blank\">Archimedean solid</a>, <a href=\"http://en.wikipedia.org/wiki/Crystal system\" target=\"_blank\">Crystal system</a>, <a href=\"http://en.wikipedia.org/wiki/Point group\" target=\"_blank\">Point group</a></td></tr><tr><td style=\"width: 100px; text-align: center; \"><h3>group 4</h3></td><td><a href=\"http://en.wikipedia.org/wiki/Steiner chain\" target=\"_blank\">Steiner chain</a>, <a href=\"http://en.wikipedia.org/wiki/Girard Desargues\" target=\"_blank\">Girard Desargues</a>, <a href=\"http://en.wikipedia.org/wiki/Kissing number problem\" target=\"_blank\">Kissing number problem</a>, <a href=\"http://en.wikipedia.org/wiki/Napkin ring problem\" target=\"_blank\">Napkin ring problem</a>, <a href=\"http://en.wikipedia.org/wiki/Eccentricity (mathematics)\" target=\"_blank\">Eccentricity (mathematics)</a>, <a href=\"http://en.wikipedia.org/wiki/Dandelin spheres\" target=\"_blank\">Dandelin spheres</a>, <a href=\"http://en.wikipedia.org/wiki/Semi-major axis\" target=\"_blank\">Semi-major axis</a>, <a href=\"http://en.wikipedia.org/wiki/Paraboloid\" target=\"_blank\">Paraboloid</a>, <a href=\"http://en.wikipedia.org/wiki/Pappus's centroid theorem\" target=\"_blank\">Pappus's centroid theorem</a>, <a href=\"http://en.wikipedia.org/wiki/Descriptive geometry\" target=\"_blank\">Descriptive geometry</a>, <a href=\"http://en.wikipedia.org/wiki/Parametric surface\" target=\"_blank\">Parametric surface</a>, <a href=\"http://en.wikipedia.org/wiki/Mathematical morphology\" target=\"_blank\">Mathematical morphology</a>, <a href=\"http://en.wikipedia.org/wiki/Cone\" target=\"_blank\">Cone</a>, <a href=\"http://en.wikipedia.org/wiki/Focus (geometry)\" target=\"_blank\">Focus (geometry)</a>, <a href=\"http://en.wikipedia.org/wiki/Leech lattice\" target=\"_blank\">Leech lattice</a>, <a href=\"http://en.wikipedia.org/wiki/Cavalieri's principle\" target=\"_blank\">Cavalieri's principle</a>, <a href=\"http://en.wikipedia.org/wiki/Parabolic reflector\" target=\"_blank\">Parabolic reflector</a>, <a href=\"http://en.wikipedia.org/wiki/Soddy's hexlet\" target=\"_blank\">Soddy's hexlet</a>, <a href=\"http://en.wikipedia.org/wiki/Kepler conjecture\" target=\"_blank\">Kepler conjecture</a>, <a href=\"http://en.wikipedia.org/wiki/Geometry\" target=\"_blank\">Geometry</a>, <a href=\"http://en.wikipedia.org/wiki/Quadric\" target=\"_blank\">Quadric</a>, <a href=\"http://en.wikipedia.org/wiki/Analytic geometry\" target=\"_blank\">Analytic geometry</a>, <a href=\"http://en.wikipedia.org/wiki/Conic section\" target=\"_blank\">Conic section</a>, <a href=\"http://en.wikipedia.org/wiki/Infinitesimal transformation\" target=\"_blank\">Infinitesimal transformation</a>, <a href=\"http://en.wikipedia.org/wiki/Coordinate-free\" target=\"_blank\">Coordinate-free</a>, <a href=\"http://en.wikipedia.org/wiki/Sphere\" target=\"_blank\">Sphere</a>, <a href=\"http://en.wikipedia.org/wiki/Spheroid\" target=\"_blank\">Spheroid</a>, <a href=\"http://en.wikipedia.org/wiki/Matrix representation of conic sections\" target=\"_blank\">Matrix representation of conic sections</a>, <a href=\"http://en.wikipedia.org/wiki/Hyperbola\" target=\"_blank\">Hyperbola</a>, <a href=\"http://en.wikipedia.org/wiki/Mathematics and fiber arts\" target=\"_blank\">Mathematics and fiber arts</a>, <a href=\"http://en.wikipedia.org/wiki/Torus\" target=\"_blank\">Torus</a>, <a href=\"http://en.wikipedia.org/wiki/Solid geometry\" target=\"_blank\">Solid geometry</a>, <a href=\"http://en.wikipedia.org/wiki/Parabolic microphone\" target=\"_blank\">Parabolic microphone</a>, <a href=\"http://en.wikipedia.org/wiki/Shape\" target=\"_blank\">Shape</a>, <a href=\"http://en.wikipedia.org/wiki/Ellipsoid\" target=\"_blank\">Ellipsoid</a>, <a href=\"http://en.wikipedia.org/wiki/Parabola\" target=\"_blank\">Parabola</a>, <a href=\"http://en.wikipedia.org/wiki/Sphere packing\" target=\"_blank\">Sphere packing</a>, <a href=\"http://en.wikipedia.org/wiki/Normal (geometry)\" target=\"_blank\">Normal (geometry)</a>, <a href=\"http://en.wikipedia.org/wiki/Parametric equation\" target=\"_blank\">Parametric equation</a>, <a href=\"http://en.wikipedia.org/wiki/Geometric shape\" target=\"_blank\">Geometric shape</a>, <a href=\"http://en.wikipedia.org/wiki/Locus (mathematics)\" target=\"_blank\">Locus (mathematics)</a>, <a href=\"http://en.wikipedia.org/wiki/The Method of Mechanical Theorems\" target=\"_blank\">The Method of Mechanical Theorems</a>, <a href=\"http://en.wikipedia.org/wiki/Cross section (geometry)\" target=\"_blank\">Cross section (geometry)</a>, <a href=\"http://en.wikipedia.org/wiki/Hyperboloid\" target=\"_blank\">Hyperboloid</a>, <a href=\"http://en.wikipedia.org/wiki/Ellipse\" target=\"_blank\">Ellipse</a></td></tr><tr><td style=\"width: 100px; text-align: center; \"><h3>group 5</h3></td><td><a href=\"http://en.wikipedia.org/wiki/Incidence (geometry)\" target=\"_blank\">Incidence (geometry)</a>, <a href=\"http://en.wikipedia.org/wiki/Complex geometry\" target=\"_blank\">Complex geometry</a>, <a href=\"http://en.wikipedia.org/wiki/Oval (projective plane)\" target=\"_blank\">Oval (projective plane)</a>, <a href=\"http://en.wikipedia.org/wiki/Affine space\" target=\"_blank\">Affine space</a>, <a href=\"http://en.wikipedia.org/wiki/Enumerative geometry\" target=\"_blank\">Enumerative geometry</a>, <a href=\"http://en.wikipedia.org/wiki/Duality (projective geometry)\" target=\"_blank\">Duality (projective geometry)</a>, <a href=\"http://en.wikipedia.org/wiki/Riemann sphere\" target=\"_blank\">Riemann sphere</a>, <a href=\"http://en.wikipedia.org/wiki/Algebraic geometry\" target=\"_blank\">Algebraic geometry</a>, <a href=\"http://en.wikipedia.org/wiki/Birational geometry\" target=\"_blank\">Birational geometry</a>, <a href=\"http://en.wikipedia.org/wiki/Line at infinity\" target=\"_blank\">Line at infinity</a>, <a href=\"http://en.wikipedia.org/wiki/Group action\" target=\"_blank\">Group action</a>, <a href=\"http://en.wikipedia.org/wiki/Topology\" target=\"_blank\">Topology</a>, <a href=\"http://en.wikipedia.org/wiki/Inversive geometry\" target=\"_blank\">Inversive geometry</a>, <a href=\"http://en.wikipedia.org/wiki/Parabolic geometry (differential geometry)\" target=\"_blank\">Parabolic geometry (differential geometry)</a>, <a href=\"http://en.wikipedia.org/wiki/Complex projective plane\" target=\"_blank\">Complex projective plane</a>, <a href=\"http://en.wikipedia.org/wiki/Projective geometry\" target=\"_blank\">Projective geometry</a>, <a href=\"http://en.wikipedia.org/wiki/Borromean rings\" target=\"_blank\">Borromean rings</a>, <a href=\"http://en.wikipedia.org/wiki/Pascal's theorem\" target=\"_blank\">Pascal's theorem</a>, <a href=\"http://en.wikipedia.org/wiki/Hyperplane at infinity\" target=\"_blank\">Hyperplane at infinity</a>, <a href=\"http://en.wikipedia.org/wiki/Cross-ratio\" target=\"_blank\">Cross-ratio</a>, <a href=\"http://en.wikipedia.org/wiki/Projective line over a ring\" target=\"_blank\">Projective line over a ring</a>, <a href=\"http://en.wikipedia.org/wiki/Finite geometry\" target=\"_blank\">Finite geometry</a>, <a href=\"http://en.wikipedia.org/wiki/Homogeneous coordinates\" target=\"_blank\">Homogeneous coordinates</a>, <a href=\"http://en.wikipedia.org/wiki/Projective line\" target=\"_blank\">Projective line</a>, <a href=\"http://en.wikipedia.org/wiki/Plane at infinity\" target=\"_blank\">Plane at infinity</a>, <a href=\"http://en.wikipedia.org/wiki/N-sphere\" target=\"_blank\">N-sphere</a>, <a href=\"http://en.wikipedia.org/wiki/Desargues' theorem\" target=\"_blank\">Desargues' theorem</a>, <a href=\"http://en.wikipedia.org/wiki/Lie sphere geometry\" target=\"_blank\">Lie sphere geometry</a>, <a href=\"http://en.wikipedia.org/wiki/Point at infinity\" target=\"_blank\">Point at infinity</a>, <a href=\"http://en.wikipedia.org/wiki/3-sphere\" target=\"_blank\">3-sphere</a>, <a href=\"http://en.wikipedia.org/wiki/Quantum geometry\" target=\"_blank\">Quantum geometry</a>, <a href=\"http://en.wikipedia.org/wiki/Monge's theorem\" target=\"_blank\">Monge's theorem</a>, <a href=\"http://en.wikipedia.org/wiki/Incidence geometry\" target=\"_blank\">Incidence geometry</a>, <a href=\"http://en.wikipedia.org/wiki/Toric variety\" target=\"_blank\">Toric variety</a>, <a href=\"http://en.wikipedia.org/wiki/Tropical geometry\" target=\"_blank\">Tropical geometry</a>, <a href=\"http://en.wikipedia.org/wiki/Pappus's hexagon theorem\" target=\"_blank\">Pappus's hexagon theorem</a>, <a href=\"http://en.wikipedia.org/wiki/Synthetic geometry\" target=\"_blank\">Synthetic geometry</a>, <a href=\"http://en.wikipedia.org/wiki/3D projection\" target=\"_blank\">3D projection</a>, <a href=\"http://en.wikipedia.org/wiki/Arc (projective geometry)\" target=\"_blank\">Arc (projective geometry)</a>, <a href=\"http://en.wikipedia.org/wiki/Projective plane\" target=\"_blank\">Projective plane</a>, <a href=\"http://en.wikipedia.org/wiki/Möbius transformation\" target=\"_blank\">Möbius transformation</a>, <a href=\"http://en.wikipedia.org/wiki/Mathematics\" target=\"_blank\">Mathematics</a>, <a href=\"http://en.wikipedia.org/wiki/Noncommutative geometry\" target=\"_blank\">Noncommutative geometry</a>, <a href=\"http://en.wikipedia.org/wiki/Conformal geometry\" target=\"_blank\">Conformal geometry</a>, <a href=\"http://en.wikipedia.org/wiki/Stereographic projection\" target=\"_blank\">Stereographic projection</a>, <a href=\"http://en.wikipedia.org/wiki/Homography\" target=\"_blank\">Homography</a>, <a href=\"http://en.wikipedia.org/wiki/Hermite spline\" target=\"_blank\">Hermite spline</a>, <a href=\"http://en.wikipedia.org/wiki/Projective space\" target=\"_blank\">Projective space</a>, <a href=\"http://en.wikipedia.org/wiki/Hyperplane\" target=\"_blank\">Hyperplane</a></td></tr><tr><td style=\"width: 100px; text-align: center; \"><h3>group 6</h3></td><td><a href=\"http://en.wikipedia.org/wiki/Epipolar geometry\" target=\"_blank\">Epipolar geometry</a></td></tr></table>"
      ],
      "text/plain": [
       "<IPython.core.display.HTML object>"
      ]
     },
     "metadata": {},
     "output_type": "display_data"
    }
   ],
   "source": [
    "def print_groups(communities):\n",
    "    html = \"<table>\"\n",
    "\n",
    "    for c, ps in communities.iteritems():\n",
    "        html += \"<tr><td style=\\\"width: 100px; text-align: center; \\\"><h3>group %s</h3></td><td>\" % (c)\n",
    "        html += \", \".join(map(lambda x: u\"<a href=\\\"http://en.wikipedia.org/wiki/{0}\\\" target=\\\"_blank\\\">{0}</a>\".format(x), ps))\n",
    "        html += \"</td></tr>\"\n",
    "    \n",
    "    html += \"</table>\"\n",
    "\n",
    "    display(HTML(html))\n",
    "        \n",
    "communities = {}\n",
    "for k, v in partitions.iteritems():\n",
    "    communities.setdefault(v, []).append(k)\n",
    "\n",
    "\n",
    "print_groups(communities)"
   ]
  }
 ],
 "metadata": {
  "kernelspec": {
   "display_name": "Python 2",
   "language": "python",
   "name": "python2"
  },
  "language_info": {
   "codemirror_mode": {
    "name": "ipython",
    "version": 2
   },
   "file_extension": ".py",
   "mimetype": "text/x-python",
   "name": "python",
   "nbconvert_exporter": "python",
   "pygments_lexer": "ipython2",
   "version": "2.7.8"
  }
 },
 "nbformat": 4,
 "nbformat_minor": 0
}
