{
 "cells": [
  {
   "cell_type": "markdown",
   "metadata": {},
   "source": [
    "# encoding and parsing wikipedia page diffs"
   ]
  },
  {
   "cell_type": "code",
   "execution_count": 2,
   "metadata": {
    "collapsed": false
   },
   "outputs": [],
   "source": [
    "import os\n",
    "import sys\n",
    "import pprint \n",
    "import random\n",
    "from collections import defaultdict\n",
    "\n",
    "from bs4 import BeautifulSoup\n",
    "import nltk\n",
    "\n",
    "from IPython.display import display, HTML\n",
    "\n",
    "sys.path.append(os.path.abspath('../../WKP-python-toolkit'))\n",
    "import wekeypedia"
   ]
  },
  {
   "cell_type": "code",
   "execution_count": 3,
   "metadata": {
    "collapsed": true
   },
   "outputs": [],
   "source": [
    "p = wekeypedia.WikipediaPage(\"Love\")\n",
    "\n",
    "revisions_list = p.get_revisions_list()"
   ]
  },
  {
   "cell_type": "code",
   "execution_count": 4,
   "metadata": {
    "collapsed": false
   },
   "outputs": [],
   "source": [
    "def normalize(word):\n",
    "  lemmatizer = nltk.WordNetLemmatizer()\n",
    "  stemmer = nltk.stem.porter.PorterStemmer()\n",
    "\n",
    "  word = word.lower()\n",
    "  word = stemmer.stem_word(word)\n",
    "  word = lemmatizer.lemmatize(word)\n",
    "\n",
    "  return word\n",
    "\n",
    "def extract(diff_html):\n",
    "  diff = { \"added\": [],\n",
    "           \"deleted\" : [] }\n",
    "\n",
    "  d = BeautifulSoup(diff_html, 'html.parser')\n",
    "\n",
    "  tr = d.find_all(\"tr\")\n",
    "\n",
    "  for what in [ [\"added\", \"ins\"], [\"deleted\", \"del\"] ]:\n",
    "    a = []\n",
    "\n",
    "    # checking block \n",
    "    # we also check this is not only context showing for non-substition edits\n",
    "    a = [ t.find(\"td\", \"diff-%sline\" % (what[0])) for t in tr if len(t.find_all(what[1])) == 0 and len(t.find_all(\"td\", \"diff-empty\")) > 0 ]\n",
    "\n",
    "    # checking inline\n",
    "    a.extend(d.find_all(what[1]))\n",
    "\n",
    "    # filtering empty extractions\n",
    "    a = [ x for x in a if x != None ]\n",
    "\n",
    "    # registering\n",
    "    diff[what[0]] = [ tag.get_text() for tag in a ]\n",
    "\n",
    "  return diff\n",
    "\n",
    "def count_stems(sentences, inflections=None):\n",
    "  stems = defaultdict(int)\n",
    "\n",
    "  for sentence in sentences:\n",
    "    for word in nltk.word_tokenize(sentence):\n",
    "      old = word\n",
    "      word = normalize(word)\n",
    "      if not(word in ignore_list):\n",
    "        stems[word] += 1\n",
    "\n",
    "        # keeping track of inflection usages\n",
    "        inflections[word].setdefault(old,0)\n",
    "        inflections[word][old] += 1\n",
    "\n",
    "  return stems\n",
    "\n",
    "def print_plusminus_overview(diff):\n",
    "    for minus in diff[\"deleted\"]:\n",
    "        print \"- %s\" % (minus)\n",
    "\n",
    "    for plus in diff[\"added\"]:\n",
    "        print \"+ %s\" % (plus)\n",
    "\n",
    "        \n",
    "def print_plusminus_terms_overview(stems):\n",
    "    print \"\\n%s|%s\\n\" % (\"+\"*len(stems[\"added\"].items()), \"-\"*len(stems[\"deleted\"].items()))"
   ]
  },
  {
   "cell_type": "code",
   "execution_count": 5,
   "metadata": {
    "collapsed": false,
    "scrolled": false
   },
   "outputs": [
    {
     "data": {
      "text/html": [
       "<h3>raw html query result</h3>"
      ],
      "text/plain": [
       "<IPython.core.display.HTML object>"
      ]
     },
     "metadata": {},
     "output_type": "display_data"
    },
    {
     "data": {
      "text/html": [
       "<tr>\n",
       "  <td colspan=\"2\" class=\"diff-lineno\">Line 110:</td>\n",
       "  <td colspan=\"2\" class=\"diff-lineno\">Line 110:</td>\n",
       "</tr>\n",
       "<tr>\n",
       "  <td class=\"diff-marker\">&#160;</td>\n",
       "  <td class=\"diff-context\"><div>* [[Human bonding]]</div></td>\n",
       "  <td class=\"diff-marker\">&#160;</td>\n",
       "  <td class=\"diff-context\"><div>* [[Human bonding]]</div></td>\n",
       "</tr>\n",
       "<tr>\n",
       "  <td class=\"diff-marker\">&#160;</td>\n",
       "  <td class=\"diff-context\"><div>* [[Intimate relationship]]</div></td>\n",
       "  <td class=\"diff-marker\">&#160;</td>\n",
       "  <td class=\"diff-context\"><div>* [[Intimate relationship]]</div></td>\n",
       "</tr>\n",
       "<tr>\n",
       "  <td class=\"diff-marker\">−</td>\n",
       "  <td class=\"diff-deletedline\"><div>* [[Jason loves Olivia more]] </div></td>\n",
       "  <td colspan=\"2\" class=\"diff-empty\">&#160;</td>\n",
       "</tr>\n",
       "<tr>\n",
       "  <td class=\"diff-marker\">&#160;</td>\n",
       "  <td class=\"diff-context\"><div>* [[Limerence]] </div></td>\n",
       "  <td class=\"diff-marker\">&#160;</td>\n",
       "  <td class=\"diff-context\"><div>* [[Limerence]] </div></td>\n",
       "</tr>\n",
       "<tr>\n",
       "  <td class=\"diff-marker\">&#160;</td>\n",
       "  <td class=\"diff-context\"><div>* [[Love at first sight]]</div></td>\n",
       "  <td class=\"diff-marker\">&#160;</td>\n",
       "  <td class=\"diff-context\"><div>* [[Love at first sight]]</div></td>\n",
       "</tr>\n",
       "\n",
       "<!-- diff cache key enwiki:diff:version:1.11a:oldid:99999663:newid:100000308 -->\n"
      ],
      "text/plain": [
       "<IPython.core.display.HTML object>"
      ]
     },
     "metadata": {},
     "output_type": "display_data"
    },
    {
     "data": {
      "text/html": [
       "<h3>plus/minus overview</h3>"
      ],
      "text/plain": [
       "<IPython.core.display.HTML object>"
      ]
     },
     "metadata": {},
     "output_type": "display_data"
    },
    {
     "name": "stdout",
     "output_type": "stream",
     "text": [
      "- * [[Jason loves Olivia more]] \n"
     ]
    },
    {
     "data": {
      "text/html": [
       "<h3>plus/minus ---> terms overview</h3>"
      ],
      "text/plain": [
       "<IPython.core.display.HTML object>"
      ]
     },
     "metadata": {},
     "output_type": "display_data"
    },
    {
     "name": "stdout",
     "output_type": "stream",
     "text": [
      "\n",
      "|----\n",
      "\n"
     ]
    },
    {
     "data": {
      "text/html": [
       "<h3>inflections</h3>"
      ],
      "text/plain": [
       "<IPython.core.display.HTML object>"
      ]
     },
     "metadata": {},
     "output_type": "display_data"
    },
    {
     "name": "stdout",
     "output_type": "stream",
     "text": [
      "[olivia] Olivia (1)\n",
      "[love] loves (1)\n",
      "[jason] Jason (1)\n",
      "[more] more (1)\n"
     ]
    }
   ],
   "source": [
    "inflections = defaultdict(dict)\n",
    "\n",
    "ignore_list = \"{}()[]<>./,;\\\"':!?&#=*&%\"\n",
    "\n",
    "display(HTML(\"<h3>raw html query result</h3>\"))\n",
    " \n",
    "#diff = p.get_diff(random.choice(revisions_list)[\"revid\"])\n",
    "diff = p.get_diff(100000308)\n",
    "\n",
    "display(HTML(diff))\n",
    "\n",
    "display(HTML(\"<h3>plus/minus overview</h3>\"))\n",
    "\n",
    "diff = extract(diff)\n",
    "print_plusminus_overview(diff)\n",
    "\n",
    "\n",
    "display(HTML(\"<h3>plus/minus ---> terms overview</h3>\"))\n",
    "\n",
    "stems = {}\n",
    "stems[\"added\"] = count_stems(diff[\"added\"], inflections)\n",
    "stems[\"deleted\"] = count_stems(diff[\"deleted\"], inflections)\n",
    "print_plusminus_terms_overview(stems)\n",
    "\n",
    "#  return (ad.items(),de.items(), { \"added\":inflections[\"added\"], \"deleted\":inflections[\"deleted\"] })\n",
    "\n",
    "display(HTML(\"<h3>inflections</h3>\"))\n",
    "\n",
    "for stem, i in inflections.iteritems():\n",
    "    print \"[%s] %s\" % (stem, \", \".join(map(lambda x: \"%s (%s)\" % (x[0], x[1]), i.items())))"
   ]
  }
 ],
 "metadata": {
  "kernelspec": {
   "display_name": "Python 2",
   "language": "python",
   "name": "python2"
  },
  "language_info": {
   "codemirror_mode": {
    "name": "ipython",
    "version": 2
   },
   "file_extension": ".py",
   "mimetype": "text/x-python",
   "name": "python",
   "nbconvert_exporter": "python",
   "pygments_lexer": "ipython2",
   "version": "2.7.9"
  }
 },
 "nbformat": 4,
 "nbformat_minor": 0
}
