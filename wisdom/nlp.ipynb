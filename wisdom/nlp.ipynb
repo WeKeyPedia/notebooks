{
 "cells": [
  {
   "cell_type": "code",
   "execution_count": 1,
   "metadata": {
    "collapsed": false
   },
   "outputs": [],
   "source": [
    "import os\n",
    "import sys\n",
    "import pprint \n",
    "import random\n",
    "from collections import defaultdict\n",
    "\n",
    "from bs4 import BeautifulSoup\n",
    "import nltk\n",
    "\n",
    "from IPython.display import display, HTML\n",
    "\n",
    "sys.path.append(os.path.abspath('../../WKP-python-toolkit'))\n",
    "import wekeypedia"
   ]
  },
  {
   "cell_type": "code",
   "execution_count": 2,
   "metadata": {
    "collapsed": true
   },
   "outputs": [],
   "source": [
    "p = wekeypedia.WikipediaPage(\"Love\")\n",
    "\n",
    "revisions_list = p.get_revisions_list()"
   ]
  },
  {
   "cell_type": "code",
   "execution_count": 3,
   "metadata": {
    "collapsed": false
   },
   "outputs": [],
   "source": [
    "def normalize(word):\n",
    "  # old = word\n",
    "  word = word.lower()\n",
    "  word = stemmer.stem_word(word)\n",
    "  word = lemmatizer.lemmatize(word)\n",
    "  # print word\n",
    "  return word\n",
    "\n",
    "lemmatizer = nltk.WordNetLemmatizer()\n",
    "stemmer = nltk.stem.porter.PorterStemmer()\n",
    "\n",
    "def extract(diff_html):\n",
    "    diff = { \"added\": [],\n",
    "             \"deleted\" : [] }\n",
    "\n",
    "    d = BeautifulSoup(diff_html, 'html.parser')\n",
    "\n",
    "    tr = d.find_all(\"tr\")\n",
    "    \n",
    "    for what in [ [\"added\", \"ins\"], [\"deleted\", \"del\"] ]:\n",
    "        a = []\n",
    "        \n",
    "        # checking block \n",
    "        # we also check this is not only context showing for non-substition edits\n",
    "        a = [ t.find(\"td\", \"diff-%sline\" % (what[0])) for t in tr if len(t.find_all(what[1])) == 0 and len(t.find_all(\"td\", \"diff-empty\")) > 0 ]\n",
    "\n",
    "        # checking inline\n",
    "        a.extend(d.find_all(what[1]))\n",
    "\n",
    "        # filtering empty extractions\n",
    "        a = [ x for x in a if x != None ]\n",
    "\n",
    "        # registering\n",
    "        diff[what[0]] = [ tag.get_text() for tag in a ]\n",
    "\n",
    "    return diff\n",
    "\n",
    "def count_stems(sentences, inflections=None):\n",
    "    stems = defaultdict(int)\n",
    "\n",
    "    for sentence in sentences:\n",
    "        for word in nltk.word_tokenize(sentence):\n",
    "            old = word\n",
    "            word = normalize(word)\n",
    "            if not(word in ignore_list):\n",
    "                stems[word] += 1\n",
    "\n",
    "                # keeping track of inflection usages\n",
    "                inflections[word].setdefault(old,0)\n",
    "                inflections[word][old] += 1\n",
    "\n",
    "    return stems\n",
    "\n",
    "#   # bug with Ethics#462124891\n",
    "#   if d == False:\n",
    "#     return ({},{}, { \"added\": [], \"deleted\": [] })\n",
    "\n",
    "\n",
    "def diff_terms_counts(diff):\n",
    "  for txt in map(lambda x: x.get_text(), del_tags):\n",
    "    count(de, txt, \"deleted\")\n",
    "\n",
    "  #print(\"%s %s|%s\" % (revid, \"+\"*len(ad), \"-\"*len(de)))\n",
    "\n"
   ]
  },
  {
   "cell_type": "code",
   "execution_count": 4,
   "metadata": {
    "collapsed": false,
    "scrolled": false
   },
   "outputs": [
    {
     "data": {
      "text/html": [
       "<tr>\n",
       "  <td colspan=\"2\" class=\"diff-lineno\">Line 3:</td>\n",
       "  <td colspan=\"2\" class=\"diff-lineno\">Line 3:</td>\n",
       "</tr>\n",
       "<tr>\n",
       "  <td class=\"diff-marker\">&#160;</td>\n",
       "  <td class=\"diff-context\"></td>\n",
       "  <td class=\"diff-marker\">&#160;</td>\n",
       "  <td class=\"diff-context\"></td>\n",
       "</tr>\n",
       "<tr>\n",
       "  <td class=\"diff-marker\">&#160;</td>\n",
       "  <td class=\"diff-context\"><div>==Overview==</div></td>\n",
       "  <td class=\"diff-marker\">&#160;</td>\n",
       "  <td class=\"diff-context\"><div>==Overview==</div></td>\n",
       "</tr>\n",
       "<tr>\n",
       "  <td class=\"diff-marker\">−</td>\n",
       "  <td class=\"diff-deletedline\"><div><del class=\"diffchange diffchange-inline\">Anthony Loves Amanda</del></div></td>\n",
       "  <td class=\"diff-marker\">+</td>\n",
       "  <td class=\"diff-addedline\"><div></div></td>\n",
       "</tr>\n",
       "<tr>\n",
       "  <td class=\"diff-marker\">&#160;</td>\n",
       "  <td class=\"diff-context\"><div>Although clearly and consistently defining ''love'' is a difficult task, and often a subject of much debate, different aspects of the word can be clarified by determining what ''isn't'' \"love\". As a general expression of positive sentiment (a stronger form of ''like''), love is commonly contrasted with [[hate]] (or neutral [[apathy]]); as a less sexual and more \"pure\" form of romantic attachment, love is commonly contrasted with [[lust]]; and as an interpersonal relationship with romantic overtones, love is commonly contrasted with [[friendship]], though other definitions of the word ''love'' may be applied to close friendships in certain contexts.</div></td>\n",
       "  <td class=\"diff-marker\">&#160;</td>\n",
       "  <td class=\"diff-context\"><div>Although clearly and consistently defining ''love'' is a difficult task, and often a subject of much debate, different aspects of the word can be clarified by determining what ''isn't'' \"love\". As a general expression of positive sentiment (a stronger form of ''like''), love is commonly contrasted with [[hate]] (or neutral [[apathy]]); as a less sexual and more \"pure\" form of romantic attachment, love is commonly contrasted with [[lust]]; and as an interpersonal relationship with romantic overtones, love is commonly contrasted with [[friendship]], though other definitions of the word ''love'' may be applied to close friendships in certain contexts.</div></td>\n",
       "</tr>\n",
       "<tr>\n",
       "  <td class=\"diff-marker\">&#160;</td>\n",
       "  <td class=\"diff-context\"></td>\n",
       "  <td class=\"diff-marker\">&#160;</td>\n",
       "  <td class=\"diff-context\"></td>\n",
       "</tr>\n",
       "\n",
       "<!-- diff cache key enwiki:diff:version:1.11a:oldid:78415466:newid:78415484 -->\n"
      ],
      "text/plain": [
       "<IPython.core.display.HTML object>"
      ]
     },
     "metadata": {},
     "output_type": "display_data"
    },
    {
     "name": "stdout",
     "output_type": "stream",
     "text": [
      "- Anthony Loves Amanda\n",
      "\n",
      "|---\n",
      "\n",
      "[anthoni] Anthony (1)\n",
      "[amanda] Amanda (1)\n",
      "[love] Loves (1)\n"
     ]
    }
   ],
   "source": [
    "inflections = defaultdict(dict)\n",
    "\n",
    "ignore_list = \"{}()[]<>./,;\\\"':!?&#=*&%\"\n",
    "\n",
    "diff = p.get_diff(random.choice(revisions_list)[\"revid\"])\n",
    "\n",
    "display(HTML(diff))\n",
    "\n",
    "diff = extract(diff)\n",
    "\n",
    "for minus in diff[\"deleted\"]:\n",
    "    print \"- %s\" % (minus)\n",
    "\n",
    "for plus in diff[\"added\"]:\n",
    "    print \"+ %s\" % (plus)\n",
    "\n",
    "stems = {}\n",
    "stems[\"added\"] = count_stems(diff[\"added\"], inflections)\n",
    "stems[\"deleted\"] = count_stems(diff[\"deleted\"], inflections)\n",
    "\n",
    "print \"\\n%s|%s\\n\" % (\"+\"*len(stems[\"added\"].items()), \"-\"*len(stems[\"deleted\"].items()))\n",
    "\n",
    "#  return (ad.items(),de.items(), { \"added\":inflections[\"added\"], \"deleted\":inflections[\"deleted\"] })\n",
    "\n",
    "for stem, i in inflections.iteritems():\n",
    "    print \"[%s] %s\" % (stem, \", \".join(map(lambda x: \"%s (%s)\" % (x[0], x[1]), i.items())))"
   ]
  }
 ],
 "metadata": {
  "kernelspec": {
   "display_name": "Python 2",
   "language": "python",
   "name": "python2"
  },
  "language_info": {
   "codemirror_mode": {
    "name": "ipython",
    "version": 2
   },
   "file_extension": ".py",
   "mimetype": "text/x-python",
   "name": "python",
   "nbconvert_exporter": "python",
   "pygments_lexer": "ipython2",
   "version": "2.7.9"
  }
 },
 "nbformat": 4,
 "nbformat_minor": 0
}
