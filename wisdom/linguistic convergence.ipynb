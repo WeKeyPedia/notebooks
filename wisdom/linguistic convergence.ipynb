{
 "cells": [
  {
   "cell_type": "code",
   "execution_count": 1,
   "metadata": {
    "collapsed": false
   },
   "outputs": [
    {
     "name": "stdout",
     "output_type": "stream",
     "text": [
      "common libraries loaded\n"
     ]
    }
   ],
   "source": [
    "%run \"libraries.ipynb\"\n",
    "\n",
    "from wekeypedia.wikipedia.api import api as api\n",
    "from __future__ import division\n",
    "from math import ceil"
   ]
  },
  {
   "cell_type": "code",
   "execution_count": 2,
   "metadata": {
    "collapsed": false
   },
   "outputs": [
    {
     "name": "stdout",
     "output_type": "stream",
     "text": [
      "408\n",
      "473\n"
     ]
    }
   ],
   "source": [
    "u = wekeypedia.WikipediaPage(\"Love\")\n",
    "v = wekeypedia.WikipediaPage(\"Amour\", \"fr\")\n",
    "\n",
    "convergence = defaultdict(dict)\n",
    "\n",
    "convergence[\"en\"][\"en\"] = list(set([ x[\"title\"] for x in u.get_links() ]))\n",
    "convergence[\"fr\"][\"fr\"] = list(set([ x[\"title\"] for x in v.get_links() ]))\n",
    "\n",
    "print len(convergence[\"en\"][\"en\"])\n",
    "print len(convergence[\"fr\"][\"fr\"])"
   ]
  },
  {
   "cell_type": "code",
   "execution_count": 3,
   "metadata": {
    "collapsed": false
   },
   "outputs": [],
   "source": [
    "def api_bunch(page_titles, lang, req):\n",
    "  results = defaultdict(list)\n",
    "  param  = req\n",
    "  \n",
    "  w = api(lang)\n",
    "\n",
    "  for i in range(0,int(ceil(len(page_titles)/50))):\n",
    "    param[\"titles\"] = \"|\".join(page_titles[i*50:i*50+50-1])\n",
    "    \n",
    "    while True:\n",
    "      r = w.get(param)\n",
    "      results.update({ p[\"title\"]: p['langlinks'] for pageid, p in r[\"query\"][\"pages\"].items() if 'langlinks' in p })\n",
    "      \n",
    "      if \"continue\" in r:\n",
    "        param.update(r[\"continue\"])\n",
    "      else:\n",
    "        break\n",
    "\n",
    "  return results\n",
    "\n",
    "def get_lang_projection(convergence, source, target):\n",
    "  params = {\n",
    "    \"redirects\": \"\",\n",
    "    \"format\": \"json\",\n",
    "    \"action\": \"query\",\n",
    "    \"prop\": \"info|langlinks\",\n",
    "    \"lllimit\": 500,\n",
    "    \"lllang\": target,\n",
    "    \"continue\":\"\"\n",
    "  }\n",
    "  \n",
    "  r = api_bunch(convergence[source][source], source, params)\n",
    "\n",
    "  convergence[source][target] = [ (page, t[\"*\"]) for page,tt in r.items() for t in tt if t[\"lang\"] == target ]\n",
    "  \n",
    "  return convergence\n",
    "  \n",
    "get_lang_projection(convergence, \"en\", \"fr\");\n",
    "get_lang_projection(convergence, \"fr\", \"en\");"
   ]
  },
  {
   "cell_type": "code",
   "execution_count": 4,
   "metadata": {
    "collapsed": false
   },
   "outputs": [
    {
     "name": "stdout",
     "output_type": "stream",
     "text": [
      "309\n",
      "414\n"
     ]
    }
   ],
   "source": [
    "print len(convergence[\"en\"][\"fr\"])\n",
    "print len(convergence[\"fr\"][\"en\"])"
   ]
  },
  {
   "cell_type": "code",
   "execution_count": 5,
   "metadata": {
    "collapsed": false
   },
   "outputs": [],
   "source": [
    "def bunch_redirects(pagelist, lang):\n",
    "  results = set(pagelist)\n",
    "  \n",
    "  params = {\n",
    "    \"redirects\": \"\",\n",
    "    \"format\": \"json\",\n",
    "    \"action\": \"query\"\n",
    "  }\n",
    "  \n",
    "  w = api(lang)\n",
    "\n",
    "  for i in range(0,int(ceil(len(pagelist)/50))):\n",
    "    # print i*50,i*50+50-1\n",
    "    params[\"titles\"] = \"|\".join(pagelist[i*50:i*50+50-1])\n",
    "    resp = w.get(params)\n",
    "\n",
    "    if \"redirects\" in resp[\"query\"]:\n",
    "      results = results - set([ r[\"from\"] for r in resp[\"query\"][\"redirects\"]])\n",
    "      results = results | set([ r[\"to\"] for r in resp[\"query\"][\"redirects\"]])\n",
    "  \n",
    "  return list(results)\n",
    "\n",
    "convergence[\"en\"][\"en\"] = bunch_redirects(convergence[\"en\"][\"en\"], \"en\")\n",
    "convergence[\"fr\"][\"fr\"] = bunch_redirects(convergence[\"fr\"][\"fr\"], \"fr\")"
   ]
  },
  {
   "cell_type": "code",
   "execution_count": 6,
   "metadata": {
    "collapsed": true
   },
   "outputs": [],
   "source": [
    "def print_h(h):\n",
    "  display(HTML(\"<h4>%s</h4>\" % h))  \n",
    "\n",
    "def print_list(l, lang):\n",
    "  href = u\"http://%s.wikipedia.org/wiki/\" % lang\n",
    "  ul = u\"<ul>%s</ul>\" % \"\".join([ u\"<li><a href=\\\"{0}{1}\\\">{1}</li>\".format(href, item) for item in l ])\n",
    "  \n",
    "  display(HTML(ul))"
   ]
  },
  {
   "cell_type": "code",
   "execution_count": 12,
   "metadata": {
    "collapsed": false
   },
   "outputs": [
    {
     "data": {
      "text/html": [
       "<h4>english pages that have no french translation</h4>"
      ],
      "text/plain": [
       "<IPython.core.display.HTML object>"
      ]
     },
     "metadata": {},
     "output_type": "display_data"
    },
    {
     "data": {
      "text/html": [
       "<ul><li><a href=\"http://en.wikipedia.org/wiki/Ellen S. Berscheid\">Ellen S. Berscheid</li><li><a href=\"http://en.wikipedia.org/wiki/Breakup\">Breakup</li><li><a href=\"http://en.wikipedia.org/wiki/Cohabitation\">Cohabitation</li><li><a href=\"http://en.wikipedia.org/wiki/Lovestruck\">Lovestruck</li><li><a href=\"http://en.wikipedia.org/wiki/Relational transgression\">Relational transgression</li><li><a href=\"http://en.wikipedia.org/wiki/Philosophy of love\">Philosophy of love</li><li><a href=\"http://en.wikipedia.org/wiki/Same-sex relationship\">Same-sex relationship</li><li><a href=\"http://en.wikipedia.org/wiki/Zick Rubin\">Zick Rubin</li><li><a href=\"http://en.wikipedia.org/wiki/Applied psychology\">Applied psychology</li><li><a href=\"http://en.wikipedia.org/wiki/Obsessive love\">Obsessive love</li><li><a href=\"http://en.wikipedia.org/wiki/Falling in love\">Falling in love</li><li><a href=\"http://en.wikipedia.org/wiki/Spiritualism (beliefs)\">Spiritualism (beliefs)</li><li><a href=\"http://en.wikipedia.org/wiki/Wife\">Wife</li><li><a href=\"http://en.wikipedia.org/wiki/Greek mythology\">Greek mythology</li><li><a href=\"http://en.wikipedia.org/wiki/Jewish views on love\">Jewish views on love</li><li><a href=\"http://en.wikipedia.org/wiki/Biological basis of love\">Biological basis of love</li><li><a href=\"http://en.wikipedia.org/wiki/Husband\">Husband</li><li><a href=\"http://en.wikipedia.org/wiki/Enzo Emanuele\">Enzo Emanuele</li><li><a href=\"http://en.wikipedia.org/wiki/Triangular theory of love\">Triangular theory of love</li><li><a href=\"http://en.wikipedia.org/wiki/Chesed\">Chesed</li><li><a href=\"http://en.wikipedia.org/wiki/Cultural identity\">Cultural identity</li><li><a href=\"http://en.wikipedia.org/wiki/Huastec civilization\">Huastec civilization</li><li><a href=\"http://en.wikipedia.org/wiki/Religious views on love\">Religious views on love</li><li><a href=\"http://en.wikipedia.org/wiki/Love addiction\">Love addiction</li><li><a href=\"http://en.wikipedia.org/wiki/Worry\">Worry</li><li><a href=\"http://en.wikipedia.org/wiki/Infidelity\">Infidelity</li><li><a href=\"http://en.wikipedia.org/wiki/Mating (human)\">Mating (human)</li><li><a href=\"http://en.wikipedia.org/wiki/Depression (mood)\">Depression (mood)</li><li><a href=\"http://en.wikipedia.org/wiki/Meet market\">Meet market</li><li><a href=\"http://en.wikipedia.org/wiki/Ren (Confucianism)\">Ren (Confucianism)</li><li><a href=\"http://en.wikipedia.org/wiki/Paris Talks\">Paris Talks</li><li><a href=\"http://en.wikipedia.org/wiki/Loving-kindness\">Loving-kindness</li><li><a href=\"http://en.wikipedia.org/wiki/A General Theory of Love\">A General Theory of Love</li><li><a href=\"http://en.wikipedia.org/wiki/Nerve growth factor\">Nerve growth factor</li><li><a href=\"http://en.wikipedia.org/wiki/Value (ethics)\">Value (ethics)</li><li><a href=\"http://en.wikipedia.org/wiki/Awe\">Awe</li><li><a href=\"http://en.wikipedia.org/wiki/Attachment in adults\">Attachment in adults</li><li><a href=\"http://en.wikipedia.org/wiki/Dating abuse\">Dating abuse</li><li><a href=\"http://en.wikipedia.org/wiki/Open marriage\">Open marriage</li><li><a href=\"http://en.wikipedia.org/wiki/Xenia (Greek)\">Xenia (Greek)</li><li><a href=\"http://en.wikipedia.org/wiki/James Giles (philosopher)\">James Giles (philosopher)</li><li><a href=\"http://en.wikipedia.org/wiki/Horror and terror\">Horror and terror</li><li><a href=\"http://en.wikipedia.org/wiki/Non-monogamy\">Non-monogamy</li><li><a href=\"http://en.wikipedia.org/wiki/Love (sculpture)\">Love (sculpture)</li><li><a href=\"http://en.wikipedia.org/wiki/Limerence\">Limerence</li><li><a href=\"http://en.wikipedia.org/wiki/Psychomotor agitation\">Psychomotor agitation</li><li><a href=\"http://en.wikipedia.org/wiki/Sexually transmitted disease\">Sexually transmitted disease</li><li><a href=\"http://en.wikipedia.org/wiki/New International Version\">New International Version</li><li><a href=\"http://en.wikipedia.org/wiki/Ishq\">Ishq</li><li><a href=\"http://en.wikipedia.org/wiki/Puppy love\">Puppy love</li><li><a href=\"http://en.wikipedia.org/wiki/Veneration of Mary in Roman Catholicism\">Veneration of Mary in Roman Catholicism</li><li><a href=\"http://en.wikipedia.org/wiki/Singles event\">Singles event</li><li><a href=\"http://en.wikipedia.org/wiki/The Art of Loving\">The Art of Loving</li><li><a href=\"http://en.wikipedia.org/wiki/Contrasting and categorization of emotions\">Contrasting and categorization of emotions</li><li><a href=\"http://en.wikipedia.org/wiki/Museo de Antropología de Xalapa\">Museo de Antropología de Xalapa</li><li><a href=\"http://en.wikipedia.org/wiki/Neuroendocrine cell\">Neuroendocrine cell</li><li><a href=\"http://en.wikipedia.org/wiki/International Standard Book Number\">International Standard Book Number</li><li><a href=\"http://en.wikipedia.org/wiki/Wedding\">Wedding</li><li><a href=\"http://en.wikipedia.org/wiki/Great Commandment\">Great Commandment</li><li><a href=\"http://en.wikipedia.org/wiki/Relative value (economics)\">Relative value (economics)</li><li><a href=\"http://en.wikipedia.org/wiki/Romance (love)\">Romance (love)</li><li><a href=\"http://en.wikipedia.org/wiki/De doctrina christiana\">De doctrina christiana</li><li><a href=\"http://en.wikipedia.org/wiki/Sexual partner\">Sexual partner</li><li><a href=\"http://en.wikipedia.org/wiki/Affinity (sociology)\">Affinity (sociology)</li><li><a href=\"http://en.wikipedia.org/wiki/Widow\">Widow</li><li><a href=\"http://en.wikipedia.org/wiki/Affair\">Affair</li><li><a href=\"http://en.wikipedia.org/wiki/Compassionate love\">Compassionate love</li><li><a href=\"http://en.wikipedia.org/wiki/Eros and Agape\">Eros and Agape</li><li><a href=\"http://en.wikipedia.org/wiki/Anguish\">Anguish</li><li><a href=\"http://en.wikipedia.org/wiki/Sentimentality\">Sentimentality</li><li><a href=\"http://en.wikipedia.org/wiki/Polyfidelity\">Polyfidelity</li><li><a href=\"http://en.wikipedia.org/wiki/Romantic friendship\">Romantic friendship</li><li><a href=\"http://en.wikipedia.org/wiki/Bride service\">Bride service</li><li><a href=\"http://en.wikipedia.org/wiki/Chennakesava Temple\">Chennakesava Temple</li><li><a href=\"http://en.wikipedia.org/wiki/Enlightenment in Buddhism\">Enlightenment in Buddhism</li><li><a href=\"http://en.wikipedia.org/wiki/Significant other\">Significant other</li><li><a href=\"http://en.wikipedia.org/wiki/Conjugal love\">Conjugal love</li><li><a href=\"http://en.wikipedia.org/wiki/Desire\">Desire</li><li><a href=\"http://en.wikipedia.org/wiki/The Four Loves\">The Four Loves</li><li><a href=\"http://en.wikipedia.org/wiki/Mistress (lover)\">Mistress (lover)</li><li><a href=\"http://en.wikipedia.org/wiki/Love letter\">Love letter</li><li><a href=\"http://en.wikipedia.org/wiki/Unconditional love\">Unconditional love</li><li><a href=\"http://en.wikipedia.org/wiki/Sexual repression\">Sexual repression</li><li><a href=\"http://en.wikipedia.org/wiki/Pleasure center\">Pleasure center</li><li><a href=\"http://en.wikipedia.org/wiki/Rabbi\">Rabbi</li><li><a href=\"http://en.wikipedia.org/wiki/Jeremy Griffith\">Jeremy Griffith</li><li><a href=\"http://en.wikipedia.org/wiki/Infatuation\">Infatuation</li></ul>"
      ],
      "text/plain": [
       "<IPython.core.display.HTML object>"
      ]
     },
     "metadata": {},
     "output_type": "display_data"
    },
    {
     "name": "stdout",
     "output_type": "stream",
     "text": [
      "87\n"
     ]
    }
   ],
   "source": [
    "print_h(\"english pages that have no french translation\")\n",
    "\n",
    "s = set(convergence[\"en\"][\"en\"]) - set([ x[0] for x in convergence[\"en\"][\"fr\"] ])\n",
    "print_list(s, \"en\")\n",
    "print len(s)"
   ]
  },
  {
   "cell_type": "code",
   "execution_count": 13,
   "metadata": {
    "collapsed": false
   },
   "outputs": [
    {
     "data": {
      "text/html": [
       "<h4>french pages that have no english translation</h4>"
      ],
      "text/plain": [
       "<IPython.core.display.HTML object>"
      ]
     },
     "metadata": {},
     "output_type": "display_data"
    },
    {
     "data": {
      "text/html": [
       "<ul><li><a href=\"http://fr.wikipedia.org/wiki/Souhait\">Souhait</li><li><a href=\"http://fr.wikipedia.org/wiki/Lien social (sociologie)\">Lien social (sociologie)</li><li><a href=\"http://fr.wikipedia.org/wiki/Révélation dans le catholicisme\">Révélation dans le catholicisme</li><li><a href=\"http://fr.wikipedia.org/wiki/Matériel\">Matériel</li><li><a href=\"http://fr.wikipedia.org/wiki/Responsabilité\">Responsabilité</li><li><a href=\"http://fr.wikipedia.org/wiki/Purification de la mémoire\">Purification de la mémoire</li><li><a href=\"http://fr.wikipedia.org/wiki/Fidèle\">Fidèle</li><li><a href=\"http://fr.wikipedia.org/wiki/Prochain\">Prochain</li><li><a href=\"http://fr.wikipedia.org/wiki/Art poétique\">Art poétique</li><li><a href=\"http://fr.wikipedia.org/wiki/Juin 1980\">Juin 1980</li><li><a href=\"http://fr.wikipedia.org/wiki/Amérique du Nord\">Amérique du Nord</li><li><a href=\"http://fr.wikipedia.org/wiki/Peine (émotion)\">Peine (émotion)</li><li><a href=\"http://fr.wikipedia.org/wiki/Mystère (christianisme)\">Mystère (christianisme)</li><li><a href=\"http://fr.wikipedia.org/wiki/Psyché (mythologie)\">Psyché (mythologie)</li><li><a href=\"http://fr.wikipedia.org/wiki/Position union de l'aigle\">Position union de l'aigle</li><li><a href=\"http://fr.wikipedia.org/wiki/Espèces eucharistiques\">Espèces eucharistiques</li><li><a href=\"http://fr.wikipedia.org/wiki/Le Gai Savoir (Nietzsche)\">Le Gai Savoir (Nietzsche)</li><li><a href=\"http://fr.wikipedia.org/wiki/Comportement érotique\">Comportement érotique</li><li><a href=\"http://fr.wikipedia.org/wiki/Union du lotus\">Union du lotus</li><li><a href=\"http://fr.wikipedia.org/wiki/Séduction\">Séduction</li><li><a href=\"http://fr.wikipedia.org/wiki/Stimulation vaginale\">Stimulation vaginale</li><li><a href=\"http://fr.wikipedia.org/wiki/Saint-Sacrement\">Saint-Sacrement</li><li><a href=\"http://fr.wikipedia.org/wiki/Fierté\">Fierté</li><li><a href=\"http://fr.wikipedia.org/wiki/Couple (droit et sociologie)\">Couple (droit et sociologie)</li><li><a href=\"http://fr.wikipedia.org/wiki/Mal du pays\">Mal du pays</li><li><a href=\"http://fr.wikipedia.org/wiki/Sexualité\">Sexualité</li><li><a href=\"http://fr.wikipedia.org/wiki/Amour dans le soufisme\">Amour dans le soufisme</li><li><a href=\"http://fr.wikipedia.org/wiki/Dominique Sels\">Dominique Sels</li><li><a href=\"http://fr.wikipedia.org/wiki/Univers invisible\">Univers invisible</li><li><a href=\"http://fr.wikipedia.org/wiki/Double pénétration\">Double pénétration</li><li><a href=\"http://fr.wikipedia.org/wiki/Position du bateau ivre\">Position du bateau ivre</li><li><a href=\"http://fr.wikipedia.org/wiki/Joie\">Joie</li><li><a href=\"http://fr.wikipedia.org/wiki/Irrumation\">Irrumation</li><li><a href=\"http://fr.wikipedia.org/wiki/Lumière rouge\">Lumière rouge</li><li><a href=\"http://fr.wikipedia.org/wiki/Aliénation\">Aliénation</li><li><a href=\"http://fr.wikipedia.org/wiki/Interdit (anthropologie)\">Interdit (anthropologie)</li><li><a href=\"http://fr.wikipedia.org/wiki/Du cul à la chatte\">Du cul à la chatte</li><li><a href=\"http://fr.wikipedia.org/wiki/Joie de vivre\">Joie de vivre</li><li><a href=\"http://fr.wikipedia.org/wiki/Helen Fischer\">Helen Fischer</li><li><a href=\"http://fr.wikipedia.org/wiki/Le Choc amoureux\">Le Choc amoureux</li><li><a href=\"http://fr.wikipedia.org/wiki/Deus caritas est\">Deus caritas est</li><li><a href=\"http://fr.wikipedia.org/wiki/Gourou\">Gourou</li><li><a href=\"http://fr.wikipedia.org/wiki/Néomalthusianisme\">Néomalthusianisme</li><li><a href=\"http://fr.wikipedia.org/wiki/Relation amoureuse\">Relation amoureuse</li><li><a href=\"http://fr.wikipedia.org/wiki/Intension et extension\">Intension et extension</li><li><a href=\"http://fr.wikipedia.org/wiki/Œil\">Œil</li><li><a href=\"http://fr.wikipedia.org/wiki/Toile\">Toile</li><li><a href=\"http://fr.wikipedia.org/wiki/Insécurité\">Insécurité</li><li><a href=\"http://fr.wikipedia.org/wiki/Gaieté (émotion)\">Gaieté (émotion)</li><li><a href=\"http://fr.wikipedia.org/wiki/Zèle\">Zèle</li><li><a href=\"http://fr.wikipedia.org/wiki/Brouette (position sexuelle)\">Brouette (position sexuelle)</li></ul>"
      ],
      "text/plain": [
       "<IPython.core.display.HTML object>"
      ]
     },
     "metadata": {},
     "output_type": "display_data"
    },
    {
     "name": "stdout",
     "output_type": "stream",
     "text": [
      "51\n"
     ]
    }
   ],
   "source": [
    "print_h(\"french pages that have no english translation\")\n",
    "\n",
    "s = set(convergence[\"fr\"][\"fr\"]) - set([ x[0] for x in convergence[\"fr\"][\"en\"] ])\n",
    "print_list(s, \"fr\")\n",
    "print len(s)"
   ]
  },
  {
   "cell_type": "code",
   "execution_count": 9,
   "metadata": {
    "collapsed": false,
    "scrolled": false
   },
   "outputs": [
    {
     "data": {
      "text/html": [
       "<h4>english concepts that are on both pages</h4>"
      ],
      "text/plain": [
       "<IPython.core.display.HTML object>"
      ]
     },
     "metadata": {},
     "output_type": "display_data"
    },
    {
     "data": {
      "text/html": [
       "<ul><li><a href=\"http://en.wikipedia.org/wiki/Eros (concept)\">Eros (concept)</li><li><a href=\"http://en.wikipedia.org/wiki/Annoyance\">Annoyance</li><li><a href=\"http://en.wikipedia.org/wiki/Interpersonal attraction\">Interpersonal attraction</li><li><a href=\"http://en.wikipedia.org/wiki/Nostalgia\">Nostalgia</li><li><a href=\"http://en.wikipedia.org/wiki/Nihilism\">Nihilism</li><li><a href=\"http://en.wikipedia.org/wiki/Religion\">Religion</li><li><a href=\"http://en.wikipedia.org/wiki/Disgust\">Disgust</li><li><a href=\"http://en.wikipedia.org/wiki/Pride\">Pride</li><li><a href=\"http://en.wikipedia.org/wiki/Psychology\">Psychology</li><li><a href=\"http://en.wikipedia.org/wiki/Hostility\">Hostility</li><li><a href=\"http://en.wikipedia.org/wiki/Philosophy\">Philosophy</li><li><a href=\"http://en.wikipedia.org/wiki/Anthropology\">Anthropology</li><li><a href=\"http://en.wikipedia.org/wiki/Caravaggio\">Caravaggio</li><li><a href=\"http://en.wikipedia.org/wiki/Homer\">Homer</li><li><a href=\"http://en.wikipedia.org/wiki/Philia\">Philia</li><li><a href=\"http://en.wikipedia.org/wiki/Anxiety\">Anxiety</li><li><a href=\"http://en.wikipedia.org/wiki/Disappointment\">Disappointment</li><li><a href=\"http://en.wikipedia.org/wiki/Sexual attraction\">Sexual attraction</li><li><a href=\"http://en.wikipedia.org/wiki/Pleasure\">Pleasure</li><li><a href=\"http://en.wikipedia.org/wiki/Hatred\">Hatred</li><li><a href=\"http://en.wikipedia.org/wiki/Affection\">Affection</li><li><a href=\"http://en.wikipedia.org/wiki/Humiliation\">Humiliation</li><li><a href=\"http://en.wikipedia.org/wiki/Charity (virtue)\">Charity (virtue)</li><li><a href=\"http://en.wikipedia.org/wiki/Shame\">Shame</li><li><a href=\"http://en.wikipedia.org/wiki/Aristotle\">Aristotle</li><li><a href=\"http://en.wikipedia.org/wiki/Anger\">Anger</li><li><a href=\"http://en.wikipedia.org/wiki/Fear\">Fear</li><li><a href=\"http://en.wikipedia.org/wiki/Amusement\">Amusement</li><li><a href=\"http://en.wikipedia.org/wiki/Pope Benedict XVI\">Pope Benedict XVI</li><li><a href=\"http://en.wikipedia.org/wiki/Envy\">Envy</li><li><a href=\"http://en.wikipedia.org/wiki/Giovanni Baglione\">Giovanni Baglione</li><li><a href=\"http://en.wikipedia.org/wiki/Frustration\">Frustration</li><li><a href=\"http://en.wikipedia.org/wiki/Guilt (emotion)\">Guilt (emotion)</li><li><a href=\"http://en.wikipedia.org/wiki/Euphoria\">Euphoria</li><li><a href=\"http://en.wikipedia.org/wiki/Remorse\">Remorse</li><li><a href=\"http://en.wikipedia.org/wiki/Sanskrit\">Sanskrit</li><li><a href=\"http://en.wikipedia.org/wiki/Enthusiasm\">Enthusiasm</li><li><a href=\"http://en.wikipedia.org/wiki/Panic\">Panic</li><li><a href=\"http://en.wikipedia.org/wiki/Biology\">Biology</li><li><a href=\"http://en.wikipedia.org/wiki/Sympathy\">Sympathy</li><li><a href=\"http://en.wikipedia.org/wiki/Embarrassment\">Embarrassment</li><li><a href=\"http://en.wikipedia.org/wiki/Verb\">Verb</li><li><a href=\"http://en.wikipedia.org/wiki/Altruism\">Altruism</li><li><a href=\"http://en.wikipedia.org/wiki/Bible\">Bible</li><li><a href=\"http://en.wikipedia.org/wiki/Catullus\">Catullus</li><li><a href=\"http://en.wikipedia.org/wiki/Loneliness\">Loneliness</li><li><a href=\"http://en.wikipedia.org/wiki/Marriage\">Marriage</li><li><a href=\"http://en.wikipedia.org/wiki/Friendship\">Friendship</li><li><a href=\"http://en.wikipedia.org/wiki/Paraphilia\">Paraphilia</li><li><a href=\"http://en.wikipedia.org/wiki/Spite (sentiment)\">Spite (sentiment)</li><li><a href=\"http://en.wikipedia.org/wiki/Emotion\">Emotion</li><li><a href=\"http://en.wikipedia.org/wiki/Social rejection\">Social rejection</li><li><a href=\"http://en.wikipedia.org/wiki/Regret\">Regret</li><li><a href=\"http://en.wikipedia.org/wiki/Essence\">Essence</li><li><a href=\"http://en.wikipedia.org/wiki/International Standard Book Number\">International Standard Book Number</li><li><a href=\"http://en.wikipedia.org/wiki/Greek words for love\">Greek words for love</li><li><a href=\"http://en.wikipedia.org/wiki/Weltschmerz\">Weltschmerz</li><li><a href=\"http://en.wikipedia.org/wiki/Adoration\">Adoration</li><li><a href=\"http://en.wikipedia.org/wiki/Recluse\">Recluse</li><li><a href=\"http://en.wikipedia.org/wiki/Happiness\">Happiness</li><li><a href=\"http://en.wikipedia.org/wiki/Irritability\">Irritability</li><li><a href=\"http://en.wikipedia.org/wiki/Self-love\">Self-love</li><li><a href=\"http://en.wikipedia.org/wiki/Plato\">Plato</li><li><a href=\"http://en.wikipedia.org/wiki/Troubadour\">Troubadour</li><li><a href=\"http://en.wikipedia.org/wiki/Romeo and Juliet\">Romeo and Juliet</li><li><a href=\"http://en.wikipedia.org/wiki/Stimulation\">Stimulation</li><li><a href=\"http://en.wikipedia.org/wiki/Ecstasy (emotion)\">Ecstasy (emotion)</li><li><a href=\"http://en.wikipedia.org/wiki/Buddhism\">Buddhism</li><li><a href=\"http://en.wikipedia.org/wiki/Contentment\">Contentment</li><li><a href=\"http://en.wikipedia.org/wiki/Attachment theory\">Attachment theory</li><li><a href=\"http://en.wikipedia.org/wiki/Suffering\">Suffering</li><li><a href=\"http://en.wikipedia.org/wiki/Child\">Child</li><li><a href=\"http://en.wikipedia.org/wiki/Neuroscience\">Neuroscience</li><li><a href=\"http://en.wikipedia.org/wiki/Sorrow (emotion)\">Sorrow (emotion)</li><li><a href=\"http://en.wikipedia.org/wiki/Apathy\">Apathy</li><li><a href=\"http://en.wikipedia.org/wiki/Theology\">Theology</li><li><a href=\"http://en.wikipedia.org/wiki/Sadness\">Sadness</li><li><a href=\"http://en.wikipedia.org/wiki/Ancient Greece\">Ancient Greece</li><li><a href=\"http://en.wikipedia.org/wiki/Insult\">Insult</li><li><a href=\"http://en.wikipedia.org/wiki/Family\">Family</li><li><a href=\"http://en.wikipedia.org/wiki/Pessimism\">Pessimism</li><li><a href=\"http://en.wikipedia.org/wiki/Storge\">Storge</li><li><a href=\"http://en.wikipedia.org/wiki/Arousal\">Arousal</li><li><a href=\"http://en.wikipedia.org/wiki/Eros\">Eros</li><li><a href=\"http://en.wikipedia.org/wiki/Pity\">Pity</li><li><a href=\"http://en.wikipedia.org/wiki/Love at first sight\">Love at first sight</li><li><a href=\"http://en.wikipedia.org/wiki/Thomas Aquinas\">Thomas Aquinas</li><li><a href=\"http://en.wikipedia.org/wiki/God\">God</li><li><a href=\"http://en.wikipedia.org/wiki/Jealousy\">Jealousy</li><li><a href=\"http://en.wikipedia.org/wiki/Sufism\">Sufism</li><li><a href=\"http://en.wikipedia.org/wiki/Virgil\">Virgil</li><li><a href=\"http://en.wikipedia.org/wiki/Passion (emotion)\">Passion (emotion)</li><li><a href=\"http://en.wikipedia.org/wiki/Rage (emotion)\">Rage (emotion)</li><li><a href=\"http://en.wikipedia.org/wiki/Hinduism\">Hinduism</li><li><a href=\"http://en.wikipedia.org/wiki/Hope\">Hope</li><li><a href=\"http://en.wikipedia.org/wiki/Free love\">Free love</li><li><a href=\"http://en.wikipedia.org/wiki/Courtly love\">Courtly love</li><li><a href=\"http://en.wikipedia.org/wiki/Frank Dicksee\">Frank Dicksee</li><li><a href=\"http://en.wikipedia.org/wiki/Erotomania\">Erotomania</li><li><a href=\"http://en.wikipedia.org/wiki/Compassion\">Compassion</li><li><a href=\"http://en.wikipedia.org/wiki/Attention\">Attention</li><li><a href=\"http://en.wikipedia.org/wiki/Bhakti\">Bhakti</li><li><a href=\"http://en.wikipedia.org/wiki/Narcissism\">Narcissism</li><li><a href=\"http://en.wikipedia.org/wiki/Melancholia\">Melancholia</li><li><a href=\"http://en.wikipedia.org/wiki/Empathy\">Empathy</li><li><a href=\"http://en.wikipedia.org/wiki/Gottfried Wilhelm Leibniz\">Gottfried Wilhelm Leibniz</li><li><a href=\"http://en.wikipedia.org/wiki/Denis de Rougemont\">Denis de Rougemont</li><li><a href=\"http://en.wikipedia.org/wiki/Optimism\">Optimism</li><li><a href=\"http://en.wikipedia.org/wiki/Surprise (emotion)\">Surprise (emotion)</li><li><a href=\"http://en.wikipedia.org/wiki/Mammal\">Mammal</li><li><a href=\"http://en.wikipedia.org/wiki/Neglect\">Neglect</li><li><a href=\"http://en.wikipedia.org/wiki/Cliché\">Cliché</li><li><a href=\"http://en.wikipedia.org/wiki/Eroticism\">Eroticism</li><li><a href=\"http://en.wikipedia.org/wiki/Chronic stress\">Chronic stress</li><li><a href=\"http://en.wikipedia.org/wiki/Platonic love\">Platonic love</li><li><a href=\"http://en.wikipedia.org/wiki/Defeatism\">Defeatism</li><li><a href=\"http://en.wikipedia.org/wiki/Contempt\">Contempt</li><li><a href=\"http://en.wikipedia.org/wiki/Human sexuality\">Human sexuality</li><li><a href=\"http://en.wikipedia.org/wiki/Birth control\">Birth control</li><li><a href=\"http://en.wikipedia.org/wiki/World view\">World view</li><li><a href=\"http://en.wikipedia.org/wiki/Interpersonal relationship\">Interpersonal relationship</li><li><a href=\"http://en.wikipedia.org/wiki/Hysteria\">Hysteria</li></ul>"
      ],
      "text/plain": [
       "<IPython.core.display.HTML object>"
      ]
     },
     "metadata": {},
     "output_type": "display_data"
    },
    {
     "name": "stdout",
     "output_type": "stream",
     "text": [
      "122\n"
     ]
    }
   ],
   "source": [
    "print_h(\"english concepts that are on both pages\")\n",
    "print_list(set(convergence[\"en\"][\"en\"]) & set([ x[1] for x in convergence[\"fr\"][\"en\"] ]), \"en\")\n",
    "print len(set(convergence[\"en\"][\"en\"]) & set([ x[1] for x in convergence[\"fr\"][\"en\"] ]))"
   ]
  },
  {
   "cell_type": "code",
   "execution_count": 10,
   "metadata": {
    "collapsed": false,
    "scrolled": false
   },
   "outputs": [
    {
     "data": {
      "text/html": [
       "<h4>french concepts that are on both pages</h4>"
      ],
      "text/plain": [
       "<IPython.core.display.HTML object>"
      ]
     },
     "metadata": {},
     "output_type": "display_data"
    },
    {
     "data": {
      "text/html": [
       "<ul><li><a href=\"http://fr.wikipedia.org/wiki/Regret (émotion)\">Regret (émotion)</li><li><a href=\"http://fr.wikipedia.org/wiki/Mélancolie\">Mélancolie</li><li><a href=\"http://fr.wikipedia.org/wiki/Bonheur\">Bonheur</li><li><a href=\"http://fr.wikipedia.org/wiki/Mal du pays\">Mal du pays</li><li><a href=\"http://fr.wikipedia.org/wiki/Anxiété\">Anxiété</li><li><a href=\"http://fr.wikipedia.org/wiki/Pitié\">Pitié</li><li><a href=\"http://fr.wikipedia.org/wiki/Religion\">Religion</li><li><a href=\"http://fr.wikipedia.org/wiki/Rage (émotion)\">Rage (émotion)</li><li><a href=\"http://fr.wikipedia.org/wiki/Frustration\">Frustration</li><li><a href=\"http://fr.wikipedia.org/wiki/Surprise\">Surprise</li><li><a href=\"http://fr.wikipedia.org/wiki/Honte\">Honte</li><li><a href=\"http://fr.wikipedia.org/wiki/Nostalgie (sentiment)\">Nostalgie (sentiment)</li><li><a href=\"http://fr.wikipedia.org/wiki/Philia\">Philia</li><li><a href=\"http://fr.wikipedia.org/wiki/Ostracisme (sociologie)\">Ostracisme (sociologie)</li><li><a href=\"http://fr.wikipedia.org/wiki/Éros\">Éros</li><li><a href=\"http://fr.wikipedia.org/wiki/Sympathie\">Sympathie</li><li><a href=\"http://fr.wikipedia.org/wiki/Insulte\">Insulte</li><li><a href=\"http://fr.wikipedia.org/wiki/Amour platonique\">Amour platonique</li><li><a href=\"http://fr.wikipedia.org/wiki/Affection\">Affection</li><li><a href=\"http://fr.wikipedia.org/wiki/Relation humaine\">Relation humaine</li><li><a href=\"http://fr.wikipedia.org/wiki/Narcissisme\">Narcissisme</li><li><a href=\"http://fr.wikipedia.org/wiki/Platon\">Platon</li><li><a href=\"http://fr.wikipedia.org/wiki/Frank Bernard Dicksee\">Frank Bernard Dicksee</li><li><a href=\"http://fr.wikipedia.org/wiki/Humiliation\">Humiliation</li><li><a href=\"http://fr.wikipedia.org/wiki/Défaitisme\">Défaitisme</li><li><a href=\"http://fr.wikipedia.org/wiki/Peur\">Peur</li><li><a href=\"http://fr.wikipedia.org/wiki/Bouddhisme\">Bouddhisme</li><li><a href=\"http://fr.wikipedia.org/wiki/Enthousiasme\">Enthousiasme</li><li><a href=\"http://fr.wikipedia.org/wiki/Satisfaction\">Satisfaction</li><li><a href=\"http://fr.wikipedia.org/wiki/Catulle\">Catulle</li><li><a href=\"http://fr.wikipedia.org/wiki/Orgueil\">Orgueil</li><li><a href=\"http://fr.wikipedia.org/wiki/Amour libre\">Amour libre</li><li><a href=\"http://fr.wikipedia.org/wiki/Stress chronique\">Stress chronique</li><li><a href=\"http://fr.wikipedia.org/wiki/Amusement (émotion)\">Amusement (émotion)</li><li><a href=\"http://fr.wikipedia.org/wiki/Embarras\">Embarras</li><li><a href=\"http://fr.wikipedia.org/wiki/Weltanschauung\">Weltanschauung</li><li><a href=\"http://fr.wikipedia.org/wiki/Mammifère\">Mammifère</li><li><a href=\"http://fr.wikipedia.org/wiki/Contrariété\">Contrariété</li><li><a href=\"http://fr.wikipedia.org/wiki/Thomas d'Aquin\">Thomas d'Aquin</li><li><a href=\"http://fr.wikipedia.org/wiki/Neurosciences\">Neurosciences</li><li><a href=\"http://fr.wikipedia.org/wiki/Culpabilité (émotion)\">Culpabilité (émotion)</li><li><a href=\"http://fr.wikipedia.org/wiki/Attirance sexuelle\">Attirance sexuelle</li><li><a href=\"http://fr.wikipedia.org/wiki/Rancune\">Rancune</li><li><a href=\"http://fr.wikipedia.org/wiki/Extase\">Extase</li><li><a href=\"http://fr.wikipedia.org/wiki/Émotion\">Émotion</li><li><a href=\"http://fr.wikipedia.org/wiki/Altruisme\">Altruisme</li><li><a href=\"http://fr.wikipedia.org/wiki/Homère\">Homère</li><li><a href=\"http://fr.wikipedia.org/wiki/Hostilité\">Hostilité</li><li><a href=\"http://fr.wikipedia.org/wiki/Philosophie\">Philosophie</li><li><a href=\"http://fr.wikipedia.org/wiki/Optimisme\">Optimisme</li><li><a href=\"http://fr.wikipedia.org/wiki/Bible\">Bible</li><li><a href=\"http://fr.wikipedia.org/wiki/Pessimisme\">Pessimisme</li><li><a href=\"http://fr.wikipedia.org/wiki/Amitié\">Amitié</li><li><a href=\"http://fr.wikipedia.org/wiki/Haine\">Haine</li><li><a href=\"http://fr.wikipedia.org/wiki/Paraphilie\">Paraphilie</li><li><a href=\"http://fr.wikipedia.org/wiki/Passion (émotion)\">Passion (émotion)</li><li><a href=\"http://fr.wikipedia.org/wiki/Enfant\">Enfant</li><li><a href=\"http://fr.wikipedia.org/wiki/Aristote\">Aristote</li><li><a href=\"http://fr.wikipedia.org/wiki/Deus caritas est\">Deus caritas est</li><li><a href=\"http://fr.wikipedia.org/wiki/Coup de foudre\">Coup de foudre</li><li><a href=\"http://fr.wikipedia.org/wiki/Chagrin (humeur)\">Chagrin (humeur)</li><li><a href=\"http://fr.wikipedia.org/wiki/Weltschmerz\">Weltschmerz</li><li><a href=\"http://fr.wikipedia.org/wiki/Insécurité\">Insécurité</li><li><a href=\"http://fr.wikipedia.org/wiki/Adoration\">Adoration</li><li><a href=\"http://fr.wikipedia.org/wiki/Troubadour\">Troubadour</li><li><a href=\"http://fr.wikipedia.org/wiki/Érotisme\">Érotisme</li><li><a href=\"http://fr.wikipedia.org/wiki/Colère\">Colère</li><li><a href=\"http://fr.wikipedia.org/wiki/Stimulation\">Stimulation</li><li><a href=\"http://fr.wikipedia.org/wiki/Soufisme\">Soufisme</li><li><a href=\"http://fr.wikipedia.org/wiki/Hindouisme\">Hindouisme</li><li><a href=\"http://fr.wikipedia.org/wiki/Ressentiment\">Ressentiment</li><li><a href=\"http://fr.wikipedia.org/wiki/Envie\">Envie</li><li><a href=\"http://fr.wikipedia.org/wiki/Mépris (émotion)\">Mépris (émotion)</li><li><a href=\"http://fr.wikipedia.org/wiki/Espoir (philosophie)\">Espoir (philosophie)</li><li><a href=\"http://fr.wikipedia.org/wiki/Dégoût\">Dégoût</li><li><a href=\"http://fr.wikipedia.org/wiki/Théologie\">Théologie</li><li><a href=\"http://fr.wikipedia.org/wiki/Éros (philosophie)\">Éros (philosophie)</li><li><a href=\"http://fr.wikipedia.org/wiki/Dieu\">Dieu</li><li><a href=\"http://fr.wikipedia.org/wiki/Déception\">Déception</li><li><a href=\"http://fr.wikipedia.org/wiki/Biologie\">Biologie</li><li><a href=\"http://fr.wikipedia.org/wiki/Apathie\">Apathie</li><li><a href=\"http://fr.wikipedia.org/wiki/Benoît XVI\">Benoît XVI</li><li><a href=\"http://fr.wikipedia.org/wiki/Euphorie\">Euphorie</li><li><a href=\"http://fr.wikipedia.org/wiki/Amour courtois\">Amour courtois</li><li><a href=\"http://fr.wikipedia.org/wiki/Essence et accident\">Essence et accident</li><li><a href=\"http://fr.wikipedia.org/wiki/Contraception\">Contraception</li><li><a href=\"http://fr.wikipedia.org/wiki/Storgê\">Storgê</li><li><a href=\"http://fr.wikipedia.org/wiki/Giovanni Baglione\">Giovanni Baglione</li><li><a href=\"http://fr.wikipedia.org/wiki/Psychologie\">Psychologie</li><li><a href=\"http://fr.wikipedia.org/wiki/Sexualité humaine\">Sexualité humaine</li><li><a href=\"http://fr.wikipedia.org/wiki/Tristesse\">Tristesse</li><li><a href=\"http://fr.wikipedia.org/wiki/Verbe\">Verbe</li><li><a href=\"http://fr.wikipedia.org/wiki/Souffrance\">Souffrance</li><li><a href=\"http://fr.wikipedia.org/wiki/Théorie de l'attachement\">Théorie de l'attachement</li><li><a href=\"http://fr.wikipedia.org/wiki/Irritabilité\">Irritabilité</li><li><a href=\"http://fr.wikipedia.org/wiki/Sanskrit\">Sanskrit</li><li><a href=\"http://fr.wikipedia.org/wiki/Virgile\">Virgile</li><li><a href=\"http://fr.wikipedia.org/wiki/Négligence (abus)\">Négligence (abus)</li><li><a href=\"http://fr.wikipedia.org/wiki/Empathie\">Empathie</li><li><a href=\"http://fr.wikipedia.org/wiki/Le Caravage\">Le Caravage</li><li><a href=\"http://fr.wikipedia.org/wiki/Attraction interpersonnelle\">Attraction interpersonnelle</li><li><a href=\"http://fr.wikipedia.org/wiki/Attention\">Attention</li><li><a href=\"http://fr.wikipedia.org/wiki/Charité\">Charité</li><li><a href=\"http://fr.wikipedia.org/wiki/Bhakti\">Bhakti</li><li><a href=\"http://fr.wikipedia.org/wiki/Amour-propre\">Amour-propre</li><li><a href=\"http://fr.wikipedia.org/wiki/Nihilisme\">Nihilisme</li><li><a href=\"http://fr.wikipedia.org/wiki/Hystérie\">Hystérie</li><li><a href=\"http://fr.wikipedia.org/wiki/Gottfried Wilhelm Leibniz\">Gottfried Wilhelm Leibniz</li><li><a href=\"http://fr.wikipedia.org/wiki/Reclus (moine)\">Reclus (moine)</li><li><a href=\"http://fr.wikipedia.org/wiki/Denis de Rougemont\">Denis de Rougemont</li><li><a href=\"http://fr.wikipedia.org/wiki/Peur panique\">Peur panique</li><li><a href=\"http://fr.wikipedia.org/wiki/Érotomanie\">Érotomanie</li><li><a href=\"http://fr.wikipedia.org/wiki/Cliché\">Cliché</li><li><a href=\"http://fr.wikipedia.org/wiki/Mots grecs pour dire amour\">Mots grecs pour dire amour</li><li><a href=\"http://fr.wikipedia.org/wiki/Roméo et Juliette\">Roméo et Juliette</li><li><a href=\"http://fr.wikipedia.org/wiki/Plaisir\">Plaisir</li><li><a href=\"http://fr.wikipedia.org/wiki/Jalousie\">Jalousie</li><li><a href=\"http://fr.wikipedia.org/wiki/Anthropologie\">Anthropologie</li><li><a href=\"http://fr.wikipedia.org/wiki/Grèce antique\">Grèce antique</li><li><a href=\"http://fr.wikipedia.org/wiki/Compassion\">Compassion</li><li><a href=\"http://fr.wikipedia.org/wiki/Activation physiologique\">Activation physiologique</li><li><a href=\"http://fr.wikipedia.org/wiki/Isolement\">Isolement</li><li><a href=\"http://fr.wikipedia.org/wiki/Mariage\">Mariage</li><li><a href=\"http://fr.wikipedia.org/wiki/Remords\">Remords</li><li><a href=\"http://fr.wikipedia.org/wiki/Famille\">Famille</li></ul>"
      ],
      "text/plain": [
       "<IPython.core.display.HTML object>"
      ]
     },
     "metadata": {},
     "output_type": "display_data"
    },
    {
     "name": "stdout",
     "output_type": "stream",
     "text": [
      "125\n"
     ]
    }
   ],
   "source": [
    "print_h(\"french concepts that are on both pages\")\n",
    "print_list(set(convergence[\"fr\"][\"fr\"]) & set([ x[1] for x in convergence[\"en\"][\"fr\"] ]), \"fr\")\n",
    "print len(set(convergence[\"fr\"][\"fr\"]) & set([ x[1] for x in convergence[\"en\"][\"fr\"] ]))"
   ]
  },
  {
   "cell_type": "code",
   "execution_count": 11,
   "metadata": {
    "collapsed": false,
    "scrolled": false
   },
   "outputs": [
    {
     "data": {
      "text/html": [
       "<h4>pages that have a translation in both languages and are on both pages</h4>"
      ],
      "text/plain": [
       "<IPython.core.display.HTML object>"
      ]
     },
     "metadata": {},
     "output_type": "display_data"
    },
    {
     "data": {
      "text/html": [
       "<ul><li><a href=\"http://en.wikipedia.org/wiki/Eros (concept)\">Eros (concept)</li><li><a href=\"http://en.wikipedia.org/wiki/Annoyance\">Annoyance</li><li><a href=\"http://en.wikipedia.org/wiki/Interpersonal attraction\">Interpersonal attraction</li><li><a href=\"http://en.wikipedia.org/wiki/Nostalgia\">Nostalgia</li><li><a href=\"http://en.wikipedia.org/wiki/Nihilism\">Nihilism</li><li><a href=\"http://en.wikipedia.org/wiki/Religion\">Religion</li><li><a href=\"http://en.wikipedia.org/wiki/Frustration\">Frustration</li><li><a href=\"http://en.wikipedia.org/wiki/Pride\">Pride</li><li><a href=\"http://en.wikipedia.org/wiki/Psychology\">Psychology</li><li><a href=\"http://en.wikipedia.org/wiki/Hostility\">Hostility</li><li><a href=\"http://en.wikipedia.org/wiki/Philosophy\">Philosophy</li><li><a href=\"http://en.wikipedia.org/wiki/Anthropology\">Anthropology</li><li><a href=\"http://en.wikipedia.org/wiki/Caravaggio\">Caravaggio</li><li><a href=\"http://en.wikipedia.org/wiki/Homer\">Homer</li><li><a href=\"http://en.wikipedia.org/wiki/Philia\">Philia</li><li><a href=\"http://en.wikipedia.org/wiki/Anxiety\">Anxiety</li><li><a href=\"http://en.wikipedia.org/wiki/Disappointment\">Disappointment</li><li><a href=\"http://en.wikipedia.org/wiki/Sexual attraction\">Sexual attraction</li><li><a href=\"http://en.wikipedia.org/wiki/Pleasure\">Pleasure</li><li><a href=\"http://en.wikipedia.org/wiki/Hatred\">Hatred</li><li><a href=\"http://en.wikipedia.org/wiki/Affection\">Affection</li><li><a href=\"http://en.wikipedia.org/wiki/Humiliation\">Humiliation</li><li><a href=\"http://en.wikipedia.org/wiki/Charity (virtue)\">Charity (virtue)</li><li><a href=\"http://en.wikipedia.org/wiki/Sympathy\">Sympathy</li><li><a href=\"http://en.wikipedia.org/wiki/Aristotle\">Aristotle</li><li><a href=\"http://en.wikipedia.org/wiki/Anger\">Anger</li><li><a href=\"http://en.wikipedia.org/wiki/Fear\">Fear</li><li><a href=\"http://en.wikipedia.org/wiki/Amusement\">Amusement</li><li><a href=\"http://en.wikipedia.org/wiki/Pope Benedict XVI\">Pope Benedict XVI</li><li><a href=\"http://en.wikipedia.org/wiki/Envy\">Envy</li><li><a href=\"http://en.wikipedia.org/wiki/Pessimism\">Pessimism</li><li><a href=\"http://en.wikipedia.org/wiki/Disgust\">Disgust</li><li><a href=\"http://en.wikipedia.org/wiki/Guilt (emotion)\">Guilt (emotion)</li><li><a href=\"http://en.wikipedia.org/wiki/Euphoria\">Euphoria</li><li><a href=\"http://en.wikipedia.org/wiki/Remorse\">Remorse</li><li><a href=\"http://en.wikipedia.org/wiki/Rage (emotion)\">Rage (emotion)</li><li><a href=\"http://en.wikipedia.org/wiki/Panic\">Panic</li><li><a href=\"http://en.wikipedia.org/wiki/Biology\">Biology</li><li><a href=\"http://en.wikipedia.org/wiki/Shame\">Shame</li><li><a href=\"http://en.wikipedia.org/wiki/Embarrassment\">Embarrassment</li><li><a href=\"http://en.wikipedia.org/wiki/Verb\">Verb</li><li><a href=\"http://en.wikipedia.org/wiki/Altruism\">Altruism</li><li><a href=\"http://en.wikipedia.org/wiki/Bible\">Bible</li><li><a href=\"http://en.wikipedia.org/wiki/Catullus\">Catullus</li><li><a href=\"http://en.wikipedia.org/wiki/Loneliness\">Loneliness</li><li><a href=\"http://en.wikipedia.org/wiki/Marriage\">Marriage</li><li><a href=\"http://en.wikipedia.org/wiki/Friendship\">Friendship</li><li><a href=\"http://en.wikipedia.org/wiki/Paraphilia\">Paraphilia</li><li><a href=\"http://en.wikipedia.org/wiki/Spite (sentiment)\">Spite (sentiment)</li><li><a href=\"http://en.wikipedia.org/wiki/Emotion\">Emotion</li><li><a href=\"http://en.wikipedia.org/wiki/Social rejection\">Social rejection</li><li><a href=\"http://en.wikipedia.org/wiki/Regret\">Regret</li><li><a href=\"http://en.wikipedia.org/wiki/Essence\">Essence</li><li><a href=\"http://en.wikipedia.org/wiki/Attachment theory\">Attachment theory</li><li><a href=\"http://en.wikipedia.org/wiki/Greek words for love\">Greek words for love</li><li><a href=\"http://en.wikipedia.org/wiki/Weltschmerz\">Weltschmerz</li><li><a href=\"http://en.wikipedia.org/wiki/Adoration\">Adoration</li><li><a href=\"http://en.wikipedia.org/wiki/Recluse\">Recluse</li><li><a href=\"http://en.wikipedia.org/wiki/Happiness\">Happiness</li><li><a href=\"http://en.wikipedia.org/wiki/Irritability\">Irritability</li><li><a href=\"http://en.wikipedia.org/wiki/Self-love\">Self-love</li><li><a href=\"http://en.wikipedia.org/wiki/Plato\">Plato</li><li><a href=\"http://en.wikipedia.org/wiki/Troubadour\">Troubadour</li><li><a href=\"http://en.wikipedia.org/wiki/Romeo and Juliet\">Romeo and Juliet</li><li><a href=\"http://en.wikipedia.org/wiki/Stimulation\">Stimulation</li><li><a href=\"http://en.wikipedia.org/wiki/Buddhism\">Buddhism</li><li><a href=\"http://en.wikipedia.org/wiki/Contentment\">Contentment</li><li><a href=\"http://en.wikipedia.org/wiki/Ecstasy (emotion)\">Ecstasy (emotion)</li><li><a href=\"http://en.wikipedia.org/wiki/Suffering\">Suffering</li><li><a href=\"http://en.wikipedia.org/wiki/Child\">Child</li><li><a href=\"http://en.wikipedia.org/wiki/Enthusiasm\">Enthusiasm</li><li><a href=\"http://en.wikipedia.org/wiki/Neuroscience\">Neuroscience</li><li><a href=\"http://en.wikipedia.org/wiki/Sorrow (emotion)\">Sorrow (emotion)</li><li><a href=\"http://en.wikipedia.org/wiki/Eroticism\">Eroticism</li><li><a href=\"http://en.wikipedia.org/wiki/Apathy\">Apathy</li><li><a href=\"http://en.wikipedia.org/wiki/Theology\">Theology</li><li><a href=\"http://en.wikipedia.org/wiki/Sadness\">Sadness</li><li><a href=\"http://en.wikipedia.org/wiki/Defeatism\">Defeatism</li><li><a href=\"http://en.wikipedia.org/wiki/Insult\">Insult</li><li><a href=\"http://en.wikipedia.org/wiki/Family\">Family</li><li><a href=\"http://en.wikipedia.org/wiki/Giovanni Baglione\">Giovanni Baglione</li><li><a href=\"http://en.wikipedia.org/wiki/Storge\">Storge</li><li><a href=\"http://en.wikipedia.org/wiki/Arousal\">Arousal</li><li><a href=\"http://en.wikipedia.org/wiki/Eros\">Eros</li><li><a href=\"http://en.wikipedia.org/wiki/Pity\">Pity</li><li><a href=\"http://en.wikipedia.org/wiki/Love at first sight\">Love at first sight</li><li><a href=\"http://en.wikipedia.org/wiki/Thomas Aquinas\">Thomas Aquinas</li><li><a href=\"http://en.wikipedia.org/wiki/God\">God</li><li><a href=\"http://en.wikipedia.org/wiki/Jealousy\">Jealousy</li><li><a href=\"http://en.wikipedia.org/wiki/Sufism\">Sufism</li><li><a href=\"http://en.wikipedia.org/wiki/Virgil\">Virgil</li><li><a href=\"http://en.wikipedia.org/wiki/Passion (emotion)\">Passion (emotion)</li><li><a href=\"http://en.wikipedia.org/wiki/Sanskrit\">Sanskrit</li><li><a href=\"http://en.wikipedia.org/wiki/Platonic love\">Platonic love</li><li><a href=\"http://en.wikipedia.org/wiki/Hope\">Hope</li><li><a href=\"http://en.wikipedia.org/wiki/Free love\">Free love</li><li><a href=\"http://en.wikipedia.org/wiki/Narcissism\">Narcissism</li><li><a href=\"http://en.wikipedia.org/wiki/Frank Dicksee\">Frank Dicksee</li><li><a href=\"http://en.wikipedia.org/wiki/Erotomania\">Erotomania</li><li><a href=\"http://en.wikipedia.org/wiki/Compassion\">Compassion</li><li><a href=\"http://en.wikipedia.org/wiki/Attention\">Attention</li><li><a href=\"http://en.wikipedia.org/wiki/Bhakti\">Bhakti</li><li><a href=\"http://en.wikipedia.org/wiki/Courtly love\">Courtly love</li><li><a href=\"http://en.wikipedia.org/wiki/Melancholia\">Melancholia</li><li><a href=\"http://en.wikipedia.org/wiki/Empathy\">Empathy</li><li><a href=\"http://en.wikipedia.org/wiki/Gottfried Wilhelm Leibniz\">Gottfried Wilhelm Leibniz</li><li><a href=\"http://en.wikipedia.org/wiki/Denis de Rougemont\">Denis de Rougemont</li><li><a href=\"http://en.wikipedia.org/wiki/Optimism\">Optimism</li><li><a href=\"http://en.wikipedia.org/wiki/Surprise (emotion)\">Surprise (emotion)</li><li><a href=\"http://en.wikipedia.org/wiki/Mammal\">Mammal</li><li><a href=\"http://en.wikipedia.org/wiki/Neglect\">Neglect</li><li><a href=\"http://en.wikipedia.org/wiki/Cliché\">Cliché</li><li><a href=\"http://en.wikipedia.org/wiki/Hinduism\">Hinduism</li><li><a href=\"http://en.wikipedia.org/wiki/Chronic stress\">Chronic stress</li><li><a href=\"http://en.wikipedia.org/wiki/Ancient Greece\">Ancient Greece</li><li><a href=\"http://en.wikipedia.org/wiki/Contempt\">Contempt</li><li><a href=\"http://en.wikipedia.org/wiki/Human sexuality\">Human sexuality</li><li><a href=\"http://en.wikipedia.org/wiki/Birth control\">Birth control</li><li><a href=\"http://en.wikipedia.org/wiki/World view\">World view</li><li><a href=\"http://en.wikipedia.org/wiki/Interpersonal relationship\">Interpersonal relationship</li><li><a href=\"http://en.wikipedia.org/wiki/Hysteria\">Hysteria</li></ul>"
      ],
      "text/plain": [
       "<IPython.core.display.HTML object>"
      ]
     },
     "metadata": {},
     "output_type": "display_data"
    },
    {
     "name": "stdout",
     "output_type": "stream",
     "text": [
      "121\n"
     ]
    }
   ],
   "source": [
    "print_h(\"pages that have a translation in both languages and are on both pages\")\n",
    "print_list(set([ x[1] for x in convergence[\"fr\"][\"en\"] ]) & set([ x[0] for x in convergence[\"en\"][\"fr\"] ]), \"en\")\n",
    "print len(set([ x[1] for x in convergence[\"fr\"][\"en\"] ]) & set([ x[0] for x in convergence[\"en\"][\"fr\"] ]))"
   ]
  }
 ],
 "metadata": {
  "kernelspec": {
   "display_name": "Python 2",
   "language": "python",
   "name": "python2"
  },
  "language_info": {
   "codemirror_mode": {
    "name": "ipython",
    "version": 2
   },
   "file_extension": ".py",
   "mimetype": "text/x-python",
   "name": "python",
   "nbconvert_exporter": "python",
   "pygments_lexer": "ipython2",
   "version": "2.7.9"
  }
 },
 "nbformat": 4,
 "nbformat_minor": 0
}
