{
 "cells": [
  {
   "cell_type": "code",
   "execution_count": 1,
   "metadata": {
    "collapsed": false
   },
   "outputs": [
    {
     "name": "stdout",
     "output_type": "stream",
     "text": [
      "common libraries loaded\n"
     ]
    }
   ],
   "source": [
    "%run \"libraries.ipynb\"\n",
    "\n",
    "from wekeypedia.wikipedia.api import api as api\n",
    "from __future__ import division\n",
    "from math import ceil"
   ]
  },
  {
   "cell_type": "code",
   "execution_count": 2,
   "metadata": {
    "collapsed": false
   },
   "outputs": [
    {
     "name": "stdout",
     "output_type": "stream",
     "text": [
      "408\n",
      "473\n"
     ]
    }
   ],
   "source": [
    "u = wekeypedia.WikipediaPage(\"Love\")\n",
    "v = wekeypedia.WikipediaPage(\"Amour\", \"fr\")\n",
    "\n",
    "convergence = defaultdict(dict)\n",
    "\n",
    "convergence[\"en\"][\"en\"] = list(set([ x[\"title\"] for x in u.get_links() ]))\n",
    "convergence[\"fr\"][\"fr\"] = list(set([ x[\"title\"] for x in v.get_links() ]))\n",
    "\n",
    "print len(convergence[\"en\"][\"en\"])\n",
    "print len(convergence[\"fr\"][\"fr\"])"
   ]
  },
  {
   "cell_type": "code",
   "execution_count": 3,
   "metadata": {
    "collapsed": false
   },
   "outputs": [],
   "source": [
    "def api_bunch(page_titles, lang, req):\n",
    "  results = defaultdict(list)\n",
    "  param  = req\n",
    "  \n",
    "  w = api(lang)\n",
    "\n",
    "  for i in range(0,int(ceil(len(page_titles)/50))):\n",
    "    param[\"titles\"] = \"|\".join(page_titles[i*50:i*50+50-1])\n",
    "    \n",
    "    while True:\n",
    "      r = w.get(param)\n",
    "      results.update({ p[\"title\"]: p['langlinks'] for pageid, p in r[\"query\"][\"pages\"].items() if 'langlinks' in p })\n",
    "      \n",
    "      if \"continue\" in r:\n",
    "        param.update(r[\"continue\"])\n",
    "      else:\n",
    "        break\n",
    "\n",
    "  return results\n",
    "\n",
    "def get_lang_projection(convergence, source, target):\n",
    "  params = {\n",
    "    \"redirects\": \"\",\n",
    "    \"format\": \"json\",\n",
    "    \"action\": \"query\",\n",
    "    \"prop\": \"info|langlinks\",\n",
    "    \"lllimit\": 500,\n",
    "    \"lllang\": target,\n",
    "    \"continue\":\"\"\n",
    "  }\n",
    "  \n",
    "  r = api_bunch(convergence[source][source], source, params)\n",
    "\n",
    "  convergence[source][target] = [ (page, t[\"*\"]) for page,tt in r.items() for t in tt if t[\"lang\"] == target ]\n",
    "  \n",
    "  return convergence\n",
    "  \n",
    "get_lang_projection(convergence, \"en\", \"fr\");\n",
    "get_lang_projection(convergence, \"fr\", \"en\");"
   ]
  },
  {
   "cell_type": "code",
   "execution_count": 4,
   "metadata": {
    "collapsed": false
   },
   "outputs": [
    {
     "name": "stdout",
     "output_type": "stream",
     "text": [
      "309\n",
      "414\n"
     ]
    }
   ],
   "source": [
    "print len(convergence[\"en\"][\"fr\"])\n",
    "print len(convergence[\"fr\"][\"en\"])"
   ]
  },
  {
   "cell_type": "code",
   "execution_count": 5,
   "metadata": {
    "collapsed": false
   },
   "outputs": [],
   "source": [
    "def bunch_redirects(pagelist, lang):\n",
    "  results = set(pagelist)\n",
    "  \n",
    "  params = {\n",
    "    \"redirects\": \"\",\n",
    "    \"format\": \"json\",\n",
    "    \"action\": \"query\"\n",
    "  }\n",
    "  \n",
    "  w = api(lang)\n",
    "\n",
    "  for i in range(0,int(ceil(len(pagelist)/50))):\n",
    "    # print i*50,i*50+50-1\n",
    "    params[\"titles\"] = \"|\".join(pagelist[i*50:i*50+50-1])\n",
    "    resp = w.get(params)\n",
    "\n",
    "    if \"redirects\" in resp[\"query\"]:\n",
    "      results = results - set([ r[\"from\"] for r in resp[\"query\"][\"redirects\"]])\n",
    "      results = results | set([ r[\"to\"] for r in resp[\"query\"][\"redirects\"]])\n",
    "  \n",
    "  return list(results)\n",
    "\n",
    "convergence[\"en\"][\"en\"] = bunch_redirects(convergence[\"en\"][\"en\"], \"en\")\n",
    "convergence[\"fr\"][\"fr\"] = bunch_redirects(convergence[\"fr\"][\"fr\"], \"fr\")"
   ]
  },
  {
   "cell_type": "code",
   "execution_count": 6,
   "metadata": {
    "collapsed": true
   },
   "outputs": [],
   "source": [
    "def print_h(h):\n",
    "  display(HTML(\"<h2>%s</h2>\" % h))  \n",
    "\n",
    "def print_list(l, lang):\n",
    "  href = u\"http://%s.wikipedia.org/wiki/\" % lang\n",
    "  ul = u\"<ul>%s</ul>\" % \"\".join([ u\"<li><a href=\\\"{0}{1}\\\">{1}</li>\".format(href, item) for item in l ])\n",
    "  \n",
    "  display(HTML(ul))"
   ]
  },
  {
   "cell_type": "code",
   "execution_count": 7,
   "metadata": {
    "collapsed": false
   },
   "outputs": [
    {
     "data": {
      "text/html": [
       "<h2>english pages that have no french translation</h2>"
      ],
      "text/plain": [
       "<IPython.core.display.HTML object>"
      ]
     },
     "metadata": {},
     "output_type": "display_data"
    },
    {
     "data": {
      "text/html": [
       "<ul><li><a href=\"http://en.wikipedia.org/wiki/Ellen S. Berscheid\">Ellen S. Berscheid</li><li><a href=\"http://en.wikipedia.org/wiki/Breakup\">Breakup</li><li><a href=\"http://en.wikipedia.org/wiki/Cohabitation\">Cohabitation</li><li><a href=\"http://en.wikipedia.org/wiki/Lovestruck\">Lovestruck</li><li><a href=\"http://en.wikipedia.org/wiki/Relational transgression\">Relational transgression</li><li><a href=\"http://en.wikipedia.org/wiki/Philosophy of love\">Philosophy of love</li><li><a href=\"http://en.wikipedia.org/wiki/Same-sex relationship\">Same-sex relationship</li><li><a href=\"http://en.wikipedia.org/wiki/Zick Rubin\">Zick Rubin</li><li><a href=\"http://en.wikipedia.org/wiki/Applied psychology\">Applied psychology</li><li><a href=\"http://en.wikipedia.org/wiki/Obsessive love\">Obsessive love</li><li><a href=\"http://en.wikipedia.org/wiki/Falling in love\">Falling in love</li><li><a href=\"http://en.wikipedia.org/wiki/Spiritualism (beliefs)\">Spiritualism (beliefs)</li><li><a href=\"http://en.wikipedia.org/wiki/Wife\">Wife</li><li><a href=\"http://en.wikipedia.org/wiki/Greek mythology\">Greek mythology</li><li><a href=\"http://en.wikipedia.org/wiki/Jewish views on love\">Jewish views on love</li><li><a href=\"http://en.wikipedia.org/wiki/Biological basis of love\">Biological basis of love</li><li><a href=\"http://en.wikipedia.org/wiki/Husband\">Husband</li><li><a href=\"http://en.wikipedia.org/wiki/Enzo Emanuele\">Enzo Emanuele</li><li><a href=\"http://en.wikipedia.org/wiki/Triangular theory of love\">Triangular theory of love</li><li><a href=\"http://en.wikipedia.org/wiki/Chesed\">Chesed</li><li><a href=\"http://en.wikipedia.org/wiki/Cultural identity\">Cultural identity</li><li><a href=\"http://en.wikipedia.org/wiki/Huastec civilization\">Huastec civilization</li><li><a href=\"http://en.wikipedia.org/wiki/Religious views on love\">Religious views on love</li><li><a href=\"http://en.wikipedia.org/wiki/Love addiction\">Love addiction</li><li><a href=\"http://en.wikipedia.org/wiki/Worry\">Worry</li><li><a href=\"http://en.wikipedia.org/wiki/Infidelity\">Infidelity</li><li><a href=\"http://en.wikipedia.org/wiki/Mating (human)\">Mating (human)</li><li><a href=\"http://en.wikipedia.org/wiki/Depression (mood)\">Depression (mood)</li><li><a href=\"http://en.wikipedia.org/wiki/Meet market\">Meet market</li><li><a href=\"http://en.wikipedia.org/wiki/Ren (Confucianism)\">Ren (Confucianism)</li><li><a href=\"http://en.wikipedia.org/wiki/Paris Talks\">Paris Talks</li><li><a href=\"http://en.wikipedia.org/wiki/Loving-kindness\">Loving-kindness</li><li><a href=\"http://en.wikipedia.org/wiki/A General Theory of Love\">A General Theory of Love</li><li><a href=\"http://en.wikipedia.org/wiki/Nerve growth factor\">Nerve growth factor</li><li><a href=\"http://en.wikipedia.org/wiki/Value (ethics)\">Value (ethics)</li><li><a href=\"http://en.wikipedia.org/wiki/Awe\">Awe</li><li><a href=\"http://en.wikipedia.org/wiki/Attachment in adults\">Attachment in adults</li><li><a href=\"http://en.wikipedia.org/wiki/Dating abuse\">Dating abuse</li><li><a href=\"http://en.wikipedia.org/wiki/Open marriage\">Open marriage</li><li><a href=\"http://en.wikipedia.org/wiki/Xenia (Greek)\">Xenia (Greek)</li><li><a href=\"http://en.wikipedia.org/wiki/James Giles (philosopher)\">James Giles (philosopher)</li><li><a href=\"http://en.wikipedia.org/wiki/Horror and terror\">Horror and terror</li><li><a href=\"http://en.wikipedia.org/wiki/Non-monogamy\">Non-monogamy</li><li><a href=\"http://en.wikipedia.org/wiki/Love (sculpture)\">Love (sculpture)</li><li><a href=\"http://en.wikipedia.org/wiki/Limerence\">Limerence</li><li><a href=\"http://en.wikipedia.org/wiki/Psychomotor agitation\">Psychomotor agitation</li><li><a href=\"http://en.wikipedia.org/wiki/Sexually transmitted disease\">Sexually transmitted disease</li><li><a href=\"http://en.wikipedia.org/wiki/New International Version\">New International Version</li><li><a href=\"http://en.wikipedia.org/wiki/Ishq\">Ishq</li><li><a href=\"http://en.wikipedia.org/wiki/Puppy love\">Puppy love</li><li><a href=\"http://en.wikipedia.org/wiki/Veneration of Mary in Roman Catholicism\">Veneration of Mary in Roman Catholicism</li><li><a href=\"http://en.wikipedia.org/wiki/Singles event\">Singles event</li><li><a href=\"http://en.wikipedia.org/wiki/The Art of Loving\">The Art of Loving</li><li><a href=\"http://en.wikipedia.org/wiki/Contrasting and categorization of emotions\">Contrasting and categorization of emotions</li><li><a href=\"http://en.wikipedia.org/wiki/Museo de Antropología de Xalapa\">Museo de Antropología de Xalapa</li><li><a href=\"http://en.wikipedia.org/wiki/Neuroendocrine cell\">Neuroendocrine cell</li><li><a href=\"http://en.wikipedia.org/wiki/International Standard Book Number\">International Standard Book Number</li><li><a href=\"http://en.wikipedia.org/wiki/Wedding\">Wedding</li><li><a href=\"http://en.wikipedia.org/wiki/Great Commandment\">Great Commandment</li><li><a href=\"http://en.wikipedia.org/wiki/Relative value (economics)\">Relative value (economics)</li><li><a href=\"http://en.wikipedia.org/wiki/Romance (love)\">Romance (love)</li><li><a href=\"http://en.wikipedia.org/wiki/De doctrina christiana\">De doctrina christiana</li><li><a href=\"http://en.wikipedia.org/wiki/Sexual partner\">Sexual partner</li><li><a href=\"http://en.wikipedia.org/wiki/Affinity (sociology)\">Affinity (sociology)</li><li><a href=\"http://en.wikipedia.org/wiki/Widow\">Widow</li><li><a href=\"http://en.wikipedia.org/wiki/Affair\">Affair</li><li><a href=\"http://en.wikipedia.org/wiki/Compassionate love\">Compassionate love</li><li><a href=\"http://en.wikipedia.org/wiki/Eros and Agape\">Eros and Agape</li><li><a href=\"http://en.wikipedia.org/wiki/Anguish\">Anguish</li><li><a href=\"http://en.wikipedia.org/wiki/Sentimentality\">Sentimentality</li><li><a href=\"http://en.wikipedia.org/wiki/Polyfidelity\">Polyfidelity</li><li><a href=\"http://en.wikipedia.org/wiki/Romantic friendship\">Romantic friendship</li><li><a href=\"http://en.wikipedia.org/wiki/Bride service\">Bride service</li><li><a href=\"http://en.wikipedia.org/wiki/Chennakesava Temple\">Chennakesava Temple</li><li><a href=\"http://en.wikipedia.org/wiki/Enlightenment in Buddhism\">Enlightenment in Buddhism</li><li><a href=\"http://en.wikipedia.org/wiki/Significant other\">Significant other</li><li><a href=\"http://en.wikipedia.org/wiki/Conjugal love\">Conjugal love</li><li><a href=\"http://en.wikipedia.org/wiki/Desire\">Desire</li><li><a href=\"http://en.wikipedia.org/wiki/The Four Loves\">The Four Loves</li><li><a href=\"http://en.wikipedia.org/wiki/Mistress (lover)\">Mistress (lover)</li><li><a href=\"http://en.wikipedia.org/wiki/Love letter\">Love letter</li><li><a href=\"http://en.wikipedia.org/wiki/Unconditional love\">Unconditional love</li><li><a href=\"http://en.wikipedia.org/wiki/Sexual repression\">Sexual repression</li><li><a href=\"http://en.wikipedia.org/wiki/Pleasure center\">Pleasure center</li><li><a href=\"http://en.wikipedia.org/wiki/Rabbi\">Rabbi</li><li><a href=\"http://en.wikipedia.org/wiki/Jeremy Griffith\">Jeremy Griffith</li><li><a href=\"http://en.wikipedia.org/wiki/Infatuation\">Infatuation</li></ul>"
      ],
      "text/plain": [
       "<IPython.core.display.HTML object>"
      ]
     },
     "metadata": {},
     "output_type": "display_data"
    },
    {
     "name": "stdout",
     "output_type": "stream",
     "text": [
      "87\n"
     ]
    }
   ],
   "source": [
    "print_h(\"english pages that have no french translation\")\n",
    "\n",
    "s = set(convergence[\"en\"][\"en\"]) - set([ x[0] for x in convergence[\"en\"][\"fr\"] ])\n",
    "print_list(s, \"en\")\n",
    "print len(s)"
   ]
  },
  {
   "cell_type": "code",
   "execution_count": 8,
   "metadata": {
    "collapsed": false
   },
   "outputs": [
    {
     "data": {
      "text/html": [
       "<h2>french pages that have no english translation</h2>"
      ],
      "text/plain": [
       "<IPython.core.display.HTML object>"
      ]
     },
     "metadata": {},
     "output_type": "display_data"
    },
    {
     "data": {
      "text/html": [
       "<ul><li><a href=\"http://fr.wikipedia.org/wiki/Souhait\">Souhait</li><li><a href=\"http://fr.wikipedia.org/wiki/Lien social (sociologie)\">Lien social (sociologie)</li><li><a href=\"http://fr.wikipedia.org/wiki/Révélation dans le catholicisme\">Révélation dans le catholicisme</li><li><a href=\"http://fr.wikipedia.org/wiki/Matériel\">Matériel</li><li><a href=\"http://fr.wikipedia.org/wiki/Responsabilité\">Responsabilité</li><li><a href=\"http://fr.wikipedia.org/wiki/Purification de la mémoire\">Purification de la mémoire</li><li><a href=\"http://fr.wikipedia.org/wiki/Fidèle\">Fidèle</li><li><a href=\"http://fr.wikipedia.org/wiki/Prochain\">Prochain</li><li><a href=\"http://fr.wikipedia.org/wiki/Art poétique\">Art poétique</li><li><a href=\"http://fr.wikipedia.org/wiki/Juin 1980\">Juin 1980</li><li><a href=\"http://fr.wikipedia.org/wiki/Amérique du Nord\">Amérique du Nord</li><li><a href=\"http://fr.wikipedia.org/wiki/Peine (émotion)\">Peine (émotion)</li><li><a href=\"http://fr.wikipedia.org/wiki/Mystère (christianisme)\">Mystère (christianisme)</li><li><a href=\"http://fr.wikipedia.org/wiki/Psyché (mythologie)\">Psyché (mythologie)</li><li><a href=\"http://fr.wikipedia.org/wiki/Position union de l'aigle\">Position union de l'aigle</li><li><a href=\"http://fr.wikipedia.org/wiki/Espèces eucharistiques\">Espèces eucharistiques</li><li><a href=\"http://fr.wikipedia.org/wiki/Le Gai Savoir (Nietzsche)\">Le Gai Savoir (Nietzsche)</li><li><a href=\"http://fr.wikipedia.org/wiki/Comportement érotique\">Comportement érotique</li><li><a href=\"http://fr.wikipedia.org/wiki/Union du lotus\">Union du lotus</li><li><a href=\"http://fr.wikipedia.org/wiki/Séduction\">Séduction</li><li><a href=\"http://fr.wikipedia.org/wiki/Stimulation vaginale\">Stimulation vaginale</li><li><a href=\"http://fr.wikipedia.org/wiki/Saint-Sacrement\">Saint-Sacrement</li><li><a href=\"http://fr.wikipedia.org/wiki/Fierté\">Fierté</li><li><a href=\"http://fr.wikipedia.org/wiki/Couple (droit et sociologie)\">Couple (droit et sociologie)</li><li><a href=\"http://fr.wikipedia.org/wiki/Mal du pays\">Mal du pays</li><li><a href=\"http://fr.wikipedia.org/wiki/Sexualité\">Sexualité</li><li><a href=\"http://fr.wikipedia.org/wiki/Amour dans le soufisme\">Amour dans le soufisme</li><li><a href=\"http://fr.wikipedia.org/wiki/Dominique Sels\">Dominique Sels</li><li><a href=\"http://fr.wikipedia.org/wiki/Univers invisible\">Univers invisible</li><li><a href=\"http://fr.wikipedia.org/wiki/Double pénétration\">Double pénétration</li><li><a href=\"http://fr.wikipedia.org/wiki/Position du bateau ivre\">Position du bateau ivre</li><li><a href=\"http://fr.wikipedia.org/wiki/Joie\">Joie</li><li><a href=\"http://fr.wikipedia.org/wiki/Irrumation\">Irrumation</li><li><a href=\"http://fr.wikipedia.org/wiki/Lumière rouge\">Lumière rouge</li><li><a href=\"http://fr.wikipedia.org/wiki/Aliénation\">Aliénation</li><li><a href=\"http://fr.wikipedia.org/wiki/Interdit (anthropologie)\">Interdit (anthropologie)</li><li><a href=\"http://fr.wikipedia.org/wiki/Du cul à la chatte\">Du cul à la chatte</li><li><a href=\"http://fr.wikipedia.org/wiki/Joie de vivre\">Joie de vivre</li><li><a href=\"http://fr.wikipedia.org/wiki/Helen Fischer\">Helen Fischer</li><li><a href=\"http://fr.wikipedia.org/wiki/Le Choc amoureux\">Le Choc amoureux</li><li><a href=\"http://fr.wikipedia.org/wiki/Deus caritas est\">Deus caritas est</li><li><a href=\"http://fr.wikipedia.org/wiki/Gourou\">Gourou</li><li><a href=\"http://fr.wikipedia.org/wiki/Néomalthusianisme\">Néomalthusianisme</li><li><a href=\"http://fr.wikipedia.org/wiki/Relation amoureuse\">Relation amoureuse</li><li><a href=\"http://fr.wikipedia.org/wiki/Intension et extension\">Intension et extension</li><li><a href=\"http://fr.wikipedia.org/wiki/Œil\">Œil</li><li><a href=\"http://fr.wikipedia.org/wiki/Toile\">Toile</li><li><a href=\"http://fr.wikipedia.org/wiki/Insécurité\">Insécurité</li><li><a href=\"http://fr.wikipedia.org/wiki/Gaieté (émotion)\">Gaieté (émotion)</li><li><a href=\"http://fr.wikipedia.org/wiki/Zèle\">Zèle</li><li><a href=\"http://fr.wikipedia.org/wiki/Brouette (position sexuelle)\">Brouette (position sexuelle)</li></ul>"
      ],
      "text/plain": [
       "<IPython.core.display.HTML object>"
      ]
     },
     "metadata": {},
     "output_type": "display_data"
    },
    {
     "name": "stdout",
     "output_type": "stream",
     "text": [
      "51\n"
     ]
    }
   ],
   "source": [
    "print_h(\"french pages that have no english translation\")\n",
    "\n",
    "s = set(convergence[\"fr\"][\"fr\"]) - set([ x[0] for x in convergence[\"fr\"][\"en\"] ])\n",
    "print_list(s, \"fr\")\n",
    "print len(s)"
   ]
  },
  {
   "cell_type": "code",
   "execution_count": 9,
   "metadata": {
    "collapsed": false,
    "scrolled": false
   },
   "outputs": [
    {
     "data": {
      "text/html": [
       "<h2>english concepts that are on both pages</h2>"
      ],
      "text/plain": [
       "<IPython.core.display.HTML object>"
      ]
     },
     "metadata": {},
     "output_type": "display_data"
    },
    {
     "data": {
      "text/html": [
       "<ul><li><a href=\"http://en.wikipedia.org/wiki/Eros (concept)\">Eros (concept)</li><li><a href=\"http://en.wikipedia.org/wiki/Annoyance\">Annoyance</li><li><a href=\"http://en.wikipedia.org/wiki/Interpersonal attraction\">Interpersonal attraction</li><li><a href=\"http://en.wikipedia.org/wiki/Nostalgia\">Nostalgia</li><li><a href=\"http://en.wikipedia.org/wiki/Nihilism\">Nihilism</li><li><a href=\"http://en.wikipedia.org/wiki/Religion\">Religion</li><li><a href=\"http://en.wikipedia.org/wiki/Disgust\">Disgust</li><li><a href=\"http://en.wikipedia.org/wiki/Pride\">Pride</li><li><a href=\"http://en.wikipedia.org/wiki/Psychology\">Psychology</li><li><a href=\"http://en.wikipedia.org/wiki/Hostility\">Hostility</li><li><a href=\"http://en.wikipedia.org/wiki/Philosophy\">Philosophy</li><li><a href=\"http://en.wikipedia.org/wiki/Anthropology\">Anthropology</li><li><a href=\"http://en.wikipedia.org/wiki/Caravaggio\">Caravaggio</li><li><a href=\"http://en.wikipedia.org/wiki/Homer\">Homer</li><li><a href=\"http://en.wikipedia.org/wiki/Philia\">Philia</li><li><a href=\"http://en.wikipedia.org/wiki/Anxiety\">Anxiety</li><li><a href=\"http://en.wikipedia.org/wiki/Disappointment\">Disappointment</li><li><a href=\"http://en.wikipedia.org/wiki/Sexual attraction\">Sexual attraction</li><li><a href=\"http://en.wikipedia.org/wiki/Pleasure\">Pleasure</li><li><a href=\"http://en.wikipedia.org/wiki/Hatred\">Hatred</li><li><a href=\"http://en.wikipedia.org/wiki/Affection\">Affection</li><li><a href=\"http://en.wikipedia.org/wiki/Humiliation\">Humiliation</li><li><a href=\"http://en.wikipedia.org/wiki/Charity (virtue)\">Charity (virtue)</li><li><a href=\"http://en.wikipedia.org/wiki/Shame\">Shame</li><li><a href=\"http://en.wikipedia.org/wiki/Aristotle\">Aristotle</li><li><a href=\"http://en.wikipedia.org/wiki/Anger\">Anger</li><li><a href=\"http://en.wikipedia.org/wiki/Fear\">Fear</li><li><a href=\"http://en.wikipedia.org/wiki/Amusement\">Amusement</li><li><a href=\"http://en.wikipedia.org/wiki/Pope Benedict XVI\">Pope Benedict XVI</li><li><a href=\"http://en.wikipedia.org/wiki/Envy\">Envy</li><li><a href=\"http://en.wikipedia.org/wiki/Giovanni Baglione\">Giovanni Baglione</li><li><a href=\"http://en.wikipedia.org/wiki/Frustration\">Frustration</li><li><a href=\"http://en.wikipedia.org/wiki/Guilt (emotion)\">Guilt (emotion)</li><li><a href=\"http://en.wikipedia.org/wiki/Euphoria\">Euphoria</li><li><a href=\"http://en.wikipedia.org/wiki/Remorse\">Remorse</li><li><a href=\"http://en.wikipedia.org/wiki/Sanskrit\">Sanskrit</li><li><a href=\"http://en.wikipedia.org/wiki/Enthusiasm\">Enthusiasm</li><li><a href=\"http://en.wikipedia.org/wiki/Panic\">Panic</li><li><a href=\"http://en.wikipedia.org/wiki/Biology\">Biology</li><li><a href=\"http://en.wikipedia.org/wiki/Sympathy\">Sympathy</li><li><a href=\"http://en.wikipedia.org/wiki/Embarrassment\">Embarrassment</li><li><a href=\"http://en.wikipedia.org/wiki/Verb\">Verb</li><li><a href=\"http://en.wikipedia.org/wiki/Altruism\">Altruism</li><li><a href=\"http://en.wikipedia.org/wiki/Bible\">Bible</li><li><a href=\"http://en.wikipedia.org/wiki/Catullus\">Catullus</li><li><a href=\"http://en.wikipedia.org/wiki/Loneliness\">Loneliness</li><li><a href=\"http://en.wikipedia.org/wiki/Marriage\">Marriage</li><li><a href=\"http://en.wikipedia.org/wiki/Friendship\">Friendship</li><li><a href=\"http://en.wikipedia.org/wiki/Paraphilia\">Paraphilia</li><li><a href=\"http://en.wikipedia.org/wiki/Spite (sentiment)\">Spite (sentiment)</li><li><a href=\"http://en.wikipedia.org/wiki/Emotion\">Emotion</li><li><a href=\"http://en.wikipedia.org/wiki/Social rejection\">Social rejection</li><li><a href=\"http://en.wikipedia.org/wiki/Regret\">Regret</li><li><a href=\"http://en.wikipedia.org/wiki/Essence\">Essence</li><li><a href=\"http://en.wikipedia.org/wiki/International Standard Book Number\">International Standard Book Number</li><li><a href=\"http://en.wikipedia.org/wiki/Greek words for love\">Greek words for love</li><li><a href=\"http://en.wikipedia.org/wiki/Weltschmerz\">Weltschmerz</li><li><a href=\"http://en.wikipedia.org/wiki/Adoration\">Adoration</li><li><a href=\"http://en.wikipedia.org/wiki/Recluse\">Recluse</li><li><a href=\"http://en.wikipedia.org/wiki/Happiness\">Happiness</li><li><a href=\"http://en.wikipedia.org/wiki/Irritability\">Irritability</li><li><a href=\"http://en.wikipedia.org/wiki/Self-love\">Self-love</li><li><a href=\"http://en.wikipedia.org/wiki/Plato\">Plato</li><li><a href=\"http://en.wikipedia.org/wiki/Troubadour\">Troubadour</li><li><a href=\"http://en.wikipedia.org/wiki/Romeo and Juliet\">Romeo and Juliet</li><li><a href=\"http://en.wikipedia.org/wiki/Stimulation\">Stimulation</li><li><a href=\"http://en.wikipedia.org/wiki/Ecstasy (emotion)\">Ecstasy (emotion)</li><li><a href=\"http://en.wikipedia.org/wiki/Buddhism\">Buddhism</li><li><a href=\"http://en.wikipedia.org/wiki/Contentment\">Contentment</li><li><a href=\"http://en.wikipedia.org/wiki/Attachment theory\">Attachment theory</li><li><a href=\"http://en.wikipedia.org/wiki/Suffering\">Suffering</li><li><a href=\"http://en.wikipedia.org/wiki/Child\">Child</li><li><a href=\"http://en.wikipedia.org/wiki/Neuroscience\">Neuroscience</li><li><a href=\"http://en.wikipedia.org/wiki/Sorrow (emotion)\">Sorrow (emotion)</li><li><a href=\"http://en.wikipedia.org/wiki/Apathy\">Apathy</li><li><a href=\"http://en.wikipedia.org/wiki/Theology\">Theology</li><li><a href=\"http://en.wikipedia.org/wiki/Sadness\">Sadness</li><li><a href=\"http://en.wikipedia.org/wiki/Ancient Greece\">Ancient Greece</li><li><a href=\"http://en.wikipedia.org/wiki/Insult\">Insult</li><li><a href=\"http://en.wikipedia.org/wiki/Family\">Family</li><li><a href=\"http://en.wikipedia.org/wiki/Pessimism\">Pessimism</li><li><a href=\"http://en.wikipedia.org/wiki/Storge\">Storge</li><li><a href=\"http://en.wikipedia.org/wiki/Arousal\">Arousal</li><li><a href=\"http://en.wikipedia.org/wiki/Eros\">Eros</li><li><a href=\"http://en.wikipedia.org/wiki/Pity\">Pity</li><li><a href=\"http://en.wikipedia.org/wiki/Love at first sight\">Love at first sight</li><li><a href=\"http://en.wikipedia.org/wiki/Thomas Aquinas\">Thomas Aquinas</li><li><a href=\"http://en.wikipedia.org/wiki/God\">God</li><li><a href=\"http://en.wikipedia.org/wiki/Jealousy\">Jealousy</li><li><a href=\"http://en.wikipedia.org/wiki/Sufism\">Sufism</li><li><a href=\"http://en.wikipedia.org/wiki/Virgil\">Virgil</li><li><a href=\"http://en.wikipedia.org/wiki/Passion (emotion)\">Passion (emotion)</li><li><a href=\"http://en.wikipedia.org/wiki/Rage (emotion)\">Rage (emotion)</li><li><a href=\"http://en.wikipedia.org/wiki/Hinduism\">Hinduism</li><li><a href=\"http://en.wikipedia.org/wiki/Hope\">Hope</li><li><a href=\"http://en.wikipedia.org/wiki/Free love\">Free love</li><li><a href=\"http://en.wikipedia.org/wiki/Courtly love\">Courtly love</li><li><a href=\"http://en.wikipedia.org/wiki/Frank Dicksee\">Frank Dicksee</li><li><a href=\"http://en.wikipedia.org/wiki/Erotomania\">Erotomania</li><li><a href=\"http://en.wikipedia.org/wiki/Compassion\">Compassion</li><li><a href=\"http://en.wikipedia.org/wiki/Attention\">Attention</li><li><a href=\"http://en.wikipedia.org/wiki/Bhakti\">Bhakti</li><li><a href=\"http://en.wikipedia.org/wiki/Narcissism\">Narcissism</li><li><a href=\"http://en.wikipedia.org/wiki/Melancholia\">Melancholia</li><li><a href=\"http://en.wikipedia.org/wiki/Empathy\">Empathy</li><li><a href=\"http://en.wikipedia.org/wiki/Gottfried Wilhelm Leibniz\">Gottfried Wilhelm Leibniz</li><li><a href=\"http://en.wikipedia.org/wiki/Denis de Rougemont\">Denis de Rougemont</li><li><a href=\"http://en.wikipedia.org/wiki/Optimism\">Optimism</li><li><a href=\"http://en.wikipedia.org/wiki/Surprise (emotion)\">Surprise (emotion)</li><li><a href=\"http://en.wikipedia.org/wiki/Mammal\">Mammal</li><li><a href=\"http://en.wikipedia.org/wiki/Neglect\">Neglect</li><li><a href=\"http://en.wikipedia.org/wiki/Cliché\">Cliché</li><li><a href=\"http://en.wikipedia.org/wiki/Eroticism\">Eroticism</li><li><a href=\"http://en.wikipedia.org/wiki/Chronic stress\">Chronic stress</li><li><a href=\"http://en.wikipedia.org/wiki/Platonic love\">Platonic love</li><li><a href=\"http://en.wikipedia.org/wiki/Defeatism\">Defeatism</li><li><a href=\"http://en.wikipedia.org/wiki/Contempt\">Contempt</li><li><a href=\"http://en.wikipedia.org/wiki/Human sexuality\">Human sexuality</li><li><a href=\"http://en.wikipedia.org/wiki/Birth control\">Birth control</li><li><a href=\"http://en.wikipedia.org/wiki/World view\">World view</li><li><a href=\"http://en.wikipedia.org/wiki/Interpersonal relationship\">Interpersonal relationship</li><li><a href=\"http://en.wikipedia.org/wiki/Hysteria\">Hysteria</li></ul>"
      ],
      "text/plain": [
       "<IPython.core.display.HTML object>"
      ]
     },
     "metadata": {},
     "output_type": "display_data"
    },
    {
     "name": "stdout",
     "output_type": "stream",
     "text": [
      "122\n"
     ]
    }
   ],
   "source": [
    "print_h(\"english concepts that are on both pages\")\n",
    "print_list(set(convergence[\"en\"][\"en\"]) & set([ x[1] for x in convergence[\"fr\"][\"en\"] ]), \"en\")\n",
    "print len(set(convergence[\"en\"][\"en\"]) & set([ x[1] for x in convergence[\"fr\"][\"en\"] ]))"
   ]
  },
  {
   "cell_type": "code",
   "execution_count": 10,
   "metadata": {
    "collapsed": false,
    "scrolled": false
   },
   "outputs": [
    {
     "data": {
      "text/html": [
       "<h2>french concepts that are on both pages</h2>"
      ],
      "text/plain": [
       "<IPython.core.display.HTML object>"
      ]
     },
     "metadata": {},
     "output_type": "display_data"
    },
    {
     "data": {
      "text/html": [
       "<ul><li><a href=\"http://fr.wikipedia.org/wiki/Regret (émotion)\">Regret (émotion)</li><li><a href=\"http://fr.wikipedia.org/wiki/Mélancolie\">Mélancolie</li><li><a href=\"http://fr.wikipedia.org/wiki/Bonheur\">Bonheur</li><li><a href=\"http://fr.wikipedia.org/wiki/Mal du pays\">Mal du pays</li><li><a href=\"http://fr.wikipedia.org/wiki/Anxiété\">Anxiété</li><li><a href=\"http://fr.wikipedia.org/wiki/Pitié\">Pitié</li><li><a href=\"http://fr.wikipedia.org/wiki/Religion\">Religion</li><li><a href=\"http://fr.wikipedia.org/wiki/Rage (émotion)\">Rage (émotion)</li><li><a href=\"http://fr.wikipedia.org/wiki/Frustration\">Frustration</li><li><a href=\"http://fr.wikipedia.org/wiki/Surprise\">Surprise</li><li><a href=\"http://fr.wikipedia.org/wiki/Honte\">Honte</li><li><a href=\"http://fr.wikipedia.org/wiki/Nostalgie (sentiment)\">Nostalgie (sentiment)</li><li><a href=\"http://fr.wikipedia.org/wiki/Philia\">Philia</li><li><a href=\"http://fr.wikipedia.org/wiki/Ostracisme (sociologie)\">Ostracisme (sociologie)</li><li><a href=\"http://fr.wikipedia.org/wiki/Éros\">Éros</li><li><a href=\"http://fr.wikipedia.org/wiki/Sympathie\">Sympathie</li><li><a href=\"http://fr.wikipedia.org/wiki/Insulte\">Insulte</li><li><a href=\"http://fr.wikipedia.org/wiki/Amour platonique\">Amour platonique</li><li><a href=\"http://fr.wikipedia.org/wiki/Affection\">Affection</li><li><a href=\"http://fr.wikipedia.org/wiki/Relation humaine\">Relation humaine</li><li><a href=\"http://fr.wikipedia.org/wiki/Narcissisme\">Narcissisme</li><li><a href=\"http://fr.wikipedia.org/wiki/Platon\">Platon</li><li><a href=\"http://fr.wikipedia.org/wiki/Frank Bernard Dicksee\">Frank Bernard Dicksee</li><li><a href=\"http://fr.wikipedia.org/wiki/Humiliation\">Humiliation</li><li><a href=\"http://fr.wikipedia.org/wiki/Défaitisme\">Défaitisme</li><li><a href=\"http://fr.wikipedia.org/wiki/Peur\">Peur</li><li><a href=\"http://fr.wikipedia.org/wiki/Bouddhisme\">Bouddhisme</li><li><a href=\"http://fr.wikipedia.org/wiki/Enthousiasme\">Enthousiasme</li><li><a href=\"http://fr.wikipedia.org/wiki/Satisfaction\">Satisfaction</li><li><a href=\"http://fr.wikipedia.org/wiki/Catulle\">Catulle</li><li><a href=\"http://fr.wikipedia.org/wiki/Orgueil\">Orgueil</li><li><a href=\"http://fr.wikipedia.org/wiki/Amour libre\">Amour libre</li><li><a href=\"http://fr.wikipedia.org/wiki/Stress chronique\">Stress chronique</li><li><a href=\"http://fr.wikipedia.org/wiki/Amusement (émotion)\">Amusement (émotion)</li><li><a href=\"http://fr.wikipedia.org/wiki/Embarras\">Embarras</li><li><a href=\"http://fr.wikipedia.org/wiki/Weltanschauung\">Weltanschauung</li><li><a href=\"http://fr.wikipedia.org/wiki/Mammifère\">Mammifère</li><li><a href=\"http://fr.wikipedia.org/wiki/Contrariété\">Contrariété</li><li><a href=\"http://fr.wikipedia.org/wiki/Thomas d'Aquin\">Thomas d'Aquin</li><li><a href=\"http://fr.wikipedia.org/wiki/Neurosciences\">Neurosciences</li><li><a href=\"http://fr.wikipedia.org/wiki/Culpabilité (émotion)\">Culpabilité (émotion)</li><li><a href=\"http://fr.wikipedia.org/wiki/Attirance sexuelle\">Attirance sexuelle</li><li><a href=\"http://fr.wikipedia.org/wiki/Rancune\">Rancune</li><li><a href=\"http://fr.wikipedia.org/wiki/Extase\">Extase</li><li><a href=\"http://fr.wikipedia.org/wiki/Émotion\">Émotion</li><li><a href=\"http://fr.wikipedia.org/wiki/Altruisme\">Altruisme</li><li><a href=\"http://fr.wikipedia.org/wiki/Homère\">Homère</li><li><a href=\"http://fr.wikipedia.org/wiki/Hostilité\">Hostilité</li><li><a href=\"http://fr.wikipedia.org/wiki/Philosophie\">Philosophie</li><li><a href=\"http://fr.wikipedia.org/wiki/Optimisme\">Optimisme</li><li><a href=\"http://fr.wikipedia.org/wiki/Bible\">Bible</li><li><a href=\"http://fr.wikipedia.org/wiki/Pessimisme\">Pessimisme</li><li><a href=\"http://fr.wikipedia.org/wiki/Amitié\">Amitié</li><li><a href=\"http://fr.wikipedia.org/wiki/Haine\">Haine</li><li><a href=\"http://fr.wikipedia.org/wiki/Paraphilie\">Paraphilie</li><li><a href=\"http://fr.wikipedia.org/wiki/Passion (émotion)\">Passion (émotion)</li><li><a href=\"http://fr.wikipedia.org/wiki/Enfant\">Enfant</li><li><a href=\"http://fr.wikipedia.org/wiki/Aristote\">Aristote</li><li><a href=\"http://fr.wikipedia.org/wiki/Deus caritas est\">Deus caritas est</li><li><a href=\"http://fr.wikipedia.org/wiki/Coup de foudre\">Coup de foudre</li><li><a href=\"http://fr.wikipedia.org/wiki/Chagrin (humeur)\">Chagrin (humeur)</li><li><a href=\"http://fr.wikipedia.org/wiki/Weltschmerz\">Weltschmerz</li><li><a href=\"http://fr.wikipedia.org/wiki/Insécurité\">Insécurité</li><li><a href=\"http://fr.wikipedia.org/wiki/Adoration\">Adoration</li><li><a href=\"http://fr.wikipedia.org/wiki/Troubadour\">Troubadour</li><li><a href=\"http://fr.wikipedia.org/wiki/Érotisme\">Érotisme</li><li><a href=\"http://fr.wikipedia.org/wiki/Colère\">Colère</li><li><a href=\"http://fr.wikipedia.org/wiki/Stimulation\">Stimulation</li><li><a href=\"http://fr.wikipedia.org/wiki/Soufisme\">Soufisme</li><li><a href=\"http://fr.wikipedia.org/wiki/Hindouisme\">Hindouisme</li><li><a href=\"http://fr.wikipedia.org/wiki/Ressentiment\">Ressentiment</li><li><a href=\"http://fr.wikipedia.org/wiki/Envie\">Envie</li><li><a href=\"http://fr.wikipedia.org/wiki/Mépris (émotion)\">Mépris (émotion)</li><li><a href=\"http://fr.wikipedia.org/wiki/Espoir (philosophie)\">Espoir (philosophie)</li><li><a href=\"http://fr.wikipedia.org/wiki/Dégoût\">Dégoût</li><li><a href=\"http://fr.wikipedia.org/wiki/Théologie\">Théologie</li><li><a href=\"http://fr.wikipedia.org/wiki/Éros (philosophie)\">Éros (philosophie)</li><li><a href=\"http://fr.wikipedia.org/wiki/Dieu\">Dieu</li><li><a href=\"http://fr.wikipedia.org/wiki/Déception\">Déception</li><li><a href=\"http://fr.wikipedia.org/wiki/Biologie\">Biologie</li><li><a href=\"http://fr.wikipedia.org/wiki/Apathie\">Apathie</li><li><a href=\"http://fr.wikipedia.org/wiki/Benoît XVI\">Benoît XVI</li><li><a href=\"http://fr.wikipedia.org/wiki/Euphorie\">Euphorie</li><li><a href=\"http://fr.wikipedia.org/wiki/Amour courtois\">Amour courtois</li><li><a href=\"http://fr.wikipedia.org/wiki/Essence et accident\">Essence et accident</li><li><a href=\"http://fr.wikipedia.org/wiki/Contraception\">Contraception</li><li><a href=\"http://fr.wikipedia.org/wiki/Storgê\">Storgê</li><li><a href=\"http://fr.wikipedia.org/wiki/Giovanni Baglione\">Giovanni Baglione</li><li><a href=\"http://fr.wikipedia.org/wiki/Psychologie\">Psychologie</li><li><a href=\"http://fr.wikipedia.org/wiki/Sexualité humaine\">Sexualité humaine</li><li><a href=\"http://fr.wikipedia.org/wiki/Tristesse\">Tristesse</li><li><a href=\"http://fr.wikipedia.org/wiki/Verbe\">Verbe</li><li><a href=\"http://fr.wikipedia.org/wiki/Souffrance\">Souffrance</li><li><a href=\"http://fr.wikipedia.org/wiki/Théorie de l'attachement\">Théorie de l'attachement</li><li><a href=\"http://fr.wikipedia.org/wiki/Irritabilité\">Irritabilité</li><li><a href=\"http://fr.wikipedia.org/wiki/Sanskrit\">Sanskrit</li><li><a href=\"http://fr.wikipedia.org/wiki/Virgile\">Virgile</li><li><a href=\"http://fr.wikipedia.org/wiki/Négligence (abus)\">Négligence (abus)</li><li><a href=\"http://fr.wikipedia.org/wiki/Empathie\">Empathie</li><li><a href=\"http://fr.wikipedia.org/wiki/Le Caravage\">Le Caravage</li><li><a href=\"http://fr.wikipedia.org/wiki/Attraction interpersonnelle\">Attraction interpersonnelle</li><li><a href=\"http://fr.wikipedia.org/wiki/Attention\">Attention</li><li><a href=\"http://fr.wikipedia.org/wiki/Charité\">Charité</li><li><a href=\"http://fr.wikipedia.org/wiki/Bhakti\">Bhakti</li><li><a href=\"http://fr.wikipedia.org/wiki/Amour-propre\">Amour-propre</li><li><a href=\"http://fr.wikipedia.org/wiki/Nihilisme\">Nihilisme</li><li><a href=\"http://fr.wikipedia.org/wiki/Hystérie\">Hystérie</li><li><a href=\"http://fr.wikipedia.org/wiki/Gottfried Wilhelm Leibniz\">Gottfried Wilhelm Leibniz</li><li><a href=\"http://fr.wikipedia.org/wiki/Reclus (moine)\">Reclus (moine)</li><li><a href=\"http://fr.wikipedia.org/wiki/Denis de Rougemont\">Denis de Rougemont</li><li><a href=\"http://fr.wikipedia.org/wiki/Peur panique\">Peur panique</li><li><a href=\"http://fr.wikipedia.org/wiki/Érotomanie\">Érotomanie</li><li><a href=\"http://fr.wikipedia.org/wiki/Cliché\">Cliché</li><li><a href=\"http://fr.wikipedia.org/wiki/Mots grecs pour dire amour\">Mots grecs pour dire amour</li><li><a href=\"http://fr.wikipedia.org/wiki/Roméo et Juliette\">Roméo et Juliette</li><li><a href=\"http://fr.wikipedia.org/wiki/Plaisir\">Plaisir</li><li><a href=\"http://fr.wikipedia.org/wiki/Jalousie\">Jalousie</li><li><a href=\"http://fr.wikipedia.org/wiki/Anthropologie\">Anthropologie</li><li><a href=\"http://fr.wikipedia.org/wiki/Grèce antique\">Grèce antique</li><li><a href=\"http://fr.wikipedia.org/wiki/Compassion\">Compassion</li><li><a href=\"http://fr.wikipedia.org/wiki/Activation physiologique\">Activation physiologique</li><li><a href=\"http://fr.wikipedia.org/wiki/Isolement\">Isolement</li><li><a href=\"http://fr.wikipedia.org/wiki/Mariage\">Mariage</li><li><a href=\"http://fr.wikipedia.org/wiki/Remords\">Remords</li><li><a href=\"http://fr.wikipedia.org/wiki/Famille\">Famille</li></ul>"
      ],
      "text/plain": [
       "<IPython.core.display.HTML object>"
      ]
     },
     "metadata": {},
     "output_type": "display_data"
    },
    {
     "name": "stdout",
     "output_type": "stream",
     "text": [
      "125\n"
     ]
    }
   ],
   "source": [
    "print_h(\"french concepts that are on both pages\")\n",
    "print_list(set(convergence[\"fr\"][\"fr\"]) & set([ x[1] for x in convergence[\"en\"][\"fr\"] ]), \"fr\")\n",
    "print len(set(convergence[\"fr\"][\"fr\"]) & set([ x[1] for x in convergence[\"en\"][\"fr\"] ]))"
   ]
  },
  {
   "cell_type": "code",
   "execution_count": 11,
   "metadata": {
    "collapsed": false,
    "scrolled": false
   },
   "outputs": [
    {
     "data": {
      "text/html": [
       "<h2>pages that have a translation in both languages and are on both pages</h2>"
      ],
      "text/plain": [
       "<IPython.core.display.HTML object>"
      ]
     },
     "metadata": {},
     "output_type": "display_data"
    },
    {
     "data": {
      "text/html": [
       "<ul><li><a href=\"http://en.wikipedia.org/wiki/Eros (concept)\">Eros (concept)</li><li><a href=\"http://en.wikipedia.org/wiki/Annoyance\">Annoyance</li><li><a href=\"http://en.wikipedia.org/wiki/Interpersonal attraction\">Interpersonal attraction</li><li><a href=\"http://en.wikipedia.org/wiki/Nostalgia\">Nostalgia</li><li><a href=\"http://en.wikipedia.org/wiki/Nihilism\">Nihilism</li><li><a href=\"http://en.wikipedia.org/wiki/Religion\">Religion</li><li><a href=\"http://en.wikipedia.org/wiki/Frustration\">Frustration</li><li><a href=\"http://en.wikipedia.org/wiki/Pride\">Pride</li><li><a href=\"http://en.wikipedia.org/wiki/Psychology\">Psychology</li><li><a href=\"http://en.wikipedia.org/wiki/Hostility\">Hostility</li><li><a href=\"http://en.wikipedia.org/wiki/Philosophy\">Philosophy</li><li><a href=\"http://en.wikipedia.org/wiki/Anthropology\">Anthropology</li><li><a href=\"http://en.wikipedia.org/wiki/Caravaggio\">Caravaggio</li><li><a href=\"http://en.wikipedia.org/wiki/Homer\">Homer</li><li><a href=\"http://en.wikipedia.org/wiki/Philia\">Philia</li><li><a href=\"http://en.wikipedia.org/wiki/Anxiety\">Anxiety</li><li><a href=\"http://en.wikipedia.org/wiki/Disappointment\">Disappointment</li><li><a href=\"http://en.wikipedia.org/wiki/Sexual attraction\">Sexual attraction</li><li><a href=\"http://en.wikipedia.org/wiki/Pleasure\">Pleasure</li><li><a href=\"http://en.wikipedia.org/wiki/Hatred\">Hatred</li><li><a href=\"http://en.wikipedia.org/wiki/Affection\">Affection</li><li><a href=\"http://en.wikipedia.org/wiki/Humiliation\">Humiliation</li><li><a href=\"http://en.wikipedia.org/wiki/Charity (virtue)\">Charity (virtue)</li><li><a href=\"http://en.wikipedia.org/wiki/Sympathy\">Sympathy</li><li><a href=\"http://en.wikipedia.org/wiki/Aristotle\">Aristotle</li><li><a href=\"http://en.wikipedia.org/wiki/Anger\">Anger</li><li><a href=\"http://en.wikipedia.org/wiki/Fear\">Fear</li><li><a href=\"http://en.wikipedia.org/wiki/Amusement\">Amusement</li><li><a href=\"http://en.wikipedia.org/wiki/Pope Benedict XVI\">Pope Benedict XVI</li><li><a href=\"http://en.wikipedia.org/wiki/Envy\">Envy</li><li><a href=\"http://en.wikipedia.org/wiki/Pessimism\">Pessimism</li><li><a href=\"http://en.wikipedia.org/wiki/Disgust\">Disgust</li><li><a href=\"http://en.wikipedia.org/wiki/Guilt (emotion)\">Guilt (emotion)</li><li><a href=\"http://en.wikipedia.org/wiki/Euphoria\">Euphoria</li><li><a href=\"http://en.wikipedia.org/wiki/Remorse\">Remorse</li><li><a href=\"http://en.wikipedia.org/wiki/Rage (emotion)\">Rage (emotion)</li><li><a href=\"http://en.wikipedia.org/wiki/Panic\">Panic</li><li><a href=\"http://en.wikipedia.org/wiki/Biology\">Biology</li><li><a href=\"http://en.wikipedia.org/wiki/Shame\">Shame</li><li><a href=\"http://en.wikipedia.org/wiki/Embarrassment\">Embarrassment</li><li><a href=\"http://en.wikipedia.org/wiki/Verb\">Verb</li><li><a href=\"http://en.wikipedia.org/wiki/Altruism\">Altruism</li><li><a href=\"http://en.wikipedia.org/wiki/Bible\">Bible</li><li><a href=\"http://en.wikipedia.org/wiki/Catullus\">Catullus</li><li><a href=\"http://en.wikipedia.org/wiki/Loneliness\">Loneliness</li><li><a href=\"http://en.wikipedia.org/wiki/Marriage\">Marriage</li><li><a href=\"http://en.wikipedia.org/wiki/Friendship\">Friendship</li><li><a href=\"http://en.wikipedia.org/wiki/Paraphilia\">Paraphilia</li><li><a href=\"http://en.wikipedia.org/wiki/Spite (sentiment)\">Spite (sentiment)</li><li><a href=\"http://en.wikipedia.org/wiki/Emotion\">Emotion</li><li><a href=\"http://en.wikipedia.org/wiki/Social rejection\">Social rejection</li><li><a href=\"http://en.wikipedia.org/wiki/Regret\">Regret</li><li><a href=\"http://en.wikipedia.org/wiki/Essence\">Essence</li><li><a href=\"http://en.wikipedia.org/wiki/Attachment theory\">Attachment theory</li><li><a href=\"http://en.wikipedia.org/wiki/Greek words for love\">Greek words for love</li><li><a href=\"http://en.wikipedia.org/wiki/Weltschmerz\">Weltschmerz</li><li><a href=\"http://en.wikipedia.org/wiki/Adoration\">Adoration</li><li><a href=\"http://en.wikipedia.org/wiki/Recluse\">Recluse</li><li><a href=\"http://en.wikipedia.org/wiki/Happiness\">Happiness</li><li><a href=\"http://en.wikipedia.org/wiki/Irritability\">Irritability</li><li><a href=\"http://en.wikipedia.org/wiki/Self-love\">Self-love</li><li><a href=\"http://en.wikipedia.org/wiki/Plato\">Plato</li><li><a href=\"http://en.wikipedia.org/wiki/Troubadour\">Troubadour</li><li><a href=\"http://en.wikipedia.org/wiki/Romeo and Juliet\">Romeo and Juliet</li><li><a href=\"http://en.wikipedia.org/wiki/Stimulation\">Stimulation</li><li><a href=\"http://en.wikipedia.org/wiki/Buddhism\">Buddhism</li><li><a href=\"http://en.wikipedia.org/wiki/Contentment\">Contentment</li><li><a href=\"http://en.wikipedia.org/wiki/Ecstasy (emotion)\">Ecstasy (emotion)</li><li><a href=\"http://en.wikipedia.org/wiki/Suffering\">Suffering</li><li><a href=\"http://en.wikipedia.org/wiki/Child\">Child</li><li><a href=\"http://en.wikipedia.org/wiki/Enthusiasm\">Enthusiasm</li><li><a href=\"http://en.wikipedia.org/wiki/Neuroscience\">Neuroscience</li><li><a href=\"http://en.wikipedia.org/wiki/Sorrow (emotion)\">Sorrow (emotion)</li><li><a href=\"http://en.wikipedia.org/wiki/Eroticism\">Eroticism</li><li><a href=\"http://en.wikipedia.org/wiki/Apathy\">Apathy</li><li><a href=\"http://en.wikipedia.org/wiki/Theology\">Theology</li><li><a href=\"http://en.wikipedia.org/wiki/Sadness\">Sadness</li><li><a href=\"http://en.wikipedia.org/wiki/Defeatism\">Defeatism</li><li><a href=\"http://en.wikipedia.org/wiki/Insult\">Insult</li><li><a href=\"http://en.wikipedia.org/wiki/Family\">Family</li><li><a href=\"http://en.wikipedia.org/wiki/Giovanni Baglione\">Giovanni Baglione</li><li><a href=\"http://en.wikipedia.org/wiki/Storge\">Storge</li><li><a href=\"http://en.wikipedia.org/wiki/Arousal\">Arousal</li><li><a href=\"http://en.wikipedia.org/wiki/Eros\">Eros</li><li><a href=\"http://en.wikipedia.org/wiki/Pity\">Pity</li><li><a href=\"http://en.wikipedia.org/wiki/Love at first sight\">Love at first sight</li><li><a href=\"http://en.wikipedia.org/wiki/Thomas Aquinas\">Thomas Aquinas</li><li><a href=\"http://en.wikipedia.org/wiki/God\">God</li><li><a href=\"http://en.wikipedia.org/wiki/Jealousy\">Jealousy</li><li><a href=\"http://en.wikipedia.org/wiki/Sufism\">Sufism</li><li><a href=\"http://en.wikipedia.org/wiki/Virgil\">Virgil</li><li><a href=\"http://en.wikipedia.org/wiki/Passion (emotion)\">Passion (emotion)</li><li><a href=\"http://en.wikipedia.org/wiki/Sanskrit\">Sanskrit</li><li><a href=\"http://en.wikipedia.org/wiki/Platonic love\">Platonic love</li><li><a href=\"http://en.wikipedia.org/wiki/Hope\">Hope</li><li><a href=\"http://en.wikipedia.org/wiki/Free love\">Free love</li><li><a href=\"http://en.wikipedia.org/wiki/Narcissism\">Narcissism</li><li><a href=\"http://en.wikipedia.org/wiki/Frank Dicksee\">Frank Dicksee</li><li><a href=\"http://en.wikipedia.org/wiki/Erotomania\">Erotomania</li><li><a href=\"http://en.wikipedia.org/wiki/Compassion\">Compassion</li><li><a href=\"http://en.wikipedia.org/wiki/Attention\">Attention</li><li><a href=\"http://en.wikipedia.org/wiki/Bhakti\">Bhakti</li><li><a href=\"http://en.wikipedia.org/wiki/Courtly love\">Courtly love</li><li><a href=\"http://en.wikipedia.org/wiki/Melancholia\">Melancholia</li><li><a href=\"http://en.wikipedia.org/wiki/Empathy\">Empathy</li><li><a href=\"http://en.wikipedia.org/wiki/Gottfried Wilhelm Leibniz\">Gottfried Wilhelm Leibniz</li><li><a href=\"http://en.wikipedia.org/wiki/Denis de Rougemont\">Denis de Rougemont</li><li><a href=\"http://en.wikipedia.org/wiki/Optimism\">Optimism</li><li><a href=\"http://en.wikipedia.org/wiki/Surprise (emotion)\">Surprise (emotion)</li><li><a href=\"http://en.wikipedia.org/wiki/Mammal\">Mammal</li><li><a href=\"http://en.wikipedia.org/wiki/Neglect\">Neglect</li><li><a href=\"http://en.wikipedia.org/wiki/Cliché\">Cliché</li><li><a href=\"http://en.wikipedia.org/wiki/Hinduism\">Hinduism</li><li><a href=\"http://en.wikipedia.org/wiki/Chronic stress\">Chronic stress</li><li><a href=\"http://en.wikipedia.org/wiki/Ancient Greece\">Ancient Greece</li><li><a href=\"http://en.wikipedia.org/wiki/Contempt\">Contempt</li><li><a href=\"http://en.wikipedia.org/wiki/Human sexuality\">Human sexuality</li><li><a href=\"http://en.wikipedia.org/wiki/Birth control\">Birth control</li><li><a href=\"http://en.wikipedia.org/wiki/World view\">World view</li><li><a href=\"http://en.wikipedia.org/wiki/Interpersonal relationship\">Interpersonal relationship</li><li><a href=\"http://en.wikipedia.org/wiki/Hysteria\">Hysteria</li></ul>"
      ],
      "text/plain": [
       "<IPython.core.display.HTML object>"
      ]
     },
     "metadata": {},
     "output_type": "display_data"
    },
    {
     "name": "stdout",
     "output_type": "stream",
     "text": [
      "121\n"
     ]
    }
   ],
   "source": [
    "print_h(\"pages that have a translation in both languages and are on both pages\")\n",
    "print_list(set([ x[1] for x in convergence[\"fr\"][\"en\"] ]) & set([ x[0] for x in convergence[\"en\"][\"fr\"] ]), \"en\")\n",
    "print len(set([ x[1] for x in convergence[\"fr\"][\"en\"] ]) & set([ x[0] for x in convergence[\"en\"][\"fr\"] ]))"
   ]
  },
  {
   "cell_type": "code",
   "execution_count": 12,
   "metadata": {
    "collapsed": false,
    "scrolled": false
   },
   "outputs": [
    {
     "data": {
      "text/html": [
       "<h2>english concepts that are only on the english page</h2>"
      ],
      "text/plain": [
       "<IPython.core.display.HTML object>"
      ]
     },
     "metadata": {},
     "output_type": "display_data"
    },
    {
     "data": {
      "text/html": [
       "<ul><li><a href=\"http://en.wikipedia.org/wiki/East Timor\">East Timor</li><li><a href=\"http://en.wikipedia.org/wiki/Ethics\">Ethics</li><li><a href=\"http://en.wikipedia.org/wiki/Autonomy\">Autonomy</li><li><a href=\"http://en.wikipedia.org/wiki/Chinese Buddhism\">Chinese Buddhism</li><li><a href=\"http://en.wikipedia.org/wiki/Ellen S. Berscheid\">Ellen S. Berscheid</li><li><a href=\"http://en.wikipedia.org/wiki/Kenosis\">Kenosis</li><li><a href=\"http://en.wikipedia.org/wiki/Breakup\">Breakup</li><li><a href=\"http://en.wikipedia.org/wiki/Cohabitation\">Cohabitation</li><li><a href=\"http://en.wikipedia.org/wiki/Thirst\">Thirst</li><li><a href=\"http://en.wikipedia.org/wiki/A General Theory of Love\">A General Theory of Love</li><li><a href=\"http://en.wikipedia.org/wiki/Rabbinic literature\">Rabbinic literature</li><li><a href=\"http://en.wikipedia.org/wiki/Gospel of Mark\">Gospel of Mark</li><li><a href=\"http://en.wikipedia.org/wiki/Kinship\">Kinship</li><li><a href=\"http://en.wikipedia.org/wiki/Lovestruck\">Lovestruck</li><li><a href=\"http://en.wikipedia.org/wiki/Relational transgression\">Relational transgression</li><li><a href=\"http://en.wikipedia.org/wiki/Monogamy\">Monogamy</li><li><a href=\"http://en.wikipedia.org/wiki/Explanation\">Explanation</li><li><a href=\"http://en.wikipedia.org/wiki/Philosophy of love\">Philosophy of love</li><li><a href=\"http://en.wikipedia.org/wiki/Veneration of Mary in Roman Catholicism\">Veneration of Mary in Roman Catholicism</li><li><a href=\"http://en.wikipedia.org/wiki/Same-sex relationship\">Same-sex relationship</li><li><a href=\"http://en.wikipedia.org/wiki/Religious views on love\">Religious views on love</li><li><a href=\"http://en.wikipedia.org/wiki/Mettā\">Mettā</li><li><a href=\"http://en.wikipedia.org/wiki/Zick Rubin\">Zick Rubin</li><li><a href=\"http://en.wikipedia.org/wiki/Saudade\">Saudade</li><li><a href=\"http://en.wikipedia.org/wiki/Interest (emotion)\">Interest (emotion)</li><li><a href=\"http://en.wikipedia.org/wiki/Applied psychology\">Applied psychology</li><li><a href=\"http://en.wikipedia.org/wiki/Obsessive love\">Obsessive love</li><li><a href=\"http://en.wikipedia.org/wiki/Grief\">Grief</li><li><a href=\"http://en.wikipedia.org/wiki/Estrogen\">Estrogen</li><li><a href=\"http://en.wikipedia.org/wiki/Norepinephrine\">Norepinephrine</li><li><a href=\"http://en.wikipedia.org/wiki/Digital object identifier\">Digital object identifier</li><li><a href=\"http://en.wikipedia.org/wiki/Tulsidas\">Tulsidas</li><li><a href=\"http://en.wikipedia.org/wiki/Husband\">Husband</li><li><a href=\"http://en.wikipedia.org/wiki/Human bonding\">Human bonding</li><li><a href=\"http://en.wikipedia.org/wiki/Benjamin Péret\">Benjamin Péret</li><li><a href=\"http://en.wikipedia.org/wiki/Falling in love\">Falling in love</li><li><a href=\"http://en.wikipedia.org/wiki/Isolation (psychology)\">Isolation (psychology)</li><li><a href=\"http://en.wikipedia.org/wiki/Odyssey\">Odyssey</li><li><a href=\"http://en.wikipedia.org/wiki/Virtue\">Virtue</li><li><a href=\"http://en.wikipedia.org/wiki/Love triangle\">Love triangle</li><li><a href=\"http://en.wikipedia.org/wiki/Evolution\">Evolution</li><li><a href=\"http://en.wikipedia.org/wiki/Mother Teresa\">Mother Teresa</li><li><a href=\"http://en.wikipedia.org/wiki/Wife\">Wife</li><li><a href=\"http://en.wikipedia.org/wiki/Greek mythology\">Greek mythology</li><li><a href=\"http://en.wikipedia.org/wiki/Dower\">Dower</li><li><a href=\"http://en.wikipedia.org/wiki/Jewish views on love\">Jewish views on love</li><li><a href=\"http://en.wikipedia.org/wiki/The Beatles\">The Beatles</li><li><a href=\"http://en.wikipedia.org/wiki/Rome\">Rome</li><li><a href=\"http://en.wikipedia.org/wiki/Natural selection\">Natural selection</li><li><a href=\"http://en.wikipedia.org/wiki/Oxytocin\">Oxytocin</li><li><a href=\"http://en.wikipedia.org/wiki/All You Need Is Love\">All You Need Is Love</li><li><a href=\"http://en.wikipedia.org/wiki/Homesickness\">Homesickness</li><li><a href=\"http://en.wikipedia.org/wiki/Fertility\">Fertility</li><li><a href=\"http://en.wikipedia.org/wiki/Biological basis of love\">Biological basis of love</li><li><a href=\"http://en.wikipedia.org/wiki/Man'yōshū\">Man'yōshū</li><li><a href=\"http://en.wikipedia.org/wiki/Book of Leviticus\">Book of Leviticus</li><li><a href=\"http://en.wikipedia.org/wiki/Japanese language\">Japanese language</li><li><a href=\"http://en.wikipedia.org/wiki/Mohism\">Mohism</li><li><a href=\"http://en.wikipedia.org/wiki/Wonder (emotion)\">Wonder (emotion)</li><li><a href=\"http://en.wikipedia.org/wiki/Triangular theory of love\">Triangular theory of love</li><li><a href=\"http://en.wikipedia.org/wiki/India\">India</li><li><a href=\"http://en.wikipedia.org/wiki/Ancient Greek\">Ancient Greek</li><li><a href=\"http://en.wikipedia.org/wiki/Unrequited love\">Unrequited love</li><li><a href=\"http://en.wikipedia.org/wiki/Meet market\">Meet market</li><li><a href=\"http://en.wikipedia.org/wiki/Cultural identity\">Cultural identity</li><li><a href=\"http://en.wikipedia.org/wiki/Huastec civilization\">Huastec civilization</li><li><a href=\"http://en.wikipedia.org/wiki/Xalapa\">Xalapa</li><li><a href=\"http://en.wikipedia.org/wiki/C. S. Lewis\">C. S. Lewis</li><li><a href=\"http://en.wikipedia.org/wiki/Dopamine\">Dopamine</li><li><a href=\"http://en.wikipedia.org/wiki/Cicisbeo\">Cicisbeo</li><li><a href=\"http://en.wikipedia.org/wiki/Love addiction\">Love addiction</li><li><a href=\"http://en.wikipedia.org/wiki/Worry\">Worry</li><li><a href=\"http://en.wikipedia.org/wiki/Feminism\">Feminism</li><li><a href=\"http://en.wikipedia.org/wiki/Infidelity\">Infidelity</li><li><a href=\"http://en.wikipedia.org/wiki/First Epistle to the Corinthians\">First Epistle to the Corinthians</li><li><a href=\"http://en.wikipedia.org/wiki/Meher Baba\">Meher Baba</li><li><a href=\"http://en.wikipedia.org/wiki/First Epistle of John\">First Epistle of John</li><li><a href=\"http://en.wikipedia.org/wiki/Helen Fisher (anthropologist)\">Helen Fisher (anthropologist)</li><li><a href=\"http://en.wikipedia.org/wiki/Bodhisattva\">Bodhisattva</li><li><a href=\"http://en.wikipedia.org/wiki/Mozi\">Mozi</li><li><a href=\"http://en.wikipedia.org/wiki/Christianity\">Christianity</li><li><a href=\"http://en.wikipedia.org/wiki/Mating (human)\">Mating (human)</li><li><a href=\"http://en.wikipedia.org/wiki/Mono no aware\">Mono no aware</li><li><a href=\"http://en.wikipedia.org/wiki/Heart\">Heart</li><li><a href=\"http://en.wikipedia.org/wiki/Encyclical\">Encyclical</li><li><a href=\"http://en.wikipedia.org/wiki/Resentment\">Resentment</li><li><a href=\"http://en.wikipedia.org/wiki/Domestic violence\">Domestic violence</li><li><a href=\"http://en.wikipedia.org/wiki/Depression (mood)\">Depression (mood)</li><li><a href=\"http://en.wikipedia.org/wiki/Gospel of John\">Gospel of John</li><li><a href=\"http://en.wikipedia.org/wiki/Chesed\">Chesed</li><li><a href=\"http://en.wikipedia.org/wiki/Latin\">Latin</li><li><a href=\"http://en.wikipedia.org/wiki/Paris Talks\">Paris Talks</li><li><a href=\"http://en.wikipedia.org/wiki/Quran\">Quran</li><li><a href=\"http://en.wikipedia.org/wiki/Loving-kindness\">Loving-kindness</li><li><a href=\"http://en.wikipedia.org/wiki/Infatuation\">Infatuation</li><li><a href=\"http://en.wikipedia.org/wiki/Insomnia\">Insomnia</li><li><a href=\"http://en.wikipedia.org/wiki/Bertrand Russell\">Bertrand Russell</li><li><a href=\"http://en.wikipedia.org/wiki/Narada Bhakti Sutra\">Narada Bhakti Sutra</li><li><a href=\"http://en.wikipedia.org/wiki/Abuse\">Abuse</li><li><a href=\"http://en.wikipedia.org/wiki/Nerve growth factor\">Nerve growth factor</li><li><a href=\"http://en.wikipedia.org/wiki/Value (ethics)\">Value (ethics)</li><li><a href=\"http://en.wikipedia.org/wiki/Anagram\">Anagram</li><li><a href=\"http://en.wikipedia.org/wiki/Awe\">Awe</li><li><a href=\"http://en.wikipedia.org/wiki/Attachment in adults\">Attachment in adults</li><li><a href=\"http://en.wikipedia.org/wiki/Amphetamine\">Amphetamine</li><li><a href=\"http://en.wikipedia.org/wiki/Ars Amatoria\">Ars Amatoria</li><li><a href=\"http://en.wikipedia.org/wiki/Erich Fromm\">Erich Fromm</li><li><a href=\"http://en.wikipedia.org/wiki/Dating abuse\">Dating abuse</li><li><a href=\"http://en.wikipedia.org/wiki/Sri Lanka\">Sri Lanka</li><li><a href=\"http://en.wikipedia.org/wiki/Genetic genealogy\">Genetic genealogy</li><li><a href=\"http://en.wikipedia.org/wiki/The Love Suicides at Sonezaki\">The Love Suicides at Sonezaki</li><li><a href=\"http://en.wikipedia.org/wiki/Open marriage\">Open marriage</li><li><a href=\"http://en.wikipedia.org/wiki/Intimate relationship\">Intimate relationship</li><li><a href=\"http://en.wikipedia.org/wiki/Xenia (Greek)\">Xenia (Greek)</li><li><a href=\"http://en.wikipedia.org/wiki/Kanji\">Kanji</li><li><a href=\"http://en.wikipedia.org/wiki/Kama\">Kama</li><li><a href=\"http://en.wikipedia.org/wiki/Bachelor of Fine Arts\">Bachelor of Fine Arts</li><li><a href=\"http://en.wikipedia.org/wiki/James Giles (philosopher)\">James Giles (philosopher)</li><li><a href=\"http://en.wikipedia.org/wiki/Bhagavata Purana\">Bhagavata Purana</li><li><a href=\"http://en.wikipedia.org/wiki/Turkic languages\">Turkic languages</li><li><a href=\"http://en.wikipedia.org/wiki/PubMed\">PubMed</li><li><a href=\"http://en.wikipedia.org/wiki/Hypergamy\">Hypergamy</li><li><a href=\"http://en.wikipedia.org/wiki/Museo de Antropología de Xalapa\">Museo de Antropología de Xalapa</li><li><a href=\"http://en.wikipedia.org/wiki/Swedish language\">Swedish language</li><li><a href=\"http://en.wikipedia.org/wiki/`Abdu'l-Bahá\">`Abdu'l-Bahá</li><li><a href=\"http://en.wikipedia.org/wiki/Chinese characters\">Chinese characters</li><li><a href=\"http://en.wikipedia.org/wiki/Horror and terror\">Horror and terror</li><li><a href=\"http://en.wikipedia.org/wiki/Agape\">Agape</li><li><a href=\"http://en.wikipedia.org/wiki/Deus caritas est\">Deus caritas est</li><li><a href=\"http://en.wikipedia.org/wiki/Narada\">Narada</li><li><a href=\"http://en.wikipedia.org/wiki/Non-monogamy\">Non-monogamy</li><li><a href=\"http://en.wikipedia.org/wiki/Anguish\">Anguish</li><li><a href=\"http://en.wikipedia.org/wiki/Amor Vincit Omnia (Caravaggio)\">Amor Vincit Omnia (Caravaggio)</li><li><a href=\"http://en.wikipedia.org/wiki/Vasopressin\">Vasopressin</li><li><a href=\"http://en.wikipedia.org/wiki/Torah\">Torah</li><li><a href=\"http://en.wikipedia.org/wiki/Love (sculpture)\">Love (sculpture)</li><li><a href=\"http://en.wikipedia.org/wiki/Jesus\">Jesus</li><li><a href=\"http://en.wikipedia.org/wiki/Smithsonian Institution\">Smithsonian Institution</li><li><a href=\"http://en.wikipedia.org/wiki/Latin literature\">Latin literature</li><li><a href=\"http://en.wikipedia.org/wiki/Neighbourhood\">Neighbourhood</li><li><a href=\"http://en.wikipedia.org/wiki/Augustine of Hippo\">Augustine of Hippo</li><li><a href=\"http://en.wikipedia.org/wiki/Ideal type\">Ideal type</li><li><a href=\"http://en.wikipedia.org/wiki/Girlfriend\">Girlfriend</li><li><a href=\"http://en.wikipedia.org/wiki/Child abuse\">Child abuse</li><li><a href=\"http://en.wikipedia.org/wiki/Veracruz\">Veracruz</li><li><a href=\"http://en.wikipedia.org/wiki/Limerence\">Limerence</li><li><a href=\"http://en.wikipedia.org/wiki/Psychomotor agitation\">Psychomotor agitation</li><li><a href=\"http://en.wikipedia.org/wiki/Song of Songs\">Song of Songs</li><li><a href=\"http://en.wikipedia.org/wiki/Sexually transmitted disease\">Sexually transmitted disease</li><li><a href=\"http://en.wikipedia.org/wiki/New International Version\">New International Version</li><li><a href=\"http://en.wikipedia.org/wiki/John the Apostle\">John the Apostle</li><li><a href=\"http://en.wikipedia.org/wiki/Ishq\">Ishq</li><li><a href=\"http://en.wikipedia.org/wiki/Emotional security\">Emotional security</li><li><a href=\"http://en.wikipedia.org/wiki/Puppy love\">Puppy love</li><li><a href=\"http://en.wikipedia.org/wiki/Divorce\">Divorce</li><li><a href=\"http://en.wikipedia.org/wiki/Singles event\">Singles event</li><li><a href=\"http://en.wikipedia.org/wiki/The Art of Loving\">The Art of Loving</li><li><a href=\"http://en.wikipedia.org/wiki/Karuṇā\">Karuṇā</li><li><a href=\"http://en.wikipedia.org/wiki/Annulment\">Annulment</li><li><a href=\"http://en.wikipedia.org/wiki/Saadi Shirazi\">Saadi Shirazi</li><li><a href=\"http://en.wikipedia.org/wiki/Rumi\">Rumi</li><li><a href=\"http://en.wikipedia.org/wiki/Dating\">Dating</li><li><a href=\"http://en.wikipedia.org/wiki/Valentine's Day\">Valentine's Day</li><li><a href=\"http://en.wikipedia.org/wiki/Turkish language\">Turkish language</li><li><a href=\"http://en.wikipedia.org/wiki/Human sexual activity\">Human sexual activity</li><li><a href=\"http://en.wikipedia.org/wiki/Contrasting and categorization of emotions\">Contrasting and categorization of emotions</li><li><a href=\"http://en.wikipedia.org/wiki/Evolutionary psychology\">Evolutionary psychology</li><li><a href=\"http://en.wikipedia.org/wiki/Hormone\">Hormone</li><li><a href=\"http://en.wikipedia.org/wiki/Pain\">Pain</li><li><a href=\"http://en.wikipedia.org/wiki/Neuroendocrine cell\">Neuroendocrine cell</li><li><a href=\"http://en.wikipedia.org/wiki/Schadenfreude\">Schadenfreude</li><li><a href=\"http://en.wikipedia.org/wiki/Oral law\">Oral law</li><li><a href=\"http://en.wikipedia.org/wiki/Coulomb's law\">Coulomb's law</li><li><a href=\"http://en.wikipedia.org/wiki/Iliad\">Iliad</li><li><a href=\"http://en.wikipedia.org/wiki/Neurotrophin\">Neurotrophin</li><li><a href=\"http://en.wikipedia.org/wiki/Eliyahu Eliezer Dessler\">Eliyahu Eliezer Dessler</li><li><a href=\"http://en.wikipedia.org/wiki/Wedding\">Wedding</li><li><a href=\"http://en.wikipedia.org/wiki/Mysticism\">Mysticism</li><li><a href=\"http://en.wikipedia.org/wiki/Courtship\">Courtship</li><li><a href=\"http://en.wikipedia.org/wiki/Social movement\">Social movement</li><li><a href=\"http://en.wikipedia.org/wiki/Middle Ages\">Middle Ages</li><li><a href=\"http://en.wikipedia.org/wiki/Boyfriend\">Boyfriend</li><li><a href=\"http://en.wikipedia.org/wiki/Great Commandment\">Great Commandment</li><li><a href=\"http://en.wikipedia.org/wiki/Sentimentality\">Sentimentality</li><li><a href=\"http://en.wikipedia.org/wiki/Concubinage\">Concubinage</li><li><a href=\"http://en.wikipedia.org/wiki/Affinity (sociology)\">Affinity (sociology)</li><li><a href=\"http://en.wikipedia.org/wiki/Testosterone\">Testosterone</li><li><a href=\"http://en.wikipedia.org/wiki/Romance (love)\">Romance (love)</li><li><a href=\"http://en.wikipedia.org/wiki/Serotonin\">Serotonin</li><li><a href=\"http://en.wikipedia.org/wiki/New Testament\">New Testament</li><li><a href=\"http://en.wikipedia.org/wiki/Sexual partner\">Sexual partner</li><li><a href=\"http://en.wikipedia.org/wiki/Cousin\">Cousin</li><li><a href=\"http://en.wikipedia.org/wiki/Robert Indiana\">Robert Indiana</li><li><a href=\"http://en.wikipedia.org/wiki/Polyamory\">Polyamory</li><li><a href=\"http://en.wikipedia.org/wiki/Pheromone\">Pheromone</li><li><a href=\"http://en.wikipedia.org/wiki/Widow\">Widow</li><li><a href=\"http://en.wikipedia.org/wiki/Affair\">Affair</li><li><a href=\"http://en.wikipedia.org/wiki/Childbirth\">Childbirth</li><li><a href=\"http://en.wikipedia.org/wiki/Greek language\">Greek language</li><li><a href=\"http://en.wikipedia.org/wiki/Karnataka\">Karnataka</li><li><a href=\"http://en.wikipedia.org/wiki/Hunger\">Hunger</li><li><a href=\"http://en.wikipedia.org/wiki/Compassionate love\">Compassionate love</li><li><a href=\"http://en.wikipedia.org/wiki/M. Scott Peck\">M. Scott Peck</li><li><a href=\"http://en.wikipedia.org/wiki/Allah\">Allah</li><li><a href=\"http://en.wikipedia.org/wiki/Spiritualism (beliefs)\">Spiritualism (beliefs)</li><li><a href=\"http://en.wikipedia.org/wiki/Sibling\">Sibling</li><li><a href=\"http://en.wikipedia.org/wiki/Eros and Agape\">Eros and Agape</li><li><a href=\"http://en.wikipedia.org/wiki/Social philosophy\">Social philosophy</li><li><a href=\"http://en.wikipedia.org/wiki/Azerbaijani language\">Azerbaijani language</li><li><a href=\"http://en.wikipedia.org/wiki/Robert Sternberg\">Robert Sternberg</li><li><a href=\"http://en.wikipedia.org/wiki/Enzo Emanuele\">Enzo Emanuele</li><li><a href=\"http://en.wikipedia.org/wiki/Paul the Apostle\">Paul the Apostle</li><li><a href=\"http://en.wikipedia.org/wiki/Bride price\">Bride price</li><li><a href=\"http://en.wikipedia.org/wiki/Courtesan\">Courtesan</li><li><a href=\"http://en.wikipedia.org/wiki/Italian language\">Italian language</li><li><a href=\"http://en.wikipedia.org/wiki/Kazakh language\">Kazakh language</li><li><a href=\"http://en.wikipedia.org/wiki/Polygamy\">Polygamy</li><li><a href=\"http://en.wikipedia.org/wiki/Acute stress reaction\">Acute stress reaction</li><li><a href=\"http://en.wikipedia.org/wiki/Relative value (economics)\">Relative value (economics)</li><li><a href=\"http://en.wikipedia.org/wiki/Human reproduction\">Human reproduction</li><li><a href=\"http://en.wikipedia.org/wiki/Anorexia (symptom)\">Anorexia (symptom)</li><li><a href=\"http://en.wikipedia.org/wiki/Psychometrics\">Psychometrics</li><li><a href=\"http://en.wikipedia.org/wiki/Belur\">Belur</li><li><a href=\"http://en.wikipedia.org/wiki/Dowry\">Dowry</li><li><a href=\"http://en.wikipedia.org/wiki/Polyfidelity\">Polyfidelity</li><li><a href=\"http://en.wikipedia.org/wiki/Casual sex\">Casual sex</li><li><a href=\"http://en.wikipedia.org/wiki/Romantic friendship\">Romantic friendship</li><li><a href=\"http://en.wikipedia.org/wiki/Oneida Community\">Oneida Community</li><li><a href=\"http://en.wikipedia.org/wiki/Lovesickness\">Lovesickness</li><li><a href=\"http://en.wikipedia.org/wiki/Sugarcane\">Sugarcane</li><li><a href=\"http://en.wikipedia.org/wiki/Hebrew language\">Hebrew language</li><li><a href=\"http://en.wikipedia.org/wiki/De doctrina christiana\">De doctrina christiana</li><li><a href=\"http://en.wikipedia.org/wiki/Bride service\">Bride service</li><li><a href=\"http://en.wikipedia.org/wiki/Psychologist\">Psychologist</li><li><a href=\"http://en.wikipedia.org/wiki/Mishnah\">Mishnah</li><li><a href=\"http://en.wikipedia.org/wiki/Chennakesava Temple\">Chennakesava Temple</li><li><a href=\"http://en.wikipedia.org/wiki/Enlightenment in Buddhism\">Enlightenment in Buddhism</li><li><a href=\"http://en.wikipedia.org/wiki/Significant other\">Significant other</li><li><a href=\"http://en.wikipedia.org/wiki/Love (disambiguation)\">Love (disambiguation)</li><li><a href=\"http://en.wikipedia.org/wiki/Proverb\">Proverb</li><li><a href=\"http://en.wikipedia.org/wiki/Conjugal love\">Conjugal love</li><li><a href=\"http://en.wikipedia.org/wiki/Kindness\">Kindness</li><li><a href=\"http://en.wikipedia.org/wiki/Specials (Unicode block)\">Specials (Unicode block)</li><li><a href=\"http://en.wikipedia.org/wiki/Desire\">Desire</li><li><a href=\"http://en.wikipedia.org/wiki/Legal separation\">Legal separation</li><li><a href=\"http://en.wikipedia.org/wiki/The Four Loves\">The Four Loves</li><li><a href=\"http://en.wikipedia.org/wiki/Elder abuse\">Elder abuse</li><li><a href=\"http://en.wikipedia.org/wiki/Ren (Confucianism)\">Ren (Confucianism)</li><li><a href=\"http://en.wikipedia.org/wiki/Book of Deuteronomy\">Book of Deuteronomy</li><li><a href=\"http://en.wikipedia.org/wiki/Mistress (lover)\">Mistress (lover)</li><li><a href=\"http://en.wikipedia.org/wiki/Gita Govinda\">Gita Govinda</li><li><a href=\"http://en.wikipedia.org/wiki/Stendhal\">Stendhal</li><li><a href=\"http://en.wikipedia.org/wiki/Unconditional love\">Unconditional love</li><li><a href=\"http://en.wikipedia.org/wiki/Kamadeva\">Kamadeva</li><li><a href=\"http://en.wikipedia.org/wiki/Sexual repression\">Sexual repression</li><li><a href=\"http://en.wikipedia.org/wiki/Pleasure center\">Pleasure center</li><li><a href=\"http://en.wikipedia.org/wiki/Broken heart\">Broken heart</li><li><a href=\"http://en.wikipedia.org/wiki/Polyandry\">Polyandry</li><li><a href=\"http://en.wikipedia.org/wiki/Mexico\">Mexico</li><li><a href=\"http://en.wikipedia.org/wiki/Culture of Iran\">Culture of Iran</li><li><a href=\"http://en.wikipedia.org/wiki/Rabbi\">Rabbi</li><li><a href=\"http://en.wikipedia.org/wiki/Jeremy Griffith\">Jeremy Griffith</li><li><a href=\"http://en.wikipedia.org/wiki/Love letter\">Love letter</li><li><a href=\"http://en.wikipedia.org/wiki/Lust\">Lust</li><li><a href=\"http://en.wikipedia.org/wiki/Socialism\">Socialism</li><li><a href=\"http://en.wikipedia.org/wiki/Graffiti\">Graffiti</li><li><a href=\"http://en.wikipedia.org/wiki/Meiji Restoration\">Meiji Restoration</li><li><a href=\"http://en.wikipedia.org/wiki/Adultery\">Adultery</li><li><a href=\"http://en.wikipedia.org/wiki/Immune system\">Immune system</li><li><a href=\"http://en.wikipedia.org/wiki/Heart rate\">Heart rate</li><li><a href=\"http://en.wikipedia.org/wiki/Hafez\">Hafez</li><li><a href=\"http://en.wikipedia.org/wiki/Ecclesiastes\">Ecclesiastes</li><li><a href=\"http://en.wikipedia.org/wiki/Confucianism\">Confucianism</li><li><a href=\"http://en.wikipedia.org/wiki/Rati\">Rati</li></ul>"
      ],
      "text/plain": [
       "<IPython.core.display.HTML object>"
      ]
     },
     "metadata": {},
     "output_type": "display_data"
    },
    {
     "name": "stdout",
     "output_type": "stream",
     "text": [
      "274\n"
     ]
    }
   ],
   "source": [
    "print_h(\"english concepts that are only on the english page\")\n",
    "print_list(set(convergence[\"en\"][\"en\"]) - set([ x[1] for x in convergence[\"fr\"][\"en\"] ]), \"en\")\n",
    "print len(set(convergence[\"en\"][\"en\"]) - set([ x[1] for x in convergence[\"fr\"][\"en\"] ]))"
   ]
  },
  {
   "cell_type": "code",
   "execution_count": 13,
   "metadata": {
    "collapsed": false,
    "scrolled": false
   },
   "outputs": [
    {
     "data": {
      "text/html": [
       "<h2>french concepts that are only on the french page</h2>"
      ],
      "text/plain": [
       "<IPython.core.display.HTML object>"
      ]
     },
     "metadata": {},
     "output_type": "display_data"
    },
    {
     "data": {
      "text/html": [
       "<ul><li><a href=\"http://fr.wikipedia.org/wiki/Idolâtrie\">Idolâtrie</li><li><a href=\"http://fr.wikipedia.org/wiki/Bondage des testicules et torture du pénis\">Bondage des testicules et torture du pénis</li><li><a href=\"http://fr.wikipedia.org/wiki/Thierry Lodé\">Thierry Lodé</li><li><a href=\"http://fr.wikipedia.org/wiki/Anglais\">Anglais</li><li><a href=\"http://fr.wikipedia.org/wiki/Idéal du Moi - Moi idéal\">Idéal du Moi - Moi idéal</li><li><a href=\"http://fr.wikipedia.org/wiki/Psychanalyse\">Psychanalyse</li><li><a href=\"http://fr.wikipedia.org/wiki/Fragments d'un discours amoureux\">Fragments d'un discours amoureux</li><li><a href=\"http://fr.wikipedia.org/wiki/De rerum natura\">De rerum natura</li><li><a href=\"http://fr.wikipedia.org/wiki/Amour (fleuve)\">Amour (fleuve)</li><li><a href=\"http://fr.wikipedia.org/wiki/Poésie\">Poésie</li><li><a href=\"http://fr.wikipedia.org/wiki/Sexualité orale\">Sexualité orale</li><li><a href=\"http://fr.wikipedia.org/wiki/Jean Duvignaud\">Jean Duvignaud</li><li><a href=\"http://fr.wikipedia.org/wiki/Politesse\">Politesse</li><li><a href=\"http://fr.wikipedia.org/wiki/Sens (linguistique)\">Sens (linguistique)</li><li><a href=\"http://fr.wikipedia.org/wiki/Voltaire\">Voltaire</li><li><a href=\"http://fr.wikipedia.org/wiki/Helen Fischer\">Helen Fischer</li><li><a href=\"http://fr.wikipedia.org/wiki/Marc-Alain Ouaknin\">Marc-Alain Ouaknin</li><li><a href=\"http://fr.wikipedia.org/wiki/Lucrèce\">Lucrèce</li><li><a href=\"http://fr.wikipedia.org/wiki/Arthur Schopenhauer\">Arthur Schopenhauer</li><li><a href=\"http://fr.wikipedia.org/wiki/François (pape)\">François (pape)</li><li><a href=\"http://fr.wikipedia.org/wiki/Homo sapiens\">Homo sapiens</li><li><a href=\"http://fr.wikipedia.org/wiki/Gaieté (émotion)\">Gaieté (émotion)</li><li><a href=\"http://fr.wikipedia.org/wiki/CFNM\">CFNM</li><li><a href=\"http://fr.wikipedia.org/wiki/Psyché (mythologie)\">Psyché (mythologie)</li><li><a href=\"http://fr.wikipedia.org/wiki/Baruch Spinoza\">Baruch Spinoza</li><li><a href=\"http://fr.wikipedia.org/wiki/Patriotisme\">Patriotisme</li><li><a href=\"http://fr.wikipedia.org/wiki/Alexandre Cabanel\">Alexandre Cabanel</li><li><a href=\"http://fr.wikipedia.org/wiki/Bouddha\">Bouddha</li><li><a href=\"http://fr.wikipedia.org/wiki/Méfiance\">Méfiance</li><li><a href=\"http://fr.wikipedia.org/wiki/Coït interrompu\">Coït interrompu</li><li><a href=\"http://fr.wikipedia.org/wiki/Infection sexuellement transmissible\">Infection sexuellement transmissible</li><li><a href=\"http://fr.wikipedia.org/wiki/Planification familiale\">Planification familiale</li><li><a href=\"http://fr.wikipedia.org/wiki/Révolution sexuelle\">Révolution sexuelle</li><li><a href=\"http://fr.wikipedia.org/wiki/Amour (homonymie)\">Amour (homonymie)</li><li><a href=\"http://fr.wikipedia.org/wiki/Cravate de notaire\">Cravate de notaire</li><li><a href=\"http://fr.wikipedia.org/wiki/Zygmunt Bauman\">Zygmunt Bauman</li><li><a href=\"http://fr.wikipedia.org/wiki/Fierté\">Fierté</li><li><a href=\"http://fr.wikipedia.org/wiki/Univers invisible\">Univers invisible</li><li><a href=\"http://fr.wikipedia.org/wiki/Église catholique\">Église catholique</li><li><a href=\"http://fr.wikipedia.org/wiki/2014\">2014</li><li><a href=\"http://fr.wikipedia.org/wiki/Existentialisme\">Existentialisme</li><li><a href=\"http://fr.wikipedia.org/wiki/Mère\">Mère</li><li><a href=\"http://fr.wikipedia.org/wiki/Préraphaélisme\">Préraphaélisme</li><li><a href=\"http://fr.wikipedia.org/wiki/Élisabeth Badinter\">Élisabeth Badinter</li><li><a href=\"http://fr.wikipedia.org/wiki/Jean Pic de la Mirandole\">Jean Pic de la Mirandole</li><li><a href=\"http://fr.wikipedia.org/wiki/Frisson\">Frisson</li><li><a href=\"http://fr.wikipedia.org/wiki/Amour dans le soufisme\">Amour dans le soufisme</li><li><a href=\"http://fr.wikipedia.org/wiki/Liberté, Égalité, Fraternité\">Liberté, Égalité, Fraternité</li><li><a href=\"http://fr.wikipedia.org/wiki/Traque furtive\">Traque furtive</li><li><a href=\"http://fr.wikipedia.org/wiki/Sciences humaines et sociales\">Sciences humaines et sociales</li><li><a href=\"http://fr.wikipedia.org/wiki/Identification (psychanalyse)\">Identification (psychanalyse)</li><li><a href=\"http://fr.wikipedia.org/wiki/Johann Wolfgang von Goethe\">Johann Wolfgang von Goethe</li><li><a href=\"http://fr.wikipedia.org/wiki/Cybersexe\">Cybersexe</li><li><a href=\"http://fr.wikipedia.org/wiki/Incarnation (christianisme)\">Incarnation (christianisme)</li><li><a href=\"http://fr.wikipedia.org/wiki/1er janvier\">1er janvier</li><li><a href=\"http://fr.wikipedia.org/wiki/Métaphysique\">Métaphysique</li><li><a href=\"http://fr.wikipedia.org/wiki/Le Bon Usage\">Le Bon Usage</li><li><a href=\"http://fr.wikipedia.org/wiki/Fille (parenté)\">Fille (parenté)</li><li><a href=\"http://fr.wikipedia.org/wiki/Musique\">Musique</li><li><a href=\"http://fr.wikipedia.org/wiki/Sexualité de groupe\">Sexualité de groupe</li><li><a href=\"http://fr.wikipedia.org/wiki/Søren Kierkegaard\">Søren Kierkegaard</li><li><a href=\"http://fr.wikipedia.org/wiki/Ennui\">Ennui</li><li><a href=\"http://fr.wikipedia.org/wiki/Prostitution au Népal\">Prostitution au Népal</li><li><a href=\"http://fr.wikipedia.org/wiki/Snowballing\">Snowballing</li><li><a href=\"http://fr.wikipedia.org/wiki/Substantif\">Substantif</li><li><a href=\"http://fr.wikipedia.org/wiki/Michel Foucault\">Michel Foucault</li><li><a href=\"http://fr.wikipedia.org/wiki/Reproduction (biologie)\">Reproduction (biologie)</li><li><a href=\"http://fr.wikipedia.org/wiki/Éjaculation précoce\">Éjaculation précoce</li><li><a href=\"http://fr.wikipedia.org/wiki/Art\">Art</li><li><a href=\"http://fr.wikipedia.org/wiki/Amérique du Nord\">Amérique du Nord</li><li><a href=\"http://fr.wikipedia.org/wiki/Prostitution en République populaire de Chine\">Prostitution en République populaire de Chine</li><li><a href=\"http://fr.wikipedia.org/wiki/Rapport sexuel\">Rapport sexuel</li><li><a href=\"http://fr.wikipedia.org/wiki/Perversion\">Perversion</li><li><a href=\"http://fr.wikipedia.org/wiki/Maurice Grevisse\">Maurice Grevisse</li><li><a href=\"http://fr.wikipedia.org/wiki/Solitude\">Solitude</li><li><a href=\"http://fr.wikipedia.org/wiki/Libertin\">Libertin</li><li><a href=\"http://fr.wikipedia.org/wiki/Guerre de Troie\">Guerre de Troie</li><li><a href=\"http://fr.wikipedia.org/wiki/Afrique\">Afrique</li><li><a href=\"http://fr.wikipedia.org/wiki/Jean-Jacques Rousseau\">Jean-Jacques Rousseau</li><li><a href=\"http://fr.wikipedia.org/wiki/Célibat\">Célibat</li><li><a href=\"http://fr.wikipedia.org/wiki/Transsubstantiation\">Transsubstantiation</li><li><a href=\"http://fr.wikipedia.org/wiki/Caresse\">Caresse</li><li><a href=\"http://fr.wikipedia.org/wiki/La Naissance de Vénus (Cabanel)\">La Naissance de Vénus (Cabanel)</li><li><a href=\"http://fr.wikipedia.org/wiki/Homme\">Homme</li><li><a href=\"http://fr.wikipedia.org/wiki/Pénélope\">Pénélope</li><li><a href=\"http://fr.wikipedia.org/wiki/Bondage et discipline, domination et soumission, sado-masochisme\">Bondage et discipline, domination et soumission, sado-masochisme</li><li><a href=\"http://fr.wikipedia.org/wiki/Le Verrou (Fragonard)\">Le Verrou (Fragonard)</li><li><a href=\"http://fr.wikipedia.org/wiki/Ovide\">Ovide</li><li><a href=\"http://fr.wikipedia.org/wiki/Défécation\">Défécation</li><li><a href=\"http://fr.wikipedia.org/wiki/Aphrodite\">Aphrodite</li><li><a href=\"http://fr.wikipedia.org/wiki/Massage érotique\">Massage érotique</li><li><a href=\"http://fr.wikipedia.org/wiki/Hétérosexualité\">Hétérosexualité</li><li><a href=\"http://fr.wikipedia.org/wiki/Littérature et sexualité\">Littérature et sexualité</li><li><a href=\"http://fr.wikipedia.org/wiki/Soirée câlin\">Soirée câlin</li><li><a href=\"http://fr.wikipedia.org/wiki/Mort\">Mort</li><li><a href=\"http://fr.wikipedia.org/wiki/Contragestion\">Contragestion</li><li><a href=\"http://fr.wikipedia.org/wiki/Jean-Luc Nancy\">Jean-Luc Nancy</li><li><a href=\"http://fr.wikipedia.org/wiki/Majorité sexuelle\">Majorité sexuelle</li><li><a href=\"http://fr.wikipedia.org/wiki/Contrôle des naissances\">Contrôle des naissances</li><li><a href=\"http://fr.wikipedia.org/wiki/Hypertrophie\">Hypertrophie</li><li><a href=\"http://fr.wikipedia.org/wiki/Bukkake\">Bukkake</li><li><a href=\"http://fr.wikipedia.org/wiki/André Goosse\">André Goosse</li><li><a href=\"http://fr.wikipedia.org/wiki/Prostitution masculine\">Prostitution masculine</li><li><a href=\"http://fr.wikipedia.org/wiki/Péché\">Péché</li><li><a href=\"http://fr.wikipedia.org/wiki/Fils (parenté)\">Fils (parenté)</li><li><a href=\"http://fr.wikipedia.org/wiki/Jesus Christ Pose\">Jesus Christ Pose</li><li><a href=\"http://fr.wikipedia.org/wiki/Tabou\">Tabou</li><li><a href=\"http://fr.wikipedia.org/wiki/Anus\">Anus</li><li><a href=\"http://fr.wikipedia.org/wiki/Empédocle\">Empédocle</li><li><a href=\"http://fr.wikipedia.org/wiki/Dominique Sels\">Dominique Sels</li><li><a href=\"http://fr.wikipedia.org/wiki/Bifle\">Bifle</li><li><a href=\"http://fr.wikipedia.org/wiki/Dépression (psychiatrie)\">Dépression (psychiatrie)</li><li><a href=\"http://fr.wikipedia.org/wiki/Zoophilie\">Zoophilie</li><li><a href=\"http://fr.wikipedia.org/wiki/Amour maternel\">Amour maternel</li><li><a href=\"http://fr.wikipedia.org/wiki/Zeus\">Zeus</li><li><a href=\"http://fr.wikipedia.org/wiki/Comportement érotique\">Comportement érotique</li><li><a href=\"http://fr.wikipedia.org/wiki/Union du lotus\">Union du lotus</li><li><a href=\"http://fr.wikipedia.org/wiki/1er juin\">1er juin</li><li><a href=\"http://fr.wikipedia.org/wiki/Tentative de suicide\">Tentative de suicide</li><li><a href=\"http://fr.wikipedia.org/wiki/Sexologie\">Sexologie</li><li><a href=\"http://fr.wikipedia.org/wiki/Isolement social\">Isolement social</li><li><a href=\"http://fr.wikipedia.org/wiki/Zèle\">Zèle</li><li><a href=\"http://fr.wikipedia.org/wiki/Vagin\">Vagin</li><li><a href=\"http://fr.wikipedia.org/wiki/Du cul à la bouche\">Du cul à la bouche</li><li><a href=\"http://fr.wikipedia.org/wiki/Sandro Botticelli\">Sandro Botticelli</li><li><a href=\"http://fr.wikipedia.org/wiki/Gang bang\">Gang bang</li><li><a href=\"http://fr.wikipedia.org/wiki/Primates\">Primates</li><li><a href=\"http://fr.wikipedia.org/wiki/Romantisme\">Romantisme</li><li><a href=\"http://fr.wikipedia.org/wiki/Langues brittoniques\">Langues brittoniques</li><li><a href=\"http://fr.wikipedia.org/wiki/Éjaculation faciale\">Éjaculation faciale</li><li><a href=\"http://fr.wikipedia.org/wiki/Homosexualité\">Homosexualité</li><li><a href=\"http://fr.wikipedia.org/wiki/Fraternité\">Fraternité</li><li><a href=\"http://fr.wikipedia.org/wiki/Angoisse\">Angoisse</li><li><a href=\"http://fr.wikipedia.org/wiki/Zone érogène\">Zone érogène</li><li><a href=\"http://fr.wikipedia.org/wiki/Moyen-Orient\">Moyen-Orient</li><li><a href=\"http://fr.wikipedia.org/wiki/Roland Barthes\">Roland Barthes</li><li><a href=\"http://fr.wikipedia.org/wiki/Joie\">Joie</li><li><a href=\"http://fr.wikipedia.org/wiki/Felching\">Felching</li><li><a href=\"http://fr.wikipedia.org/wiki/Neurologie\">Neurologie</li><li><a href=\"http://fr.wikipedia.org/wiki/Tristan und Isolde\">Tristan und Isolde</li><li><a href=\"http://fr.wikipedia.org/wiki/Interdit (anthropologie)\">Interdit (anthropologie)</li><li><a href=\"http://fr.wikipedia.org/wiki/La Philosophie dans le boudoir\">La Philosophie dans le boudoir</li><li><a href=\"http://fr.wikipedia.org/wiki/Incompatibilisme\">Incompatibilisme</li><li><a href=\"http://fr.wikipedia.org/wiki/Du cul à la chatte\">Du cul à la chatte</li><li><a href=\"http://fr.wikipedia.org/wiki/Humeur\">Humeur</li><li><a href=\"http://fr.wikipedia.org/wiki/Ganymède\">Ganymède</li><li><a href=\"http://fr.wikipedia.org/wiki/Justice sociale\">Justice sociale</li><li><a href=\"http://fr.wikipedia.org/wiki/Cœur (symbole)\">Cœur (symbole)</li><li><a href=\"http://fr.wikipedia.org/wiki/Roman (littérature)\">Roman (littérature)</li><li><a href=\"http://fr.wikipedia.org/wiki/Marsile Ficin\">Marsile Ficin</li><li><a href=\"http://fr.wikipedia.org/wiki/Serviteurs de Jésus et Marie\">Serviteurs de Jésus et Marie</li><li><a href=\"http://fr.wikipedia.org/wiki/Prostitution\">Prostitution</li><li><a href=\"http://fr.wikipedia.org/wiki/Fellation\">Fellation</li><li><a href=\"http://fr.wikipedia.org/wiki/Vie\">Vie</li><li><a href=\"http://fr.wikipedia.org/wiki/États-Unis\">États-Unis</li><li><a href=\"http://fr.wikipedia.org/wiki/Position 99\">Position 99</li><li><a href=\"http://fr.wikipedia.org/wiki/Jean-Luc Marion\">Jean-Luc Marion</li><li><a href=\"http://fr.wikipedia.org/wiki/Flamme (combustion)\">Flamme (combustion)</li><li><a href=\"http://fr.wikipedia.org/wiki/Contrôle de l'orgasme\">Contrôle de l'orgasme</li><li><a href=\"http://fr.wikipedia.org/wiki/Intension et extension\">Intension et extension</li><li><a href=\"http://fr.wikipedia.org/wiki/Équanimité\">Équanimité</li><li><a href=\"http://fr.wikipedia.org/wiki/Journée mondiale de la paix\">Journée mondiale de la paix</li><li><a href=\"http://fr.wikipedia.org/wiki/Janvier 2014\">Janvier 2014</li><li><a href=\"http://fr.wikipedia.org/wiki/Sodomie\">Sodomie</li><li><a href=\"http://fr.wikipedia.org/wiki/Parent (famille)\">Parent (famille)</li><li><a href=\"http://fr.wikipedia.org/wiki/Brûlure\">Brûlure</li><li><a href=\"http://fr.wikipedia.org/wiki/Planète (revue)\">Planète (revue)</li><li><a href=\"http://fr.wikipedia.org/wiki/Brouette (position sexuelle)\">Brouette (position sexuelle)</li><li><a href=\"http://fr.wikipedia.org/wiki/Conscience\">Conscience</li><li><a href=\"http://fr.wikipedia.org/wiki/Position du chevauchement\">Position du chevauchement</li><li><a href=\"http://fr.wikipedia.org/wiki/IVe siècle\">IVe siècle</li><li><a href=\"http://fr.wikipedia.org/wiki/Chanson\">Chanson</li><li><a href=\"http://fr.wikipedia.org/wiki/Institut national de la recherche agronomique\">Institut national de la recherche agronomique</li><li><a href=\"http://fr.wikipedia.org/wiki/Prostitution en France\">Prostitution en France</li><li><a href=\"http://fr.wikipedia.org/wiki/Georges Bataille\">Georges Bataille</li><li><a href=\"http://fr.wikipedia.org/wiki/Position du missionnaire\">Position du missionnaire</li><li><a href=\"http://fr.wikipedia.org/wiki/Responsabilité\">Responsabilité</li><li><a href=\"http://fr.wikipedia.org/wiki/Jupiter (mythologie)\">Jupiter (mythologie)</li><li><a href=\"http://fr.wikipedia.org/wiki/Levrette (position sexuelle)\">Levrette (position sexuelle)</li><li><a href=\"http://fr.wikipedia.org/wiki/Purification de la mémoire\">Purification de la mémoire</li><li><a href=\"http://fr.wikipedia.org/wiki/Fist-fucking\">Fist-fucking</li><li><a href=\"http://fr.wikipedia.org/wiki/Aristophane\">Aristophane</li><li><a href=\"http://fr.wikipedia.org/wiki/Animal\">Animal</li><li><a href=\"http://fr.wikipedia.org/wiki/Pédophilie\">Pédophilie</li><li><a href=\"http://fr.wikipedia.org/wiki/Circoncision\">Circoncision</li><li><a href=\"http://fr.wikipedia.org/wiki/Fétichisme\">Fétichisme</li><li><a href=\"http://fr.wikipedia.org/wiki/69 (position sexuelle)\">69 (position sexuelle)</li><li><a href=\"http://fr.wikipedia.org/wiki/Ulysse\">Ulysse</li><li><a href=\"http://fr.wikipedia.org/wiki/Hippie\">Hippie</li><li><a href=\"http://fr.wikipedia.org/wiki/Europe\">Europe</li><li><a href=\"http://fr.wikipedia.org/wiki/Sociologie\">Sociologie</li><li><a href=\"http://fr.wikipedia.org/wiki/Perception\">Perception</li><li><a href=\"http://fr.wikipedia.org/wiki/Socrate\">Socrate</li><li><a href=\"http://fr.wikipedia.org/wiki/Le Gai Savoir (Nietzsche)\">Le Gai Savoir (Nietzsche)</li><li><a href=\"http://fr.wikipedia.org/wiki/1980\">1980</li><li><a href=\"http://fr.wikipedia.org/wiki/Nature\">Nature</li><li><a href=\"http://fr.wikipedia.org/wiki/Espagnol\">Espagnol</li><li><a href=\"http://fr.wikipedia.org/wiki/Système de récompense\">Système de récompense</li><li><a href=\"http://fr.wikipedia.org/wiki/Planète\">Planète</li><li><a href=\"http://fr.wikipedia.org/wiki/Paix\">Paix</li><li><a href=\"http://fr.wikipedia.org/wiki/Hostie\">Hostie</li><li><a href=\"http://fr.wikipedia.org/wiki/Henri Fantin-Latour\">Henri Fantin-Latour</li><li><a href=\"http://fr.wikipedia.org/wiki/Creampie\">Creampie</li><li><a href=\"http://fr.wikipedia.org/wiki/Société (sciences sociales)\">Société (sciences sociales)</li><li><a href=\"http://fr.wikipedia.org/wiki/Anulingus\">Anulingus</li><li><a href=\"http://fr.wikipedia.org/wiki/Tantrisme\">Tantrisme</li><li><a href=\"http://fr.wikipedia.org/wiki/Œil\">Œil</li><li><a href=\"http://fr.wikipedia.org/wiki/Désir\">Désir</li><li><a href=\"http://fr.wikipedia.org/wiki/Zoologie\">Zoologie</li><li><a href=\"http://fr.wikipedia.org/wiki/Phèdre (Platon)\">Phèdre (Platon)</li><li><a href=\"http://fr.wikipedia.org/wiki/Aliénation\">Aliénation</li><li><a href=\"http://fr.wikipedia.org/wiki/Futur\">Futur</li><li><a href=\"http://fr.wikipedia.org/wiki/Agression sexuelle\">Agression sexuelle</li><li><a href=\"http://fr.wikipedia.org/wiki/Gourou\">Gourou</li><li><a href=\"http://fr.wikipedia.org/wiki/Jean-Honoré Fragonard\">Jean-Honoré Fragonard</li><li><a href=\"http://fr.wikipedia.org/wiki/Abstinence\">Abstinence</li><li><a href=\"http://fr.wikipedia.org/wiki/Confiance\">Confiance</li><li><a href=\"http://fr.wikipedia.org/wiki/Jouet sexuel\">Jouet sexuel</li><li><a href=\"http://fr.wikipedia.org/wiki/Léda (mythologie)\">Léda (mythologie)</li><li><a href=\"http://fr.wikipedia.org/wiki/Concept\">Concept</li><li><a href=\"http://fr.wikipedia.org/wiki/Mystère (christianisme)\">Mystère (christianisme)</li><li><a href=\"http://fr.wikipedia.org/wiki/Allégorie\">Allégorie</li><li><a href=\"http://fr.wikipedia.org/wiki/Littérature\">Littérature</li><li><a href=\"http://fr.wikipedia.org/wiki/Position du bateau ivre\">Position du bateau ivre</li><li><a href=\"http://fr.wikipedia.org/wiki/Musée du Louvre\">Musée du Louvre</li><li><a href=\"http://fr.wikipedia.org/wiki/Déviance\">Déviance</li><li><a href=\"http://fr.wikipedia.org/wiki/Couple (droit et sociologie)\">Couple (droit et sociologie)</li><li><a href=\"http://fr.wikipedia.org/wiki/Le Choc amoureux\">Le Choc amoureux</li><li><a href=\"http://fr.wikipedia.org/wiki/Masturbation\">Masturbation</li><li><a href=\"http://fr.wikipedia.org/wiki/Pornographie au Japon\">Pornographie au Japon</li><li><a href=\"http://fr.wikipedia.org/wiki/Sens (physiologie)\">Sens (physiologie)</li><li><a href=\"http://fr.wikipedia.org/wiki/Gokkun\">Gokkun</li><li><a href=\"http://fr.wikipedia.org/wiki/Totalité et infini\">Totalité et infini</li><li><a href=\"http://fr.wikipedia.org/wiki/Comportement\">Comportement</li><li><a href=\"http://fr.wikipedia.org/wiki/Avortement\">Avortement</li><li><a href=\"http://fr.wikipedia.org/wiki/Pays\">Pays</li><li><a href=\"http://fr.wikipedia.org/wiki/Création (théologie)\">Création (théologie)</li><li><a href=\"http://fr.wikipedia.org/wiki/Préliminaire\">Préliminaire</li><li><a href=\"http://fr.wikipedia.org/wiki/Orgasme\">Orgasme</li><li><a href=\"http://fr.wikipedia.org/wiki/Handjob\">Handjob</li><li><a href=\"http://fr.wikipedia.org/wiki/Relation amoureuse\">Relation amoureuse</li><li><a href=\"http://fr.wikipedia.org/wiki/Culture\">Culture</li><li><a href=\"http://fr.wikipedia.org/wiki/Friedrich Nietzsche\">Friedrich Nietzsche</li><li><a href=\"http://fr.wikipedia.org/wiki/Toile\">Toile</li><li><a href=\"http://fr.wikipedia.org/wiki/Éthique (Spinoza)\">Éthique (Spinoza)</li><li><a href=\"http://fr.wikipedia.org/wiki/Conjoint\">Conjoint</li><li><a href=\"http://fr.wikipedia.org/wiki/Amour\">Amour</li><li><a href=\"http://fr.wikipedia.org/wiki/Ou bien... ou bien\">Ou bien... ou bien</li><li><a href=\"http://fr.wikipedia.org/wiki/Néomalthusianisme\">Néomalthusianisme</li><li><a href=\"http://fr.wikipedia.org/wiki/Club échangiste\">Club échangiste</li><li><a href=\"http://fr.wikipedia.org/wiki/Sécurité\">Sécurité</li><li><a href=\"http://fr.wikipedia.org/wiki/Fatalisme\">Fatalisme</li><li><a href=\"http://fr.wikipedia.org/wiki/Pornographie\">Pornographie</li><li><a href=\"http://fr.wikipedia.org/wiki/Souhait\">Souhait</li><li><a href=\"http://fr.wikipedia.org/wiki/Élégie\">Élégie</li><li><a href=\"http://fr.wikipedia.org/wiki/Tristan et Iseut\">Tristan et Iseut</li><li><a href=\"http://fr.wikipedia.org/wiki/Sentiment\">Sentiment</li><li><a href=\"http://fr.wikipedia.org/wiki/Années 1960\">Années 1960</li><li><a href=\"http://fr.wikipedia.org/wiki/Révélation dans le catholicisme\">Révélation dans le catholicisme</li><li><a href=\"http://fr.wikipedia.org/wiki/Esprit\">Esprit</li><li><a href=\"http://fr.wikipedia.org/wiki/Le Monde comme Volonté et comme Représentation\">Le Monde comme Volonté et comme Représentation</li><li><a href=\"http://fr.wikipedia.org/wiki/Français\">Français</li><li><a href=\"http://fr.wikipedia.org/wiki/Fidèle\">Fidèle</li><li><a href=\"http://fr.wikipedia.org/wiki/Pères de l'Église\">Pères de l'Église</li><li><a href=\"http://fr.wikipedia.org/wiki/Cupidon\">Cupidon</li><li><a href=\"http://fr.wikipedia.org/wiki/Peace and love\">Peace and love</li><li><a href=\"http://fr.wikipedia.org/wiki/Singe\">Singe</li><li><a href=\"http://fr.wikipedia.org/wiki/Prochain\">Prochain</li><li><a href=\"http://fr.wikipedia.org/wiki/Juin 1980\">Juin 1980</li><li><a href=\"http://fr.wikipedia.org/wiki/Vocalisation copulatoire\">Vocalisation copulatoire</li><li><a href=\"http://fr.wikipedia.org/wiki/Autofellation\">Autofellation</li><li><a href=\"http://fr.wikipedia.org/wiki/Joie de vivre\">Joie de vivre</li><li><a href=\"http://fr.wikipedia.org/wiki/Droits de l'homme\">Droits de l'homme</li><li><a href=\"http://fr.wikipedia.org/wiki/Hans Urs von Balthasar\">Hans Urs von Balthasar</li><li><a href=\"http://fr.wikipedia.org/wiki/Ma vie secrète\">Ma vie secrète</li><li><a href=\"http://fr.wikipedia.org/wiki/Jacques Derrida\">Jacques Derrida</li><li><a href=\"http://fr.wikipedia.org/wiki/Cunnilingus\">Cunnilingus</li><li><a href=\"http://fr.wikipedia.org/wiki/Lanza del Vasto\">Lanza del Vasto</li><li><a href=\"http://fr.wikipedia.org/wiki/Âme sœur\">Âme sœur</li><li><a href=\"http://fr.wikipedia.org/wiki/Prostitution au Japon\">Prostitution au Japon</li><li><a href=\"http://fr.wikipedia.org/wiki/Position union de l'aigle\">Position union de l'aigle</li><li><a href=\"http://fr.wikipedia.org/wiki/Espèces eucharistiques\">Espèces eucharistiques</li><li><a href=\"http://fr.wikipedia.org/wiki/Lien social (sociologie)\">Lien social (sociologie)</li><li><a href=\"http://fr.wikipedia.org/wiki/Histoire des représentations érotiques\">Histoire des représentations érotiques</li><li><a href=\"http://fr.wikipedia.org/wiki/Europe fille d'Agénor\">Europe fille d'Agénor</li><li><a href=\"http://fr.wikipedia.org/wiki/Séduction\">Séduction</li><li><a href=\"http://fr.wikipedia.org/wiki/Stimulation vaginale\">Stimulation vaginale</li><li><a href=\"http://fr.wikipedia.org/wiki/Adulte\">Adulte</li><li><a href=\"http://fr.wikipedia.org/wiki/Liberté sexuelle et anarchisme\">Liberté sexuelle et anarchisme</li><li><a href=\"http://fr.wikipedia.org/wiki/Vincent Cespedes\">Vincent Cespedes</li><li><a href=\"http://fr.wikipedia.org/wiki/Tendresse\">Tendresse</li><li><a href=\"http://fr.wikipedia.org/wiki/Gorge profonde (pratique sexuelle)\">Gorge profonde (pratique sexuelle)</li><li><a href=\"http://fr.wikipedia.org/wiki/Peine (émotion)\">Peine (émotion)</li><li><a href=\"http://fr.wikipedia.org/wiki/Impuissance sexuelle\">Impuissance sexuelle</li><li><a href=\"http://fr.wikipedia.org/wiki/Saint-Sacrement\">Saint-Sacrement</li><li><a href=\"http://fr.wikipedia.org/wiki/Excision\">Excision</li><li><a href=\"http://fr.wikipedia.org/wiki/International Standard Book Number\">International Standard Book Number</li><li><a href=\"http://fr.wikipedia.org/wiki/Homosexualité dans les sources chrétiennes latines\">Homosexualité dans les sources chrétiennes latines</li><li><a href=\"http://fr.wikipedia.org/wiki/Sexualité\">Sexualité</li><li><a href=\"http://fr.wikipedia.org/wiki/Baiser\">Baiser</li><li><a href=\"http://fr.wikipedia.org/wiki/Tourisme sexuel\">Tourisme sexuel</li><li><a href=\"http://fr.wikipedia.org/wiki/Somme théologique\">Somme théologique</li><li><a href=\"http://fr.wikipedia.org/wiki/Histoire\">Histoire</li><li><a href=\"http://fr.wikipedia.org/wiki/Double pénétration\">Double pénétration</li><li><a href=\"http://fr.wikipedia.org/wiki/Pulsions (psychanalyse)\">Pulsions (psychanalyse)</li><li><a href=\"http://fr.wikipedia.org/wiki/Frigidité\">Frigidité</li><li><a href=\"http://fr.wikipedia.org/wiki/Faites l'amour, pas la guerre\">Faites l'amour, pas la guerre</li><li><a href=\"http://fr.wikipedia.org/wiki/Donatien Alphonse François de Sade\">Donatien Alphonse François de Sade</li><li><a href=\"http://fr.wikipedia.org/wiki/Irrumation\">Irrumation</li><li><a href=\"http://fr.wikipedia.org/wiki/Lumière rouge\">Lumière rouge</li><li><a href=\"http://fr.wikipedia.org/wiki/Pédérastie\">Pédérastie</li><li><a href=\"http://fr.wikipedia.org/wiki/Vénus (mythologie)\">Vénus (mythologie)</li><li><a href=\"http://fr.wikipedia.org/wiki/Barebacking\">Barebacking</li><li><a href=\"http://fr.wikipedia.org/wiki/Paternité\">Paternité</li><li><a href=\"http://fr.wikipedia.org/wiki/William Bouguereau\">William Bouguereau</li><li><a href=\"http://fr.wikipedia.org/wiki/Position sexuelle\">Position sexuelle</li><li><a href=\"http://fr.wikipedia.org/wiki/Addiction\">Addiction</li><li><a href=\"http://fr.wikipedia.org/wiki/Cortex cérébral\">Cortex cérébral</li><li><a href=\"http://fr.wikipedia.org/wiki/Art poétique\">Art poétique</li><li><a href=\"http://fr.wikipedia.org/wiki/Crime passionnel\">Crime passionnel</li><li><a href=\"http://fr.wikipedia.org/wiki/Bonobo\">Bonobo</li><li><a href=\"http://fr.wikipedia.org/wiki/Ier siècle\">Ier siècle</li><li><a href=\"http://fr.wikipedia.org/wiki/Principe (philosophie)\">Principe (philosophie)</li><li><a href=\"http://fr.wikipedia.org/wiki/Stimulation des tétons\">Stimulation des tétons</li><li><a href=\"http://fr.wikipedia.org/wiki/Jean-Paul II\">Jean-Paul II</li><li><a href=\"http://fr.wikipedia.org/wiki/Éducation sexuelle\">Éducation sexuelle</li><li><a href=\"http://fr.wikipedia.org/wiki/Matériel\">Matériel</li><li><a href=\"http://fr.wikipedia.org/wiki/Liste de locutions latines\">Liste de locutions latines</li><li><a href=\"http://fr.wikipedia.org/wiki/Tibet\">Tibet</li><li><a href=\"http://fr.wikipedia.org/wiki/Mission\">Mission</li><li><a href=\"http://fr.wikipedia.org/wiki/Doigtage\">Doigtage</li><li><a href=\"http://fr.wikipedia.org/wiki/Le Banquet (Platon)\">Le Banquet (Platon)</li><li><a href=\"http://fr.wikipedia.org/wiki/Emmanuel Levinas\">Emmanuel Levinas</li><li><a href=\"http://fr.wikipedia.org/wiki/Vivekananda\">Vivekananda</li><li><a href=\"http://fr.wikipedia.org/wiki/Francesco Alberoni\">Francesco Alberoni</li><li><a href=\"http://fr.wikipedia.org/wiki/Études de genre\">Études de genre</li><li><a href=\"http://fr.wikipedia.org/wiki/Beau\">Beau</li><li><a href=\"http://fr.wikipedia.org/wiki/Arts plastiques\">Arts plastiques</li><li><a href=\"http://fr.wikipedia.org/wiki/Libido\">Libido</li><li><a href=\"http://fr.wikipedia.org/wiki/Islam\">Islam</li></ul>"
      ],
      "text/plain": [
       "<IPython.core.display.HTML object>"
      ]
     },
     "metadata": {},
     "output_type": "display_data"
    },
    {
     "name": "stdout",
     "output_type": "stream",
     "text": [
      "340\n"
     ]
    }
   ],
   "source": [
    "print_h(\"french concepts that are only on the french page\")\n",
    "print_list(set(convergence[\"fr\"][\"fr\"]) - set([ x[1] for x in convergence[\"en\"][\"fr\"] ]), \"fr\")\n",
    "print len(set(convergence[\"fr\"][\"fr\"]) - set([ x[1] for x in convergence[\"en\"][\"fr\"] ]))"
   ]
  }
 ],
 "metadata": {
  "kernelspec": {
   "display_name": "Python 2",
   "language": "python",
   "name": "python2"
  },
  "language_info": {
   "codemirror_mode": {
    "name": "ipython",
    "version": 2
   },
   "file_extension": ".py",
   "mimetype": "text/x-python",
   "name": "python",
   "nbconvert_exporter": "python",
   "pygments_lexer": "ipython2",
   "version": "2.7.9"
  }
 },
 "nbformat": 4,
 "nbformat_minor": 0
}
